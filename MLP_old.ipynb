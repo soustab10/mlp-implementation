{
 "cells": [
  {
   "cell_type": "markdown",
   "metadata": {},
   "source": [
    "# Multilayer Perceptron for Optical Character Recognition\n",
    "\n",
    "Amitesh Sahu 21074006 \n",
    "\n",
    "Rituraj Barai 21074024\n",
    "\n",
    "Soustab Haldar 21074029\n"
   ]
  },
  {
   "cell_type": "markdown",
   "metadata": {},
   "source": [
    "# Importing Libraries"
   ]
  },
  {
   "cell_type": "code",
   "execution_count": 66,
   "metadata": {
    "ExecuteTime": {
     "end_time": "2019-07-15T22:16:15.682784Z",
     "start_time": "2019-07-15T22:16:15.559468Z"
    }
   },
   "outputs": [],
   "source": [
    "import time\n",
    "import numpy as np\n",
    "import matplotlib.pyplot as plt\n",
    "import os\n",
    "import csv\n",
    "from PIL import Image\n",
    "from sklearn.model_selection import train_test_split"
   ]
  },
  {
   "cell_type": "markdown",
   "metadata": {},
   "source": [
    "## Load data\n",
    "One of the first steps when working with a new data set is preprocessing.  Our data here is from our dataset  of `28x28` black & white pixel images of handwritten preprocessed lowercase letters from `a-z`.\n",
    "The dataset is in the form of folders for each of the alphabet where the folder name is the label for an image. For MLP, the image data has to be converted into numerical sing pillow library and python lists. Also, the array of image data should be appended with an appropriate label. The label alphabets are comverted into numerical values using a disctionary. Then the images are stored in the form of a list of image data lists."
   ]
  },
  {
   "cell_type": "code",
   "execution_count": 67,
   "metadata": {},
   "outputs": [
    {
     "name": "stdout",
     "output_type": "stream",
     "text": [
      "a\n",
      "b\n",
      "c\n",
      "d\n"
     ]
    },
    {
     "name": "stdout",
     "output_type": "stream",
     "text": [
      "e\n",
      "f\n",
      "g\n",
      "h\n",
      "i\n",
      "j\n",
      "k\n",
      "l\n",
      "m\n",
      "n\n",
      "o\n",
      "p\n",
      "q\n",
      "r\n",
      "s\n",
      "t\n",
      "u\n",
      "v\n",
      "w\n",
      "x\n",
      "y\n",
      "z\n"
     ]
    }
   ],
   "source": [
    "root_dir=r\"D:\\IIT BHU\\SEM V\\IC\\mlp-implementation\\imgs\\\\\"\n",
    "dict = {chr(i): i - ord('a') + 1 for i in range(ord('a'), ord('z') + 1)}\n",
    "lis = []\n",
    "for i in os.listdir(root_dir):\n",
    "    path=os.path.join(root_dir,i)\n",
    "    for j in os.listdir(path):\n",
    "        img_path=os.path.join(path,j)\n",
    "        img = Image.open(img_path).convert('L')\n",
    "        l=[dict[i]]\n",
    "        li=list(img.getdata())\n",
    "        l=l+li\n",
    "        lis+=[l]\n",
    "    print(i)"
   ]
  },
  {
   "cell_type": "markdown",
   "metadata": {},
   "source": [
    "Then we wrtie the image lists into a CSV file for easy access in further uses."
   ]
  },
  {
   "cell_type": "code",
   "execution_count": 68,
   "metadata": {},
   "outputs": [],
   "source": [
    "csv_dir=r\"D:\\IIT BHU\\SEM V\\IC\\mlp-implementation\\data\\data.csv\"\n",
    "with open(csv_dir, 'w',newline='') as csvfile:   \n",
    "    csvwriter = csv.writer(csvfile)  \n",
    "    csvwriter.writerows(lis) "
   ]
  },
  {
   "cell_type": "markdown",
   "metadata": {},
   "source": [
    "Loading the data from the CSV file and converting it into a list of image data lists and a list of labels as X and Y values for the MLP model respectively."
   ]
  },
  {
   "cell_type": "code",
   "execution_count": 69,
   "metadata": {
    "ExecuteTime": {
     "end_time": "2019-07-15T22:16:16.437154Z",
     "start_time": "2019-07-15T22:16:16.431149Z"
    },
    "code_folding": []
   },
   "outputs": [],
   "source": [
    "def load_data(dir_name):\n",
    "    \"\"\"\n",
    "    Function for loading data stored in comma delimited files. Labels for \n",
    "    each image are the first entry in each row.\n",
    "\n",
    "    Parameters\n",
    "    ----------\n",
    "    dit_name : str\n",
    "         Path to where data is contained\n",
    "\n",
    "    Returns\n",
    "    -------\n",
    "    X : array_like\n",
    "        A (N x p=784) matrix of samples \n",
    "    Y : array_like\n",
    "        A (N x 1) matrix of labels for each sample\n",
    "    \"\"\"\n",
    "    data = list() # init a list called `data`\n",
    "    \n",
    "    with open(dir_name,\"r\") as f: # open the directory as a read (\"r\"), call it `f`\n",
    "        for line in f: # iterate through each `line` in `f`\n",
    "            split_line = np.array(line.split(',')) # split lines by `,` - cast the resultant list into an numpy array\n",
    "            split_line = split_line.astype(np.float32) # make the numpy array of str into floats\n",
    "            data.append(split_line) # collect the sample into the `data` list\n",
    "            \n",
    "    data = np.asarray(data) # convert the `data` list into a numpy array for easier indexing\n",
    "    \n",
    "    # as the first number in each sample is the label (0-9), extract that from the rest and return both (X,Y)\n",
    "    return data[:,1:],data[:,0]"
   ]
  },
  {
   "cell_type": "markdown",
   "metadata": {},
   "source": [
    "The dataread from the CSV file has to be split into training and testing values. The training data is used to train the model and the testing data is used to test the model. The data is split into 80% training and 20% testing data. Using random state ensures that the splitting is completely random and does not follow any set pattern."
   ]
  },
  {
   "cell_type": "code",
   "execution_count": 70,
   "metadata": {
    "ExecuteTime": {
     "end_time": "2019-07-15T20:10:03.705155Z",
     "start_time": "2019-07-15T20:09:44.341375Z"
    }
   },
   "outputs": [],
   "source": [
    "X_data,Y_data = load_data(\"data/data.csv\")\n",
    "X_train,X_test,Y_train,Y_test=train_test_split(X_data,Y_data,test_size=0.2,random_state=104)"
   ]
  },
  {
   "cell_type": "markdown",
   "metadata": {},
   "source": [
    "Using the `.shape` attribute of numpy arrays. We see that the shape of `X_train` is `5933 x 784`, thus there are `5933` samples (images) each with dimension `784`. Each sample, typically presented as a 28 x 28 image, is unrolled into a 1-dimensional vector 28 x 28 = 784 contained within each row of `X_train`. Also shape of `X_train` is `1484 X 784`."
   ]
  },
  {
   "cell_type": "code",
   "execution_count": 71,
   "metadata": {
    "ExecuteTime": {
     "end_time": "2019-07-15T20:10:03.720141Z",
     "start_time": "2019-07-15T20:10:03.717400Z"
    }
   },
   "outputs": [
    {
     "name": "stdout",
     "output_type": "stream",
     "text": [
      "The shape of the training set is: 5933 x 784\n",
      "The shape of the test set is: 1484 x 784\n"
     ]
    }
   ],
   "source": [
    "print(f\"The shape of the training set is: {X_train.shape[0]} x {X_train.shape[1]}\")\n",
    "print(f\"The shape of the test set is: {X_test.shape[0]} x {X_test.shape[1]}\")"
   ]
  },
  {
   "cell_type": "markdown",
   "metadata": {},
   "source": [
    "Viewing the data samples. We can see that `Y_train[index]` is `3.0` which means it represents the letter `c`. Subsequently the `X_train[index]` is the array of the values of all the pixels in that image between `0` and `255` brightness levels."
   ]
  },
  {
   "cell_type": "code",
   "execution_count": 72,
   "metadata": {
    "ExecuteTime": {
     "end_time": "2019-07-15T20:10:03.766216Z",
     "start_time": "2019-07-15T20:10:03.734027Z"
    },
    "scrolled": true
   },
   "outputs": [
    {
     "data": {
      "text/plain": [
       "(3.0,\n",
       " array([  0.,   0.,   0.,   0.,   0.,   0.,   0.,   0.,   0.,   0.,   0.,\n",
       "          0.,   0.,   0.,   0.,   0.,   0.,   0.,   0.,   0.,   0.,   0.,\n",
       "          0.,   0.,   0.,   0.,   0.,   0.,   0.,   0.,   0.,   0.,   0.,\n",
       "          0.,   0.,   0.,   0.,   0.,   0.,   0.,   0.,   0.,   0.,   0.,\n",
       "          0.,   0.,   0.,   0.,   0.,   0.,   0.,   0.,   0.,   0.,   0.,\n",
       "          0.,   0.,   0.,   1.,   1.,   1.,   1.,   1.,   0.,   0.,   0.,\n",
       "          0.,   0.,   0.,   0.,   0.,   0.,   0.,   0.,   0.,   0.,   1.,\n",
       "          3.,   2.,   0.,   0.,   0.,   0.,   0.,   1.,   1.,   1.,   1.,\n",
       "          1.,   1.,   1.,   1.,   1.,   0.,   0.,   0.,   0.,   0.,   0.,\n",
       "          0.,   0.,   0.,   0.,   0.,   0.,   0.,   0.,   0.,   0.,   0.,\n",
       "          0.,   0.,   1.,   1.,   1.,   1.,   1.,   1.,   1.,   1.,   1.,\n",
       "          0.,   0.,   0.,   0.,   0.,   0.,   0.,   0.,   0.,   0.,   0.,\n",
       "          0.,   0.,   0.,   0.,   0.,   0.,   0.,   0.,   1.,   1.,   1.,\n",
       "          1.,   1.,   1.,   1.,   1.,   1.,   0.,   0.,   0.,   0.,   0.,\n",
       "          0.,   0.,   0.,   0.,   0.,   0.,   0.,   0.,   0.,   0.,   0.,\n",
       "          0.,   0.,   0.,   1.,   1.,   1.,   1.,   1.,   1.,   1.,   1.,\n",
       "          1.,   0.,   0.,   0.,  44., 103., 162., 162., 131.,  54.,   3.,\n",
       "          0.,   0.,   0.,   0.,   0.,   0.,   0.,   0.,   0.,   1.,   1.,\n",
       "          1.,   1.,   1.,   1.,   1.,   1.,   0.,   0.,   0.,  94., 245.,\n",
       "        255., 162., 162., 189., 255., 149.,   0.,   0.,   0.,   0.,   0.,\n",
       "          0.,   0.,   0.,   1.,   1.,   1.,   1.,   1.,   1.,   1.,   0.,\n",
       "          0.,   0.,  19., 198., 206.,  85.,  15.,   0.,   0.,   4.,  57.,\n",
       "        217.,   0.,   0.,   0.,   0.,   0.,   0.,   0.,   0.,   0.,   1.,\n",
       "          0.,   0.,   1.,   1.,   1.,   0.,   0.,   0., 160., 200.,  25.,\n",
       "          0.,   0.,   0.,   0.,   0.,   0.,   0.,   0.,   0.,   0.,   0.,\n",
       "          0.,   0.,   0.,   0.,   0.,   1.,   0.,   0.,   0.,   1.,   1.,\n",
       "          0.,   0.,  87., 247.,  60.,   0.,   0.,   0.,   0.,   0.,   0.,\n",
       "          0.,   0.,   0.,   0.,   0.,   0.,   0.,   0.,   0.,   0.,   0.,\n",
       "          0.,   0.,   0.,   0.,   1.,   1.,   0.,  45., 237., 113.,   0.,\n",
       "          0.,   0.,   0.,   0.,   0.,   0.,   0.,   0.,   0.,   0.,   0.,\n",
       "          0.,   0.,   0.,   0.,   0.,   0.,   0.,   0.,   0.,   0.,   0.,\n",
       "          0.,   0., 163., 226.,   6.,   0.,   0.,   0.,   0.,   0.,   0.,\n",
       "          0.,   0.,   0.,   0.,   0.,   0.,   0.,   0.,   0.,   0.,   0.,\n",
       "          1.,   0.,   0.,   0.,   0.,   0.,   0.,  24., 222.,  99.,   0.,\n",
       "          0.,   0.,   0.,   0.,   0.,   0.,   0.,   0.,   0.,   0.,   0.,\n",
       "          0.,   0.,   0.,   0.,   0.,   1.,   1.,   0.,   0.,   0.,   0.,\n",
       "          0.,   0., 173., 243.,  28.,   0.,   0.,   0.,   0.,   0.,   0.,\n",
       "          0.,   0.,   0.,   0.,   1.,   1.,   1.,   1.,   1.,   1.,   1.,\n",
       "          1.,   1.,   0.,   0.,   0.,   0.,   0.,   0., 173., 173.,   0.,\n",
       "          0.,   0.,   0.,   0.,   0.,   0.,   0.,   0.,   0.,   0.,   1.,\n",
       "          1.,   1.,   1.,   1.,   1.,   1.,   1.,   1.,   0.,   0.,   0.,\n",
       "          0.,   0.,   0., 173., 120.,   0.,   0.,   0.,   0.,   0.,   0.,\n",
       "          0.,   0.,   0.,   0.,   0.,   0.,   0.,   0.,   0.,   1.,   1.,\n",
       "          1.,   1.,   1.,   0.,   0.,   0.,   0.,   0.,   0., 173.,  79.,\n",
       "          0.,   0.,   0.,   0.,   0.,   0.,   0.,   0.,   0.,   0.,   0.,\n",
       "          0.,   0.,   0.,   0.,   1.,   0.,   0.,   0.,   0.,   0.,   0.,\n",
       "          0.,   0.,   0.,   0., 173., 173.,   0.,   0.,   0.,   0.,   0.,\n",
       "          0.,   0.,   0.,   0.,   0.,   0.,   0.,   0.,   0.,   0.,   0.,\n",
       "          0.,   0.,   0.,   0.,   0.,   0.,   0.,   0.,   0.,   0., 166.,\n",
       "        213.,  23.,   0.,   0.,   0.,   0.,   0.,   0.,   0.,   0.,   0.,\n",
       "          0.,   0.,   0.,   0.,   0.,   0.,   0.,   0.,   0.,   0.,   0.,\n",
       "          0.,   0.,   0.,   0.,   0.,  21., 194., 216., 103.,   0.,   0.,\n",
       "          0.,   0.,   0.,   0.,   0.,   0.,  51.,  54.,  54.,  54.,  31.,\n",
       "          0.,   0.,   0.,   0.,   0.,   0.,   0.,   0.,   0.,   0.,   0.,\n",
       "          0.,  17.,  99., 249., 201., 196., 118.,  93.,  93., 118., 196.,\n",
       "        201., 252., 255., 255., 255., 106.,   0.,   0.,   0.,   0.,   0.,\n",
       "          0.,   0.,   0.,   0.,   0.,   0.,   0.,   0.,   0.,  22., 124.,\n",
       "        124., 124., 124., 124., 124., 124., 124.,  23.,  15.,  15.,  15.,\n",
       "          2.,   0.,   0.,   0.,   0.,   0.,   0.,   0.,   0.,   0.,   0.,\n",
       "          0.,   0.,   0.,   0.,   0.,   0.,   0.,   0.,   0.,   0.,   0.,\n",
       "          0.,   0.,   0.,   0.,   0.,   0.,   0.,   0.,   0.,   0.,   0.,\n",
       "          0.,   0.,   0.,   0.,   0.,   0.,   0.,   0.,   0.,   0.,   0.,\n",
       "          0.,   0.,   0.,   0.,   0.,   0.,   0.,   0.,   0.,   0.,   0.,\n",
       "          0.,   0.,   0.,   0.,   0.,   0.,   0.,   0.,   0.,   0.,   0.,\n",
       "          0.,   0.,   0.,   0.,   0.,   0.,   0.,   0.,   0.,   0.,   0.,\n",
       "          0.,   0.,   0.,   0.,   0.,   0.,   0.,   0.,   0.,   0.,   0.,\n",
       "          0.,   0.,   0.,   0.,   0.,   0.,   0.,   0.,   0.,   0.,   0.,\n",
       "          0.,   0.,   0.,   0.,   0.,   0.,   0.,   0.,   0.,   0.,   0.,\n",
       "          0.,   0.,   0.,   0.,   0.,   0.,   0.,   0.,   0.,   0.,   0.,\n",
       "          0.,   0.,   0.,   0.,   0.,   0.,   0.,   0.,   0.,   0.,   0.,\n",
       "          0.,   0.,   0.,   0.,   0.,   0.,   0.,   0.,   0.,   0.,   0.,\n",
       "          0.,   0.,   0.], dtype=float32))"
      ]
     },
     "execution_count": 72,
     "metadata": {},
     "output_type": "execute_result"
    }
   ],
   "source": [
    "index = 0\n",
    "Y_train[index], X_train[index]"
   ]
  },
  {
   "cell_type": "markdown",
   "metadata": {},
   "source": [
    "While there is nothing in principle wrong with this `0-255` representation, the value of `255` being the maximum is specific to images and somewhat an arbitrary for our purposes. Frequently people opt to rescale their data to range between `0-1`, which will be have some nice mathematical properties for us later. Of course, this can be done by simply dividing each entry in `X_train` and `X_test` by its maximum value (accessed using `X_train.max()`). \n",
    "\n",
    "Further, each label in `Y_train` and `Y_test` are currently alphabets converted to integers (e.g. `25.0` or `2.0`). For categorical data (where image is labeled between `0-26`) we opt for a one-hot encoded representation of our data. "
   ]
  },
  {
   "cell_type": "code",
   "execution_count": 73,
   "metadata": {
    "ExecuteTime": {
     "end_time": "2019-07-15T20:10:03.883943Z",
     "start_time": "2019-07-15T20:10:03.780726Z"
    }
   },
   "outputs": [],
   "source": [
    "# rescale data between 0 - 1.0\n",
    "X_train = X_train/X_train.max()\n",
    "X_test = X_test/X_test.max()\n",
    "\n",
    "# one-hot encode train (y_train) and test (y_test) set labels\n",
    "y_train = np.zeros((Y_train.size, int(Y_train.max()) + 1))\n",
    "y_train[np.arange(Y_train.size),Y_train.astype(int)] = 1.0\n",
    "\n",
    "y_test = np.zeros((Y_test.size, int(Y_test.max()) + 1))\n",
    "y_test[np.arange(Y_test.size),Y_test.astype(int)] = 1.0"
   ]
  },
  {
   "cell_type": "code",
   "execution_count": 74,
   "metadata": {
    "ExecuteTime": {
     "end_time": "2019-07-15T20:10:04.313194Z",
     "start_time": "2019-07-15T20:10:03.897501Z"
    }
   },
   "outputs": [
    {
     "data": {
      "image/png": "[encoded data removed]",
      "text/plain": [
       "<Figure size 1080x720 with 3 Axes>"
      ]
     },
     "metadata": {
      "needs_background": "light"
     },
     "output_type": "display_data"
    }
   ],
   "source": [
    "num_images = 3\n",
    "fig,axes = plt.subplots(1,num_images,figsize=(15,10))\n",
    "for image,label,ax in zip(X_train[:num_images],y_train[:num_images],axes):\n",
    "    ax.imshow(image.reshape(28,28),cmap='gray',vmin=0,vmax=1.0)\n",
    "    for i in range(len(label)):\n",
    "        if(label[i]==1.0):\n",
    "            lab=list(dict.keys())[list(dict.values()).index(i)]\n",
    "    ax.set_title(f\"Label: {lab}\")"
   ]
  },
  {
   "cell_type": "markdown",
   "metadata": {},
   "source": [
    "# Multilayer Perceptron\n"
   ]
  },
  {
   "cell_type": "markdown",
   "metadata": {},
   "source": [
    "This image above represents schematically the conventional perceptron. Each input, represented as a multidimensional vector $\\mathbf{x}=\\{x_0=1,x_1,x_2,\\ldots,x_n\\}$, is multiplied by a set of weights $\\mathbf{w} = \\{w_0,w_1,w_2,\\ldots,w_n\\}$ to produce the weighted sum $$z = \\sum_{i=0}^{n} x_i w_i$$. In the case of a vanilla perceptron, this weighted sum $z$ is lastly fed through as step function to produce the predicted output $a = \\text{step}(z)$. This results in the output where $a=1$ if $z>0$ and $a=0$ if $z<0$.\n",
    "\n",
    "With the output $a$ taking the value 0 or 1, this type of structure really only works for binary classification problems (i.e. situations where each input $\\mathbf{x}$ has one of two intended labels: 0 or 1). The weights $\\mathbf{w}$ in this context can be interpreted as assigning credence to the different inputs $x_i$ based on their relative importance. Notice, there is an additional constant $x_0=1$ concatenated to each input, frequently called the *bias term* or just *the bias*. \n"
   ]
  },
  {
   "cell_type": "markdown",
   "metadata": {},
   "source": [
    "These neural networks are often schematically represented with a series of nodes and arrows as shown on the right. Note, in our application to MNIST each input would be `784+1` dimensional (including the bias) and the output `26` dimensional for representing the one-hot encoded binary vector of output labels. Rather than restricting ourselves to treating each sum with a step function as in the vanilla perceptron, this concept is generalized to any arbitrary function typically called the *activation function*, depicted as $\\sigma(\\cdot)$ in the schematic. In principle almost any function may be an activation function, however people typically use one of the following activation functions due to some nice mathematical properties we will discuss later:"
   ]
  },
  {
   "cell_type": "markdown",
   "metadata": {},
   "source": [
    "### Feed forward\n",
    "Given a predefined neural network *architecture* (the *architecture* of a neural network refers to all the elements necessary to completely define the flow of data, which involve the number and size of hidden layers, which activation functions, the output size, etc.) the process of generating an output from an input is called a *forward* pass. As we shall see, for an MLP the forward pass may be succinctly represented as a series of matrix multiplications."
   ]
  },
  {
   "cell_type": "markdown",
   "metadata": {},
   "source": [
    "Consider the MLP represented schematically above with sigmoid activations $\\sigma$ in the hidden layer. Each neuron in the hidden layers will be weighted sums of the inputs: $$a_j = \\sigma(\\sum_{i=1}^{784} x_i* w_{i,j})$$ for $j=\\{1,2,\\ldots,15\\}$ (notice, there is no bias term in this example). From here it clear to see that the weights $w_{i,j}$ may be compacted into a matrix $W \\in {\\rm I\\!R}^{784\\times15}$ where $W_{i,j} = w_{i,j}$, allowing for all the neurons in the hidden layer to be efficiently calculated using matrix multiplication: $\\mathbf{a}^{(1)} = \\sigma(\\mathbf{z}^{(1)}) = \\sigma(\\mathbf{x}W)$. Where $\\mathbf{a}^{(i)},\\mathbf{z}^{(i)} \\in {\\rm I\\!R}^{1\\times 15}$, with the superscript $(i)$ indicating the assocaited layer number, and $\\mathbf{x} \\in {\\rm I\\!R}^{1\\times 784}$ are both arranged as column vectors. Another, different, weight matrix is needed to transform the hidden layer to the output layer. Let's demarcate these two as $W^{(1)}$ for the matrix which transforms the inputs to the hidden layer $\\mathbf{a}^{(1)}$ and $W^{(2)} \\in {\\rm I\\!R}^{15\\times 10}$ for transforming the hidden layer to the output layer $\\mathbf{z}^{(2)}$. Mathematically, $$\\mathbf{z}^{(2)} = \\sigma(\\mathbf{x}W^{(1)})W^{(2)}$$. Notice, we've yet to treat this output $\\mathbf{z}^{(2)}$ with an activation function."
   ]
  },
  {
   "cell_type": "markdown",
   "metadata": {
    "ExecuteTime": {
     "end_time": "2019-07-15T22:32:36.274844Z",
     "start_time": "2019-07-15T22:32:36.261999Z"
    }
   },
   "source": [
    "The last step of process for classification tasks is actually producing a prediction from these numbers in the output layer $\\mathbf{z}^{(2)}$. Typically, in the case of multi-label classification, this is done using a *softmax* activation function which effectively converts the output neurons into probabilities for each label. This has the mathematical form, $$\\text{softmax}(\\mathbf{z})_j = \\frac{\\exp(z_j)}{\\sum_{k=0}^{K=9}\\exp{(z_k)}}$$.\n"
   ]
  },
  {
   "cell_type": "markdown",
   "metadata": {},
   "source": [
    "### Backpropagation\n",
    "Now that we have an understanding of how an MLP generates outputs from inputs, we engage the problem of how to actually *train* this neural network. *Training* a neural network (in a supervised setting, which means each input comes with a known output) refers to the process of iteratively updating the weights of the network to improve it's performance. The performance of the neural network is evaluated using a *loss function* which quantitatively measures how \"close\" the neural network output is to the true output. In short, using *backpropagation* we aim to minimize the loss function with respect to the weights (also called *parameters*) of the neural network.     "
   ]
  },
  {
   "cell_type": "markdown",
   "metadata": {},
   "source": [
    "# Multilayer perceptron: the code\n"
   ]
  },
  {
   "cell_type": "markdown",
   "metadata": {},
   "source": [
    "## Feed forward"
   ]
  },
  {
   "cell_type": "markdown",
   "metadata": {},
   "source": [
    "Implementing the forward pass of the neural network is relatively simply as everything is basically just a series of matrix multiplicaitons. The example we looked at when working through the math had a forward pass which mathematically took the form \n",
    "$\\text{softmax}((\\sigma(\\mathbf{x}W^{(1)})W^{(2)}))$ .\n",
    "We'll of course want to make things a bit more modular by allowing the user to choose some of the neural network paramters, such as the number of hidden layers `N_l` and the nunber of neurons per layer `L`. For simplicity we'll restrict that all the hidden layers are treated with sigmoid activaitons and the final layer processed with a softmax activation, which if you recall will be nessesary for us to ultimately purpose this MLP to make predictions."
   ]
  },
  {
   "cell_type": "markdown",
   "metadata": {},
   "source": [
    "We can start by simply defining our activation functions:"
   ]
  },
  {
   "cell_type": "markdown",
   "metadata": {},
   "source": [
    "The inputs `x`, weight matricies `w`, and activations are in principle all we need to define the forward pass; however, for efficency reasons we'll want to store the outputs of the hidden layer neurons when performing the forward pass. Storing these values will help us later more quickly calculate the gradients during the backward pass. The `init_layers` functions will initalize these hidden layers as NumPy arrays, doing this before we begin training will help us save some overhead we would otherwise inccur reinitalizing these hidden layers before each forward pass. These hidden layer values will be stored in multi-dimensional matricies, called *tensors*. One dimension of these tensors will be the `batch size` which will indicate the number of samples simultaneously passed to MLP during one training loop (feed forward + backpropagation)."
   ]
  },
  {
   "cell_type": "markdown",
   "metadata": {},
   "source": [
    "In order to perform a forward pass our input `x` is consequtively multiplied by weight matricies passed into the associated activaiton functions. The paramters in these weight matricies will ultimately be learned through backpropagation, but each weight matrix must first be initalized to random values. There are a number of different methods for doing this initalization, but for the moment we'll use a simple approach of just drawing the numerical values from a normal distribution with mean zero and standard deviation 1. We could have also reasonably choosen to simply draw from a uniform distribution on the range `[-1,1]` (why would it be wrong to initalize the weight matricies with all zeros?). "
   ]
  },
  {
   "cell_type": "markdown",
   "metadata": {},
   "source": [
    "Finally, we define the `feed_forward` function to iterate though the calculations to perform the forward pass."
   ]
  },
  {
   "cell_type": "markdown",
   "metadata": {},
   "source": [
    "## Backpropagation"
   ]
  },
  {
   "cell_type": "markdown",
   "metadata": {},
   "source": [
    "Initalizing all the weights, layers, and activations prior to the forward pass makes much of the backward pass implimentation actually quite simple.\n",
    "\n",
    "We define a `sigmoid_prime` function, which simply computes the derivative of the sigmoid activation $\\sigma^{\\prime}$. We'll use this when computing the gradients during the backward pass. Recall, $\\sigma^{\\prime}(x) = \\sigma(x)(1-\\sigma(x))$.\n",
    "\n",
    "We define the `tanh_prime` function, which simply computes the derivative of the tanh activation $\\sigma^{\\prime}$. We'll use this when computing the gradients during the backward pass. Recall, $\\sigma^{\\prime}(x) = 1-\\sigma(x)^2$."
   ]
  },
  {
   "cell_type": "markdown",
   "metadata": {},
   "source": [
    "## Training"
   ]
  },
  {
   "cell_type": "markdown",
   "metadata": {},
   "source": [
    "The number of `epochs` we set defines the number of iterations we train our model. In each `epoch` a number of forward + backward pass are iteratively performed on mini-batches of data until our neural network has *seen* all the training data.\n"
   ]
  },
  {
   "cell_type": "markdown",
   "metadata": {},
   "source": [
    "# Multilayer Perceptron: Code\n"
   ]
  },
  {
   "cell_type": "code",
   "execution_count": 75,
   "metadata": {},
   "outputs": [],
   "source": [
    "class MLP():\n",
    "    \n",
    "    def __init__(self,X,Y,X_val,Y_val,L=1,N_l=128):\n",
    "        self.X = np.concatenate((X,np.ones((X.shape[0],1))),axis=1)\n",
    "        self.Y = np.squeeze(np.eye(27)[Y.astype(int).reshape(-1)])\n",
    "        self.X_val = np.concatenate((X_val,np.ones((X_val.shape[0],1))),axis=1)\n",
    "        self.Y_val = np.squeeze(np.eye(27)[Y_val.astype(int).reshape(-1)])\n",
    "        self.L = L\n",
    "        self.N_l = N_l\n",
    "        self.n_samples = self.X.shape[0]\n",
    "        self.layer_sizes =np.array([self.X.shape[1]]+[N_l]*L+[self.Y.shape[1]]) \n",
    "        self.__init_weights()\n",
    "        self.train_loss = list()\n",
    "        self.train_acc = list()\n",
    "        self.val_loss = list()\n",
    "        self.val_acc = list()\n",
    "        self.train_time = list()\n",
    "        self.tot_time = list()\n",
    "        self.metrics = [self.train_loss,self.train_acc,self.val_loss,self.val_acc,self.train_time,self.tot_time]\n",
    "        \n",
    "    def __sigmoid(self,x):\n",
    "        # VCompute the sigmoid\n",
    "        return 1./(1.+np.exp(-x))\n",
    "\n",
    "    def __tanh(self,x):\n",
    "        return np.tanh(x)\n",
    "    \n",
    "    def __softmax(self,x):\n",
    "        \"\"\"\n",
    "    Compute the softmax of `x`,\n",
    "\n",
    "    Parameters\n",
    "    ----------\n",
    "    x : array_like\n",
    "        (N x dim) array with N samples by p dimensions. dim=10 for MNIST classification. \n",
    "\n",
    "    Returns\n",
    "    -------\n",
    "    softmax(x) : float or array_like\n",
    "        softmax applied to `x` along the first axis.\n",
    "    \"\"\"\n",
    "        # Compute softmax along the rows of the input\n",
    "        exponent = np.exp(x)\n",
    "        return exponent/exponent.sum(axis=1,keepdims=True)\n",
    "    \n",
    "    def __loss(self,y_pred,y):\n",
    "        # Compute the loss along the rows, averaging along the number of samples\n",
    "        return ((-np.log(y_pred))*y).sum(axis=1).mean()\n",
    "    \n",
    "    def __accuracy(self,y_pred,y):  \n",
    "        # Compute the accuracy along the rows, averaging along the number of samples\n",
    "        return np.all(y_pred==y,axis=1).mean()\n",
    "    \n",
    "    def __sigmoid_prime(self,h):\n",
    "        # Compute the derivative of sigmoid where h=sigmoid(x)\n",
    "        return h*(1-h)\n",
    "    \n",
    "    def __tanh_prime(self,h):\n",
    "        return 1-h**2\n",
    "    \n",
    "    def __to_categorical(self,x):  \n",
    "        # Transform probabilities into categorical predictions row-wise, by simply taking the max probability\n",
    "        categorical = np.zeros((x.shape[0],self.Y.shape[1]))\n",
    "        categorical[np.arange(x.shape[0]),x.argmax(axis=1)] = 1\n",
    "        return categorical\n",
    "    \n",
    "    def __init_weights(self):\n",
    "        # Initialize the weights of the network given the sizes of the layers\n",
    "        self.weights = list()\n",
    "        for i in range(self.layer_sizes.shape[0]-1):\n",
    "            self.weights.append(np.random.uniform(-1,1,size=[self.layer_sizes[i],self.layer_sizes[i+1]]))\n",
    "        self.weights = np.asarray(self.weights)\n",
    "    \n",
    "    def __init_layers(self,batch_size):\n",
    "        # Initialize and allocate arrays for the hidden layer activations \n",
    "        self.__h = [np.empty((batch_size,layer)) for layer in self.layer_sizes]\n",
    "    \n",
    "    def __feed_forward(self,batch):\n",
    "        \"\"\"\n",
    "    Perform a forward pass of the neural network.\n",
    "\n",
    "    Parameters\n",
    "    ----------\n",
    "    batch : array_like\n",
    "        (batch_size x dim) matrix of inputs\n",
    "    hidden_layers : list\n",
    "        List of hidden layer outputs\n",
    "    weights : array_like\n",
    "        Array of weight matricies\n",
    "    \n",
    "    Returns\n",
    "    -------\n",
    "    output : array_like\n",
    "        Forward pass output of the MLP\n",
    "    hidden_layers : array_like\n",
    "        List of hidden layer outputs, populated from the forward pass.\n",
    "    \"\"\"\n",
    "        # Perform a forward pass of `batch` samples (N_samples x N_features)\n",
    "        h_l = batch\n",
    "        self.__h[0] = h_l\n",
    "        for i,weights in enumerate(self.weights):\n",
    "            h_l = self.__tanh(h_l.dot(weights))\n",
    "            self.__h[i+1]=h_l\n",
    "        self.__out = self.__softmax(self.__h[-1])\n",
    "    \n",
    "    def __back_prop(self,batch_y):\n",
    "        delta_t = (self.__out - batch_y)*self.__tanh_prime(self.__h[-1])\n",
    "        for i in range(1,len(self.weights)+1):\n",
    "            self.weights[-i]-=self.lr*(self.__h[-i-1].T.dot(delta_t))/self.batch_size\n",
    "            delta_t = self.__tanh_prime(self.__h[-i-1])*(delta_t.dot(self.weights[-i].T))\n",
    "        \"\"\"\n",
    "        Calculate derivative of sigmoid activation based on sigmoid output.\n",
    "\n",
    "        Parameters\n",
    "        ----------\n",
    "        output : array_like\n",
    "            Forward pass output of the MLP\n",
    "        batch_y : array_like\n",
    "            True labels for the samples in the batch\n",
    "        hidden_layers : list\n",
    "            List of hidden layer outputs  \n",
    "        weights : array_like\n",
    "            Array of weight matricies\n",
    "        lr : float\n",
    "            Learning rate for SGD\n",
    "        batch_size : int\n",
    "            Size of a training mini-batch\n",
    "\n",
    "        Returns\n",
    "        -------\n",
    "        weights : array_like\n",
    "            Array of weight matricies, updated from the backpropagation.\n",
    "    \n",
    "        \"\"\"\n",
    "        # Update the weights of the network through back-propagation\n",
    "\n",
    "            \n",
    "    def predict(self,X):\n",
    "        # Generate a categorical, one-hot, prediction given an input X\n",
    "        X = np.concatenate((X,np.ones((X.shape[0],1))),axis=1)\n",
    "        self.__init_layers(X.shape[0])\n",
    "        self.__feed_forward(X)\n",
    "        return self.__to_categorical(self.__out)\n",
    "    \n",
    "    def evaluate(self,X,Y):\n",
    "        # Evaluate the performance (accuracy) predicting on X with true labels Y\n",
    "        prediction = self.predict(X)\n",
    "        return self.__accuracy(prediction,Y)\n",
    "        \n",
    "    def train(self,batch_size=8,epochs=25,lr=1.0):\n",
    "        # Train the model with a given batch size, epochs, and learning rate. Store and print relevant metrics.\n",
    "        self.lr = lr\n",
    "        self.batch_size=batch_size\n",
    "        for epoch in range(epochs):\n",
    "            start = time.time()\n",
    "            \n",
    "            self.__init_layers(self.batch_size)\n",
    "            shuffle = np.random.permutation(self.n_samples)\n",
    "            train_loss = 0\n",
    "            train_acc = 0\n",
    "            X_batches = np.array_split(self.X[shuffle],self.n_samples/self.batch_size)\n",
    "            Y_batches = np.array_split(self.Y[shuffle],self.n_samples/self.batch_size)\n",
    "            for batch_x,batch_y in zip(X_batches,Y_batches):\n",
    "                self.__feed_forward(batch_x)  \n",
    "                train_loss += self.__loss(self.__out,batch_y)\n",
    "                train_acc += self.__accuracy(self.__to_categorical(self.__out),batch_y)\n",
    "                self.__back_prop(batch_y)\n",
    "                \n",
    "            train_loss = (train_loss/len(X_batches))\n",
    "            train_acc = (train_acc/len(X_batches))\n",
    "            self.train_loss.append(train_loss)\n",
    "            self.train_acc.append(train_acc)\n",
    "            \n",
    "            train_time = round(time.time()-start,3)\n",
    "            self.train_time.append(train_time)\n",
    "            \n",
    "            self.__init_layers(self.X_val.shape[0])\n",
    "            self.__feed_forward(self.X_val)\n",
    "            val_loss = self.__loss(self.__out,self.Y_val)\n",
    "            val_acc = self.__accuracy(self.__to_categorical(self.__out),self.Y_val)\n",
    "            self.val_loss.append(val_loss)\n",
    "            self.val_acc.append(val_acc)\n",
    "            \n",
    "            tot_time = round(time.time()-start,3)\n",
    "            self.tot_time.append(tot_time)\n",
    "            \n",
    "            print(f\"Epoch {epoch+1}: loss = {train_loss.round(3)} | acc = {train_acc.round(3)} | val_loss = {val_loss.round(3)} | val_acc = {val_acc.round(3)} | train_time = {train_time} | tot_time = {tot_time}\")\n",
    "    "
   ]
  },
  {
   "cell_type": "markdown",
   "metadata": {},
   "source": [
    "Great, now let's give this a try. Let's create a really simple MLP with only a single hidden layer `L=1` with 128 neurons `N_l=256`. We'll train with a `batch_size=50` for `epochs=100` and a learning rate `lr=0.8`."
   ]
  },
  {
   "cell_type": "code",
   "execution_count": 76,
   "metadata": {},
   "outputs": [
    {
     "name": "stderr",
     "output_type": "stream",
     "text": [
      "C:\\Users\\Soustab\\AppData\\Local\\Temp\\ipykernel_12828\\2763534016.py:72: VisibleDeprecationWarning: Creating an ndarray from ragged nested sequences (which is a list-or-tuple of lists-or-tuples-or ndarrays with different lengths or shapes) is deprecated. If you meant to do this, you must specify 'dtype=object' when creating the ndarray.\n",
      "  self.weights = np.asarray(self.weights)\n"
     ]
    },
    {
     "name": "stdout",
     "output_type": "stream",
     "text": [
      "Epoch 1: loss = 3.335 | acc = 0.091 | val_loss = 3.099 | val_acc = 0.133 | train_time = 0.551 | tot_time = 0.564\n",
      "Epoch 2: loss = 2.856 | acc = 0.188 | val_loss = 2.747 | val_acc = 0.262 | train_time = 0.449 | tot_time = 0.463\n",
      "Epoch 3: loss = 2.528 | acc = 0.324 | val_loss = 2.562 | val_acc = 0.357 | train_time = 0.448 | tot_time = 0.461\n",
      "Epoch 4: loss = 2.34 | acc = 0.415 | val_loss = 2.483 | val_acc = 0.379 | train_time = 0.388 | tot_time = 0.401\n",
      "Epoch 5: loss = 2.223 | acc = 0.479 | val_loss = 2.446 | val_acc = 0.412 | train_time = 0.405 | tot_time = 0.419\n",
      "Epoch 6: loss = 2.149 | acc = 0.521 | val_loss = 2.42 | val_acc = 0.446 | train_time = 0.411 | tot_time = 0.424\n",
      "Epoch 7: loss = 2.098 | acc = 0.553 | val_loss = 2.397 | val_acc = 0.452 | train_time = 0.421 | tot_time = 0.435\n",
      "Epoch 8: loss = 2.054 | acc = 0.576 | val_loss = 2.392 | val_acc = 0.47 | train_time = 0.392 | tot_time = 0.405\n",
      "Epoch 9: loss = 2.023 | acc = 0.597 | val_loss = 2.388 | val_acc = 0.47 | train_time = 0.405 | tot_time = 0.419\n",
      "Epoch 10: loss = 1.993 | acc = 0.62 | val_loss = 2.39 | val_acc = 0.477 | train_time = 0.413 | tot_time = 0.429\n",
      "Epoch 11: loss = 1.973 | acc = 0.63 | val_loss = 2.405 | val_acc = 0.489 | train_time = 0.445 | tot_time = 0.461\n",
      "Epoch 12: loss = 1.955 | acc = 0.645 | val_loss = 2.399 | val_acc = 0.499 | train_time = 0.419 | tot_time = 0.432\n",
      "Epoch 13: loss = 1.941 | acc = 0.654 | val_loss = 2.404 | val_acc = 0.505 | train_time = 0.388 | tot_time = 0.4\n",
      "Epoch 14: loss = 1.931 | acc = 0.666 | val_loss = 2.42 | val_acc = 0.505 | train_time = 0.416 | tot_time = 0.43\n",
      "Epoch 15: loss = 1.923 | acc = 0.671 | val_loss = 2.418 | val_acc = 0.509 | train_time = 0.413 | tot_time = 0.428\n",
      "Epoch 16: loss = 1.915 | acc = 0.678 | val_loss = 2.421 | val_acc = 0.515 | train_time = 0.409 | tot_time = 0.422\n",
      "Epoch 17: loss = 1.908 | acc = 0.683 | val_loss = 2.423 | val_acc = 0.517 | train_time = 0.394 | tot_time = 0.406\n",
      "Epoch 18: loss = 1.902 | acc = 0.689 | val_loss = 2.42 | val_acc = 0.522 | train_time = 0.39 | tot_time = 0.403\n",
      "Epoch 19: loss = 1.898 | acc = 0.692 | val_loss = 2.423 | val_acc = 0.531 | train_time = 0.41 | tot_time = 0.423\n",
      "Epoch 20: loss = 1.894 | acc = 0.696 | val_loss = 2.42 | val_acc = 0.531 | train_time = 0.414 | tot_time = 0.427\n",
      "Epoch 21: loss = 1.89 | acc = 0.701 | val_loss = 2.425 | val_acc = 0.537 | train_time = 0.403 | tot_time = 0.414\n",
      "Epoch 22: loss = 1.887 | acc = 0.705 | val_loss = 2.425 | val_acc = 0.538 | train_time = 0.409 | tot_time = 0.426\n",
      "Epoch 23: loss = 1.884 | acc = 0.707 | val_loss = 2.423 | val_acc = 0.537 | train_time = 0.508 | tot_time = 0.522\n",
      "Epoch 24: loss = 1.881 | acc = 0.711 | val_loss = 2.422 | val_acc = 0.539 | train_time = 0.422 | tot_time = 0.435\n",
      "Epoch 25: loss = 1.879 | acc = 0.713 | val_loss = 2.423 | val_acc = 0.539 | train_time = 0.409 | tot_time = 0.424\n",
      "Epoch 26: loss = 1.877 | acc = 0.716 | val_loss = 2.424 | val_acc = 0.542 | train_time = 0.405 | tot_time = 0.419\n",
      "Epoch 27: loss = 1.875 | acc = 0.717 | val_loss = 2.427 | val_acc = 0.541 | train_time = 0.402 | tot_time = 0.415\n",
      "Epoch 28: loss = 1.873 | acc = 0.72 | val_loss = 2.426 | val_acc = 0.541 | train_time = 0.408 | tot_time = 0.423\n",
      "Epoch 29: loss = 1.872 | acc = 0.723 | val_loss = 2.424 | val_acc = 0.547 | train_time = 0.423 | tot_time = 0.436\n",
      "Epoch 30: loss = 1.87 | acc = 0.725 | val_loss = 2.424 | val_acc = 0.546 | train_time = 0.406 | tot_time = 0.42\n",
      "Epoch 31: loss = 1.869 | acc = 0.725 | val_loss = 2.423 | val_acc = 0.546 | train_time = 0.411 | tot_time = 0.424\n",
      "Epoch 32: loss = 1.867 | acc = 0.727 | val_loss = 2.425 | val_acc = 0.551 | train_time = 0.435 | tot_time = 0.449\n",
      "Epoch 33: loss = 1.866 | acc = 0.729 | val_loss = 2.424 | val_acc = 0.551 | train_time = 0.45 | tot_time = 0.465\n",
      "Epoch 34: loss = 1.865 | acc = 0.73 | val_loss = 2.423 | val_acc = 0.551 | train_time = 0.448 | tot_time = 0.462\n",
      "Epoch 35: loss = 1.864 | acc = 0.732 | val_loss = 2.426 | val_acc = 0.551 | train_time = 0.412 | tot_time = 0.426\n",
      "Epoch 36: loss = 1.863 | acc = 0.732 | val_loss = 2.423 | val_acc = 0.555 | train_time = 0.4 | tot_time = 0.413\n",
      "Epoch 37: loss = 1.861 | acc = 0.733 | val_loss = 2.424 | val_acc = 0.553 | train_time = 0.408 | tot_time = 0.421\n",
      "Epoch 38: loss = 1.86 | acc = 0.734 | val_loss = 2.425 | val_acc = 0.555 | train_time = 0.42 | tot_time = 0.433\n",
      "Epoch 39: loss = 1.859 | acc = 0.736 | val_loss = 2.425 | val_acc = 0.555 | train_time = 0.42 | tot_time = 0.436\n",
      "Epoch 40: loss = 1.859 | acc = 0.737 | val_loss = 2.424 | val_acc = 0.553 | train_time = 0.396 | tot_time = 0.409\n",
      "Epoch 41: loss = 1.858 | acc = 0.738 | val_loss = 2.423 | val_acc = 0.555 | train_time = 0.388 | tot_time = 0.402\n",
      "Epoch 42: loss = 1.857 | acc = 0.737 | val_loss = 2.424 | val_acc = 0.555 | train_time = 0.4 | tot_time = 0.413\n",
      "Epoch 43: loss = 1.856 | acc = 0.739 | val_loss = 2.423 | val_acc = 0.554 | train_time = 0.419 | tot_time = 0.433\n",
      "Epoch 44: loss = 1.856 | acc = 0.74 | val_loss = 2.42 | val_acc = 0.558 | train_time = 0.437 | tot_time = 0.455\n",
      "Epoch 45: loss = 1.856 | acc = 0.741 | val_loss = 2.424 | val_acc = 0.555 | train_time = 0.431 | tot_time = 0.445\n",
      "Epoch 46: loss = 1.855 | acc = 0.741 | val_loss = 2.42 | val_acc = 0.554 | train_time = 0.419 | tot_time = 0.433\n",
      "Epoch 47: loss = 1.854 | acc = 0.742 | val_loss = 2.42 | val_acc = 0.556 | train_time = 0.423 | tot_time = 0.438\n",
      "Epoch 48: loss = 1.853 | acc = 0.742 | val_loss = 2.42 | val_acc = 0.557 | train_time = 0.427 | tot_time = 0.44\n",
      "Epoch 49: loss = 1.853 | acc = 0.742 | val_loss = 2.416 | val_acc = 0.556 | train_time = 0.425 | tot_time = 0.44\n",
      "Epoch 50: loss = 1.852 | acc = 0.742 | val_loss = 2.417 | val_acc = 0.556 | train_time = 0.443 | tot_time = 0.458\n",
      "Epoch 51: loss = 1.851 | acc = 0.743 | val_loss = 2.417 | val_acc = 0.557 | train_time = 0.418 | tot_time = 0.431\n",
      "Epoch 52: loss = 1.851 | acc = 0.744 | val_loss = 2.418 | val_acc = 0.557 | train_time = 0.41 | tot_time = 0.425\n",
      "Epoch 53: loss = 1.851 | acc = 0.745 | val_loss = 2.415 | val_acc = 0.557 | train_time = 0.387 | tot_time = 0.4\n",
      "Epoch 54: loss = 1.85 | acc = 0.745 | val_loss = 2.418 | val_acc = 0.555 | train_time = 0.39 | tot_time = 0.403\n",
      "Epoch 55: loss = 1.85 | acc = 0.745 | val_loss = 2.418 | val_acc = 0.559 | train_time = 0.409 | tot_time = 0.423\n",
      "Epoch 56: loss = 1.85 | acc = 0.746 | val_loss = 2.417 | val_acc = 0.559 | train_time = 0.411 | tot_time = 0.424\n",
      "Epoch 57: loss = 1.849 | acc = 0.746 | val_loss = 2.417 | val_acc = 0.56 | train_time = 0.399 | tot_time = 0.412\n",
      "Epoch 58: loss = 1.849 | acc = 0.747 | val_loss = 2.417 | val_acc = 0.558 | train_time = 0.39 | tot_time = 0.403\n",
      "Epoch 59: loss = 1.849 | acc = 0.748 | val_loss = 2.416 | val_acc = 0.559 | train_time = 0.395 | tot_time = 0.41\n",
      "Epoch 60: loss = 1.849 | acc = 0.748 | val_loss = 2.415 | val_acc = 0.56 | train_time = 0.422 | tot_time = 0.434\n",
      "Epoch 61: loss = 1.848 | acc = 0.75 | val_loss = 2.416 | val_acc = 0.561 | train_time = 0.411 | tot_time = 0.425\n",
      "Epoch 62: loss = 1.848 | acc = 0.75 | val_loss = 2.413 | val_acc = 0.561 | train_time = 0.397 | tot_time = 0.41\n",
      "Epoch 63: loss = 1.847 | acc = 0.751 | val_loss = 2.413 | val_acc = 0.561 | train_time = 0.392 | tot_time = 0.404\n",
      "Epoch 64: loss = 1.847 | acc = 0.751 | val_loss = 2.414 | val_acc = 0.56 | train_time = 0.403 | tot_time = 0.417\n",
      "Epoch 65: loss = 1.847 | acc = 0.752 | val_loss = 2.413 | val_acc = 0.563 | train_time = 0.409 | tot_time = 0.423\n",
      "Epoch 66: loss = 1.846 | acc = 0.753 | val_loss = 2.413 | val_acc = 0.561 | train_time = 0.474 | tot_time = 0.488\n",
      "Epoch 67: loss = 1.846 | acc = 0.753 | val_loss = 2.414 | val_acc = 0.564 | train_time = 0.404 | tot_time = 0.418\n",
      "Epoch 68: loss = 1.845 | acc = 0.754 | val_loss = 2.415 | val_acc = 0.563 | train_time = 0.407 | tot_time = 0.423\n",
      "Epoch 69: loss = 1.845 | acc = 0.754 | val_loss = 2.413 | val_acc = 0.561 | train_time = 0.42 | tot_time = 0.434\n",
      "Epoch 70: loss = 1.844 | acc = 0.755 | val_loss = 2.412 | val_acc = 0.561 | train_time = 0.437 | tot_time = 0.452\n",
      "Epoch 71: loss = 1.844 | acc = 0.756 | val_loss = 2.413 | val_acc = 0.563 | train_time = 0.426 | tot_time = 0.441\n",
      "Epoch 72: loss = 1.844 | acc = 0.756 | val_loss = 2.412 | val_acc = 0.565 | train_time = 0.426 | tot_time = 0.44\n",
      "Epoch 73: loss = 1.844 | acc = 0.756 | val_loss = 2.414 | val_acc = 0.562 | train_time = 0.412 | tot_time = 0.426\n",
      "Epoch 74: loss = 1.844 | acc = 0.757 | val_loss = 2.412 | val_acc = 0.565 | train_time = 0.411 | tot_time = 0.426\n",
      "Epoch 75: loss = 1.843 | acc = 0.757 | val_loss = 2.412 | val_acc = 0.564 | train_time = 0.409 | tot_time = 0.422\n",
      "Epoch 76: loss = 1.843 | acc = 0.757 | val_loss = 2.412 | val_acc = 0.565 | train_time = 0.399 | tot_time = 0.413\n",
      "Epoch 77: loss = 1.843 | acc = 0.757 | val_loss = 2.412 | val_acc = 0.565 | train_time = 0.398 | tot_time = 0.411\n",
      "Epoch 78: loss = 1.842 | acc = 0.758 | val_loss = 2.412 | val_acc = 0.568 | train_time = 0.41 | tot_time = 0.423\n",
      "Epoch 79: loss = 1.842 | acc = 0.758 | val_loss = 2.413 | val_acc = 0.565 | train_time = 0.413 | tot_time = 0.427\n",
      "Epoch 80: loss = 1.842 | acc = 0.758 | val_loss = 2.41 | val_acc = 0.566 | train_time = 0.409 | tot_time = 0.424\n",
      "Epoch 81: loss = 1.841 | acc = 0.758 | val_loss = 2.413 | val_acc = 0.563 | train_time = 0.394 | tot_time = 0.408\n",
      "Epoch 82: loss = 1.841 | acc = 0.759 | val_loss = 2.412 | val_acc = 0.563 | train_time = 0.401 | tot_time = 0.415\n",
      "Epoch 83: loss = 1.841 | acc = 0.759 | val_loss = 2.412 | val_acc = 0.563 | train_time = 0.41 | tot_time = 0.422\n",
      "Epoch 84: loss = 1.84 | acc = 0.759 | val_loss = 2.411 | val_acc = 0.564 | train_time = 0.43 | tot_time = 0.445\n",
      "Epoch 85: loss = 1.84 | acc = 0.759 | val_loss = 2.411 | val_acc = 0.564 | train_time = 0.436 | tot_time = 0.452\n",
      "Epoch 86: loss = 1.84 | acc = 0.76 | val_loss = 2.41 | val_acc = 0.562 | train_time = 0.426 | tot_time = 0.441\n",
      "Epoch 87: loss = 1.84 | acc = 0.76 | val_loss = 2.411 | val_acc = 0.563 | train_time = 0.446 | tot_time = 0.461\n",
      "Epoch 88: loss = 1.839 | acc = 0.76 | val_loss = 2.41 | val_acc = 0.563 | train_time = 0.453 | tot_time = 0.471\n",
      "Epoch 89: loss = 1.839 | acc = 0.76 | val_loss = 2.411 | val_acc = 0.563 | train_time = 0.449 | tot_time = 0.464\n",
      "Epoch 90: loss = 1.839 | acc = 0.76 | val_loss = 2.41 | val_acc = 0.565 | train_time = 0.432 | tot_time = 0.445\n",
      "Epoch 91: loss = 1.839 | acc = 0.76 | val_loss = 2.411 | val_acc = 0.565 | train_time = 0.4 | tot_time = 0.414\n",
      "Epoch 92: loss = 1.839 | acc = 0.76 | val_loss = 2.411 | val_acc = 0.565 | train_time = 0.404 | tot_time = 0.418\n",
      "Epoch 93: loss = 1.839 | acc = 0.76 | val_loss = 2.411 | val_acc = 0.565 | train_time = 0.406 | tot_time = 0.419\n",
      "Epoch 94: loss = 1.839 | acc = 0.76 | val_loss = 2.411 | val_acc = 0.566 | train_time = 0.405 | tot_time = 0.418\n",
      "Epoch 95: loss = 1.838 | acc = 0.761 | val_loss = 2.41 | val_acc = 0.567 | train_time = 0.388 | tot_time = 0.403\n",
      "Epoch 96: loss = 1.838 | acc = 0.761 | val_loss = 2.412 | val_acc = 0.567 | train_time = 0.393 | tot_time = 0.406\n",
      "Epoch 97: loss = 1.838 | acc = 0.762 | val_loss = 2.413 | val_acc = 0.567 | train_time = 0.415 | tot_time = 0.429\n",
      "Epoch 98: loss = 1.838 | acc = 0.762 | val_loss = 2.412 | val_acc = 0.567 | train_time = 0.413 | tot_time = 0.427\n",
      "Epoch 99: loss = 1.838 | acc = 0.762 | val_loss = 2.412 | val_acc = 0.568 | train_time = 0.399 | tot_time = 0.413\n",
      "Epoch 100: loss = 1.838 | acc = 0.762 | val_loss = 2.412 | val_acc = 0.567 | train_time = 0.391 | tot_time = 0.403\n"
     ]
    }
   ],
   "source": [
    "model = MLP(X_train,Y_train,X_test,Y_test,L=1,N_l=256)\n",
    "model.train(batch_size=50,epochs=100,lr=0.8)"
   ]
  },
  {
   "cell_type": "code",
   "execution_count": 78,
   "metadata": {},
   "outputs": [
    {
     "data": {
      "image/png": "[encoded data removed]",
      "text/plain": [
       "<Figure size 1080x360 with 2 Axes>"
      ]
     },
     "metadata": {
      "needs_background": "light"
     },
     "output_type": "display_data"
    }
   ],
   "source": [
    "fig,ax = plt.subplots(1,2,figsize=(15,5))\n",
    "ax[0].plot(model.train_loss,label=\"Train loss\")\n",
    "ax[0].plot(model.val_loss,label=\"Val loss\")\n",
    "ax[0].legend()\n",
    "ax[0].set_xlabel(\"Epoch\")\n",
    "ax[0].set_ylabel(\"Loss\")\n",
    "ax[0].grid()\n",
    "\n",
    "ax[1].plot(model.train_acc,label=\"Train acc\")\n",
    "ax[1].plot(model.val_acc,label=\"Val acc\")\n",
    "ax[1].legend()\n",
    "ax[1].set_xlabel(\"Epoch\")\n",
    "ax[1].set_ylabel(\"Accuracy\")\n",
    "ax[1].grid()"
   ]
  },
  {
   "cell_type": "code",
   "execution_count": 79,
   "metadata": {},
   "outputs": [
    {
     "data": {
      "text/plain": [
       "0.5694070080862533"
      ]
     },
     "execution_count": 79,
     "metadata": {},
     "output_type": "execute_result"
    }
   ],
   "source": [
    "model.evaluate(X_test,y_test)"
   ]
  },
  {
   "cell_type": "markdown",
   "metadata": {},
   "source": [
    "### F1 Score, Recall, and Precision:\n",
    "\n",
    "Precision is the ratio of true positives to the total number of predicted positives. It measures how many of the predicted positive cases are actually positive. A high precision score indicates that the model is good at predicting positive cases.\n",
    "\n",
    "Recall is the ratio of true positives to the total number of actual positives. It measures how many of the actual positive cases are correctly predicted by the model. A high recall score indicates that the model is good at identifying positive cases.\n",
    "\n",
    "F1 Score is the harmonic mean of precision and recall. It is a single score that balances both precision and recall. A high F1 score indicates that the model is good at both identifying positive cases and avoiding false positives."
   ]
  },
  {
   "cell_type": "code",
   "execution_count": 80,
   "metadata": {},
   "outputs": [
    {
     "name": "stdout",
     "output_type": "stream",
     "text": [
      "F1 score: 0.5587620254107325\n",
      "Recall: 0.5694070080862533\n",
      "Precision: 0.5543389396341125\n"
     ]
    }
   ],
   "source": [
    "from sklearn.metrics import precision_score,recall_score,f1_score\n",
    "y_pred=model.predict(X_test)\n",
    "y_pred=(np.argmax(y_pred, axis=1)+1).reshape(-1, 1).flatten()\n",
    "y_test_c=(np.argmax(y_test, axis=1)+1).reshape(-1, 1).flatten()\n",
    "# print(y_test_c)\n",
    "print ('F1 score:', f1_score(y_test_c, y_pred,average='weighted'))\n",
    "print ('Recall:', recall_score(y_test_c, y_pred,average='weighted'))\n",
    "print ('Precision:', precision_score(y_test_c, y_pred,average='weighted'))"
   ]
  }
 ],
 "metadata": {
  "kernelspec": {
   "display_name": "Python 3",
   "language": "python",
   "name": "python3"
  },
  "language_info": {
   "codemirror_mode": {
    "name": "ipython",
    "version": 3
   },
   "file_extension": ".py",
   "mimetype": "text/x-python",
   "name": "python",
   "nbconvert_exporter": "python",
   "pygments_lexer": "ipython3",
   "version": "3.10.4"
  },
  "varInspector": {
   "cols": {
    "lenName": 16,
    "lenType": 16,
    "lenVar": 40
   },
   "kernels_config": {
    "python": {
     "delete_cmd_postfix": "",
     "delete_cmd_prefix": "del ",
     "library": "var_list.py",
     "varRefreshCmd": "print(var_dic_list())"
    },
    "r": {
     "delete_cmd_postfix": ") ",
     "delete_cmd_prefix": "rm(",
     "library": "var_list.r",
     "varRefreshCmd": "cat(var_dic_list()) "
    }
   },
   "types_to_exclude": [
    "module",
    "function",
    "builtin_function_or_method",
    "instance",
    "_Feature"
   ],
   "window_display": false
  }
 },
 "nbformat": 4,
 "nbformat_minor": 2
}
