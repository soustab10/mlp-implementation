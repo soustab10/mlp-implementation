{
 "cells": [
  {
   "cell_type": "markdown",
   "metadata": {},
   "source": [
    "# Multilayer Perceptron for Optical Character Recognition\n",
    "\n",
    "Amitesh Sahu 21074006 \n",
    "\n",
    "Rituraj Barai 21074024\n",
    "\n",
    "Soustab Haldar 21074029\n"
   ]
  },
  {
   "cell_type": "markdown",
   "metadata": {},
   "source": [
    "# Importing Libraries"
   ]
  },
  {
   "cell_type": "code",
   "execution_count": 23,
   "metadata": {
    "ExecuteTime": {
     "end_time": "2019-07-15T22:16:15.682784Z",
     "start_time": "2019-07-15T22:16:15.559468Z"
    }
   },
   "outputs": [],
   "source": [
    "import time\n",
    "import numpy as np\n",
    "import matplotlib.pyplot as plt\n",
    "import os\n",
    "import csv\n",
    "from PIL import Image\n",
    "from sklearn.model_selection import train_test_split"
   ]
  },
  {
   "cell_type": "markdown",
   "metadata": {},
   "source": [
    "## Load data\n",
    "One of the first steps when working with a new data set is preprocessing.  Our data here is from our dataset  of `28x28` black & white pixel images of handwritten preprocessed lowercase letters from `a-z`.\n",
    "The dataset is in the form of folders for each of the alphabet where the folder name is the label for an image. For MLP, the image data has to be converted into numerical sing pillow library and python lists. Also, the array of image data should be appended with an appropriate label. The label alphabets are comverted into numerical values using a disctionary. Then the images are stored in the form of a list of image data lists."
   ]
  },
  {
   "cell_type": "code",
   "execution_count": 24,
   "metadata": {},
   "outputs": [
    {
     "name": "stdout",
     "output_type": "stream",
     "text": [
      "a\n",
      "b\n",
      "c\n",
      "d\n",
      "e\n",
      "f\n",
      "g\n",
      "h\n",
      "i\n",
      "j\n",
      "k\n",
      "l\n",
      "m\n",
      "n\n",
      "o\n",
      "p\n",
      "q\n",
      "r\n",
      "s\n",
      "t\n",
      "u\n",
      "v\n",
      "w\n",
      "x\n",
      "y\n",
      "z\n"
     ]
    }
   ],
   "source": [
    "root_dir=r\"D:\\IIT BHU\\SEM V\\IC\\mlp-implementation\\imgs\\\\\"\n",
    "dict = {chr(i): i - ord('a') + 1 for i in range(ord('a'), ord('z') + 1)}\n",
    "lis = []\n",
    "for i in os.listdir(root_dir):\n",
    "    path=os.path.join(root_dir,i)\n",
    "    for j in os.listdir(path):\n",
    "        img_path=os.path.join(path,j)\n",
    "        img = Image.open(img_path).convert('L')\n",
    "        l=[dict[i]]\n",
    "        li=list(img.getdata())\n",
    "        l=l+li\n",
    "        lis+=[l]\n",
    "    print(i)"
   ]
  },
  {
   "cell_type": "markdown",
   "metadata": {},
   "source": [
    "Then we write the image lists into a CSV file for easy access in further uses."
   ]
  },
  {
   "cell_type": "code",
   "execution_count": 25,
   "metadata": {},
   "outputs": [],
   "source": [
    "csv_dir=r\"D:\\IIT BHU\\SEM V\\IC\\mlp-implementation\\data\\data.csv\"\n",
    "with open(csv_dir, 'w',newline='') as csvfile:   \n",
    "    csvwriter = csv.writer(csvfile)  \n",
    "    csvwriter.writerows(lis) "
   ]
  },
  {
   "cell_type": "markdown",
   "metadata": {},
   "source": [
    "Loading the data from the CSV file and converting it into a list of image data lists and a list of labels as X and Y values for the MLP model respectively."
   ]
  },
  {
   "cell_type": "code",
   "execution_count": 26,
   "metadata": {
    "ExecuteTime": {
     "end_time": "2019-07-15T22:16:16.437154Z",
     "start_time": "2019-07-15T22:16:16.431149Z"
    },
    "code_folding": []
   },
   "outputs": [],
   "source": [
    "def load_data(dir_name):\n",
    "    \"\"\"\n",
    "    Function for loading MNIST data stored in comma delimited files. Labels for \n",
    "    each image are the first entry in each row.\n",
    "\n",
    "    Parameters\n",
    "    ----------\n",
    "    dit_name : str\n",
    "         Path to where data is contained\n",
    "\n",
    "    Returns\n",
    "    -------\n",
    "    X : array_like\n",
    "        A (N x p=784) matrix of samples \n",
    "    Y : array_like\n",
    "        A (N x 1) matrix of labels for each sample\n",
    "    \"\"\"\n",
    "    data = list() # init a list called `data`\n",
    "    \n",
    "    with open(dir_name,\"r\") as f: # open the directory as a read (\"r\"), call it `f`\n",
    "        for line in f: # iterate through each `line` in `f`\n",
    "            split_line = np.array(line.split(',')) # split lines by `,` - cast the resultant list into an numpy array\n",
    "            split_line = split_line.astype(np.float32) # make the numpy array of str into floats\n",
    "            data.append(split_line) # collect the sample into the `data` list\n",
    "            \n",
    "    data = np.asarray(data) # convert the `data` list into a numpy array for easier indexing\n",
    "    \n",
    "    # as the first number in each sample is the label (0-9), extract that from the rest and return both (X,Y)\n",
    "    return data[:,1:],data[:,0]"
   ]
  },
  {
   "cell_type": "markdown",
   "metadata": {},
   "source": [
    "The data read from the CSV file has to be split into training and testing values. The training data is used to train the model and the testing data is used to test the model. The data is split into 80% training and 20% testing data. Using random state ensures that the splitting is completely random and does not follow any set pattern."
   ]
  },
  {
   "cell_type": "code",
   "execution_count": 27,
   "metadata": {
    "ExecuteTime": {
     "end_time": "2019-07-15T20:10:03.705155Z",
     "start_time": "2019-07-15T20:09:44.341375Z"
    }
   },
   "outputs": [],
   "source": [
    "X_data,Y_data = load_data(\"data/data.csv\")\n",
    "X_train,X_test,Y_train,Y_test=train_test_split(X_data,Y_data,test_size=0.2,random_state=104)"
   ]
  },
  {
   "cell_type": "markdown",
   "metadata": {},
   "source": [
    "Using the `.shape` attribute of numpy arrays. We see that the shape of `X_train` is `5933 x 784`, thus there are `5933` samples (images) each with dimension `784`. Each sample, typically presented as a 28 x 28 image, is unrolled into a 1-dimensional vector 28 x 28 = 784 contained within each row of `X_train`. Also shape of `X_train` is `1484 X 784`."
   ]
  },
  {
   "cell_type": "code",
   "execution_count": 28,
   "metadata": {
    "ExecuteTime": {
     "end_time": "2019-07-15T20:10:03.720141Z",
     "start_time": "2019-07-15T20:10:03.717400Z"
    }
   },
   "outputs": [
    {
     "name": "stdout",
     "output_type": "stream",
     "text": [
      "The shape of the training set is: 5933 x 784\n",
      "The shape of the test set is: 1484 x 784\n"
     ]
    }
   ],
   "source": [
    "print(f\"The shape of the training set is: {X_train.shape[0]} x {X_train.shape[1]}\")\n",
    "print(f\"The shape of the test set is: {X_test.shape[0]} x {X_test.shape[1]}\")"
   ]
  },
  {
   "cell_type": "markdown",
   "metadata": {},
   "source": [
    "Viewing the data samples. We can see that `Y_train[index]` is `3.0` which means it represents the letter `c`. Subsequently the `X_train[index]` is the array of the values of all the pixels in that image between `0` and `255` brightness levels."
   ]
  },
  {
   "cell_type": "code",
   "execution_count": 29,
   "metadata": {
    "ExecuteTime": {
     "end_time": "2019-07-15T20:10:03.766216Z",
     "start_time": "2019-07-15T20:10:03.734027Z"
    },
    "scrolled": true
   },
   "outputs": [
    {
     "data": {
      "text/plain": [
       "(3.0,\n",
       " array([  0.,   0.,   0.,   0.,   0.,   0.,   0.,   0.,   0.,   0.,   0.,\n",
       "          0.,   0.,   0.,   0.,   0.,   0.,   0.,   0.,   0.,   0.,   0.,\n",
       "          0.,   0.,   0.,   0.,   0.,   0.,   0.,   0.,   0.,   0.,   0.,\n",
       "          0.,   0.,   0.,   0.,   0.,   0.,   0.,   0.,   0.,   0.,   0.,\n",
       "          0.,   0.,   0.,   0.,   0.,   0.,   0.,   0.,   0.,   0.,   0.,\n",
       "          0.,   0.,   0.,   1.,   1.,   1.,   1.,   1.,   0.,   0.,   0.,\n",
       "          0.,   0.,   0.,   0.,   0.,   0.,   0.,   0.,   0.,   0.,   1.,\n",
       "          3.,   2.,   0.,   0.,   0.,   0.,   0.,   1.,   1.,   1.,   1.,\n",
       "          1.,   1.,   1.,   1.,   1.,   0.,   0.,   0.,   0.,   0.,   0.,\n",
       "          0.,   0.,   0.,   0.,   0.,   0.,   0.,   0.,   0.,   0.,   0.,\n",
       "          0.,   0.,   1.,   1.,   1.,   1.,   1.,   1.,   1.,   1.,   1.,\n",
       "          0.,   0.,   0.,   0.,   0.,   0.,   0.,   0.,   0.,   0.,   0.,\n",
       "          0.,   0.,   0.,   0.,   0.,   0.,   0.,   0.,   1.,   1.,   1.,\n",
       "          1.,   1.,   1.,   1.,   1.,   1.,   0.,   0.,   0.,   0.,   0.,\n",
       "          0.,   0.,   0.,   0.,   0.,   0.,   0.,   0.,   0.,   0.,   0.,\n",
       "          0.,   0.,   0.,   1.,   1.,   1.,   1.,   1.,   1.,   1.,   1.,\n",
       "          1.,   0.,   0.,   0.,  44., 103., 162., 162., 131.,  54.,   3.,\n",
       "          0.,   0.,   0.,   0.,   0.,   0.,   0.,   0.,   0.,   1.,   1.,\n",
       "          1.,   1.,   1.,   1.,   1.,   1.,   0.,   0.,   0.,  94., 245.,\n",
       "        255., 162., 162., 189., 255., 149.,   0.,   0.,   0.,   0.,   0.,\n",
       "          0.,   0.,   0.,   1.,   1.,   1.,   1.,   1.,   1.,   1.,   0.,\n",
       "          0.,   0.,  19., 198., 206.,  85.,  15.,   0.,   0.,   4.,  57.,\n",
       "        217.,   0.,   0.,   0.,   0.,   0.,   0.,   0.,   0.,   0.,   1.,\n",
       "          0.,   0.,   1.,   1.,   1.,   0.,   0.,   0., 160., 200.,  25.,\n",
       "          0.,   0.,   0.,   0.,   0.,   0.,   0.,   0.,   0.,   0.,   0.,\n",
       "          0.,   0.,   0.,   0.,   0.,   1.,   0.,   0.,   0.,   1.,   1.,\n",
       "          0.,   0.,  87., 247.,  60.,   0.,   0.,   0.,   0.,   0.,   0.,\n",
       "          0.,   0.,   0.,   0.,   0.,   0.,   0.,   0.,   0.,   0.,   0.,\n",
       "          0.,   0.,   0.,   0.,   1.,   1.,   0.,  45., 237., 113.,   0.,\n",
       "          0.,   0.,   0.,   0.,   0.,   0.,   0.,   0.,   0.,   0.,   0.,\n",
       "          0.,   0.,   0.,   0.,   0.,   0.,   0.,   0.,   0.,   0.,   0.,\n",
       "          0.,   0., 163., 226.,   6.,   0.,   0.,   0.,   0.,   0.,   0.,\n",
       "          0.,   0.,   0.,   0.,   0.,   0.,   0.,   0.,   0.,   0.,   0.,\n",
       "          1.,   0.,   0.,   0.,   0.,   0.,   0.,  24., 222.,  99.,   0.,\n",
       "          0.,   0.,   0.,   0.,   0.,   0.,   0.,   0.,   0.,   0.,   0.,\n",
       "          0.,   0.,   0.,   0.,   0.,   1.,   1.,   0.,   0.,   0.,   0.,\n",
       "          0.,   0., 173., 243.,  28.,   0.,   0.,   0.,   0.,   0.,   0.,\n",
       "          0.,   0.,   0.,   0.,   1.,   1.,   1.,   1.,   1.,   1.,   1.,\n",
       "          1.,   1.,   0.,   0.,   0.,   0.,   0.,   0., 173., 173.,   0.,\n",
       "          0.,   0.,   0.,   0.,   0.,   0.,   0.,   0.,   0.,   0.,   1.,\n",
       "          1.,   1.,   1.,   1.,   1.,   1.,   1.,   1.,   0.,   0.,   0.,\n",
       "          0.,   0.,   0., 173., 120.,   0.,   0.,   0.,   0.,   0.,   0.,\n",
       "          0.,   0.,   0.,   0.,   0.,   0.,   0.,   0.,   0.,   1.,   1.,\n",
       "          1.,   1.,   1.,   0.,   0.,   0.,   0.,   0.,   0., 173.,  79.,\n",
       "          0.,   0.,   0.,   0.,   0.,   0.,   0.,   0.,   0.,   0.,   0.,\n",
       "          0.,   0.,   0.,   0.,   1.,   0.,   0.,   0.,   0.,   0.,   0.,\n",
       "          0.,   0.,   0.,   0., 173., 173.,   0.,   0.,   0.,   0.,   0.,\n",
       "          0.,   0.,   0.,   0.,   0.,   0.,   0.,   0.,   0.,   0.,   0.,\n",
       "          0.,   0.,   0.,   0.,   0.,   0.,   0.,   0.,   0.,   0., 166.,\n",
       "        213.,  23.,   0.,   0.,   0.,   0.,   0.,   0.,   0.,   0.,   0.,\n",
       "          0.,   0.,   0.,   0.,   0.,   0.,   0.,   0.,   0.,   0.,   0.,\n",
       "          0.,   0.,   0.,   0.,   0.,  21., 194., 216., 103.,   0.,   0.,\n",
       "          0.,   0.,   0.,   0.,   0.,   0.,  51.,  54.,  54.,  54.,  31.,\n",
       "          0.,   0.,   0.,   0.,   0.,   0.,   0.,   0.,   0.,   0.,   0.,\n",
       "          0.,  17.,  99., 249., 201., 196., 118.,  93.,  93., 118., 196.,\n",
       "        201., 252., 255., 255., 255., 106.,   0.,   0.,   0.,   0.,   0.,\n",
       "          0.,   0.,   0.,   0.,   0.,   0.,   0.,   0.,   0.,  22., 124.,\n",
       "        124., 124., 124., 124., 124., 124., 124.,  23.,  15.,  15.,  15.,\n",
       "          2.,   0.,   0.,   0.,   0.,   0.,   0.,   0.,   0.,   0.,   0.,\n",
       "          0.,   0.,   0.,   0.,   0.,   0.,   0.,   0.,   0.,   0.,   0.,\n",
       "          0.,   0.,   0.,   0.,   0.,   0.,   0.,   0.,   0.,   0.,   0.,\n",
       "          0.,   0.,   0.,   0.,   0.,   0.,   0.,   0.,   0.,   0.,   0.,\n",
       "          0.,   0.,   0.,   0.,   0.,   0.,   0.,   0.,   0.,   0.,   0.,\n",
       "          0.,   0.,   0.,   0.,   0.,   0.,   0.,   0.,   0.,   0.,   0.,\n",
       "          0.,   0.,   0.,   0.,   0.,   0.,   0.,   0.,   0.,   0.,   0.,\n",
       "          0.,   0.,   0.,   0.,   0.,   0.,   0.,   0.,   0.,   0.,   0.,\n",
       "          0.,   0.,   0.,   0.,   0.,   0.,   0.,   0.,   0.,   0.,   0.,\n",
       "          0.,   0.,   0.,   0.,   0.,   0.,   0.,   0.,   0.,   0.,   0.,\n",
       "          0.,   0.,   0.,   0.,   0.,   0.,   0.,   0.,   0.,   0.,   0.,\n",
       "          0.,   0.,   0.,   0.,   0.,   0.,   0.,   0.,   0.,   0.,   0.,\n",
       "          0.,   0.,   0.,   0.,   0.,   0.,   0.,   0.,   0.,   0.,   0.,\n",
       "          0.,   0.,   0.], dtype=float32))"
      ]
     },
     "execution_count": 29,
     "metadata": {},
     "output_type": "execute_result"
    }
   ],
   "source": [
    "index = 0\n",
    "Y_train[index], X_train[index]"
   ]
  },
  {
   "cell_type": "markdown",
   "metadata": {},
   "source": [
    "Although the `0-255` representation is not inherently problematic, the choice of `255` as the maximum value is specific to image data and somewhat arbitrary for our purposes. It's common for individuals to transform their data to a `0-1` range, which offers certain mathematical advantages later on. This transformation can be easily achieved by dividing each entry in `X_train` and `X_test` by their respective maximum values, accessible through `X_train.max()`."
   ]
  },
  {
   "cell_type": "code",
   "execution_count": 30,
   "metadata": {
    "ExecuteTime": {
     "end_time": "2019-07-15T20:10:03.883943Z",
     "start_time": "2019-07-15T20:10:03.780726Z"
    }
   },
   "outputs": [
    {
     "name": "stderr",
     "output_type": "stream",
     "text": [
      "C:\\Users\\Soustab\\AppData\\Local\\Temp\\ipykernel_10780\\3197139449.py:7: DeprecationWarning: `np.int` is a deprecated alias for the builtin `int`. To silence this warning, use `int` by itself. Doing this will not modify any behavior and is safe. When replacing `np.int`, you may wish to use e.g. `np.int64` or `np.int32` to specify the precision. If you wish to review your current use, check the release note link for additional information.\n",
      "Deprecated in NumPy 1.20; for more details and guidance: https://numpy.org/devdocs/release/1.20.0-notes.html#deprecations\n",
      "  y_train[np.arange(Y_train.size),Y_train.astype(np.int)] = 1.0\n",
      "C:\\Users\\Soustab\\AppData\\Local\\Temp\\ipykernel_10780\\3197139449.py:10: DeprecationWarning: `np.int` is a deprecated alias for the builtin `int`. To silence this warning, use `int` by itself. Doing this will not modify any behavior and is safe. When replacing `np.int`, you may wish to use e.g. `np.int64` or `np.int32` to specify the precision. If you wish to review your current use, check the release note link for additional information.\n",
      "Deprecated in NumPy 1.20; for more details and guidance: https://numpy.org/devdocs/release/1.20.0-notes.html#deprecations\n",
      "  y_test[np.arange(Y_test.size),Y_test.astype(np.int)] = 1.0\n"
     ]
    }
   ],
   "source": [
    "# rescale data between 0 - 1.0\n",
    "X_train = X_train/X_train.max()\n",
    "X_test = X_test/X_test.max()\n",
    "\n",
    "# one-hot encode train (y_train) and test (y_test) set labels\n",
    "y_train = np.zeros((Y_train.size, int(Y_train.max()) + 1))\n",
    "y_train[np.arange(Y_train.size),Y_train.astype(np.int)] = 1.0\n",
    "\n",
    "y_test = np.zeros((Y_test.size, int(Y_test.max()) + 1))\n",
    "y_test[np.arange(Y_test.size),Y_test.astype(np.int)] = 1.0"
   ]
  },
  {
   "cell_type": "code",
   "execution_count": 31,
   "metadata": {
    "ExecuteTime": {
     "end_time": "2019-07-15T20:10:04.313194Z",
     "start_time": "2019-07-15T20:10:03.897501Z"
    }
   },
   "outputs": [
    {
     "data": {
      "image/png": "[encoded data removed]",
      "text/plain": [
       "<Figure size 1080x720 with 3 Axes>"
      ]
     },
     "metadata": {
      "needs_background": "light"
     },
     "output_type": "display_data"
    }
   ],
   "source": [
    "num_images = 3\n",
    "fig,axes = plt.subplots(1,num_images,figsize=(15,10))\n",
    "for image,label,ax in zip(X_train[:num_images],y_train[:num_images],axes):\n",
    "    ax.imshow(image.reshape(28,28),cmap='gray',vmin=0,vmax=1.0)\n",
    "    for i in range(len(label)):\n",
    "        if(label[i]==1.0):\n",
    "            lab=list(dict.keys())[list(dict.values()).index(i)]\n",
    "    ax.set_title(f\"Label: {lab}\")"
   ]
  },
  {
   "cell_type": "markdown",
   "metadata": {},
   "source": [
    "# Multilayer Perceptron: \n"
   ]
  },
  {
   "cell_type": "markdown",
   "metadata": {},
   "source": [
    "Extending the perceptron to the multilayer perceptron (MLP) simply introduces a intermediate preceptrons (layers) before reading the output and generalizes the step function to a broader class of functions called *activation functions*. "
   ]
  },
  {
   "cell_type": "markdown",
   "metadata": {},
   "source": [
    "### Feed forward\n",
    "Given a predefined neural network *architecture* (the *architecture* of a neural network refers to all the elements necessary to completely define the flow of data, which involve the number and size of hidden layers, which activation functions, the output size, etc.) the process of generating an output from an input is called a *forward* pass. "
   ]
  },
  {
   "cell_type": "markdown",
   "metadata": {},
   "source": [
    "Consider the MLP represented schematically above with sigmoid activations $\\sigma$ in the hidden layer. Each neuron in the hidden layers will be weighted sums of the inputs: $$a_j = \\sigma(\\sum_{i=1}^{784} x_i* w_{i,j})$$ for $j=\\{1,2,\\ldots,15\\}$ "
   ]
  },
  {
   "cell_type": "markdown",
   "metadata": {
    "ExecuteTime": {
     "end_time": "2019-07-15T22:32:36.274844Z",
     "start_time": "2019-07-15T22:32:36.261999Z"
    }
   },
   "source": [
    "The last step of process for classification tasks is actually producing a prediction from these numbers in the output layer $\\mathbf{z}^{(2)}$. Typically, in the case of multi-label classification, this is done using a *softmax* activation function which effectively converts the output neurons into probabilities for each label. This has the mathematical form, $$\\text{softmax}(\\mathbf{z})_j = \\frac{\\exp(z_j)}{\\sum_{k=0}^{K=9}\\exp{(z_k)}}$$.\n",
    "\n"
   ]
  },
  {
   "cell_type": "markdown",
   "metadata": {},
   "source": [
    "## Backpropagation"
   ]
  },
  {
   "cell_type": "markdown",
   "metadata": {},
   "source": [
    "We define a `sigmoid_prime` function, which simply computes the derivative of the sigmoid activation $\\sigma^{\\prime}$. We'll use this when computing the gradients during the backward pass.  $\\sigma^{\\prime}(x) = \\sigma(x)(1-\\sigma(x))$.\n",
    "\n",
    "We define the `tanh_prime` function, which simply computes the derivative of the tanh activation $\\sigma^{\\prime}$. We'll use this when computing the gradients during the backward pass. \n",
    "\n",
    "  $\\sigma^{\\prime}(x) = 1-\\sigma(x)^2$."
   ]
  },
  {
   "cell_type": "markdown",
   "metadata": {},
   "source": [
    "## Training"
   ]
  },
  {
   "cell_type": "markdown",
   "metadata": {},
   "source": [
    "The number of `epochs` we set defines the number of iterations we train our model. In each `epoch` a number of forward + backward pass are iteratively performed on mini-batches of data until our neural network has *seen* all the training data.\n"
   ]
  },
  {
   "cell_type": "markdown",
   "metadata": {},
   "source": [
    "# Multilayer Perceptron: Code\n"
   ]
  },
  {
   "cell_type": "code",
   "execution_count": 32,
   "metadata": {},
   "outputs": [],
   "source": [
    "class MLP():\n",
    "    \n",
    "    def __init__(self,X,Y,X_val,Y_val,L=1,N_l=128):\n",
    "        self.X = np.concatenate((X,np.ones((X.shape[0],1))),axis=1)\n",
    "        self.Y = np.squeeze(np.eye(27)[Y.astype(np.int).reshape(-1)])\n",
    "        self.X_val = np.concatenate((X_val,np.ones((X_val.shape[0],1))),axis=1)\n",
    "        self.Y_val = np.squeeze(np.eye(27)[Y_val.astype(np.int).reshape(-1)])\n",
    "        self.L = L\n",
    "        self.N_l = N_l\n",
    "        self.n_samples = self.X.shape[0]\n",
    "        self.layer_sizes =np.array([self.X.shape[1]]+[N_l]*L+[self.Y.shape[1]]) \n",
    "        self.__init_weights()\n",
    "        self.train_loss = list()\n",
    "        self.train_acc = list()\n",
    "        self.val_loss = list()\n",
    "        self.val_acc = list()\n",
    "        self.train_time = list()\n",
    "        self.tot_time = list()\n",
    "        self.metrics = [self.train_loss,self.train_acc,self.val_loss,self.val_acc,self.train_time,self.tot_time]\n",
    "        \n",
    "    def __sigmoid(self,x):\n",
    "        # VCompute the sigmoid\n",
    "        return 1./(1.+np.exp(-x))\n",
    "\n",
    "    def __tanh(self,x):\n",
    "        return np.tanh(x)\n",
    "    \n",
    "    def __softmax(self,x):\n",
    "        # Compute softmax along the rows of the input\n",
    "        exponent = np.exp(x)\n",
    "        return exponent/exponent.sum(axis=1,keepdims=True)\n",
    "    \n",
    "    def __loss(self,y_pred,y):\n",
    "        # Compute the loss along the rows, averaging along the number of samples\n",
    "        return ((-np.log(y_pred))*y).sum(axis=1).mean()\n",
    "    \n",
    "    def __accuracy(self,y_pred,y):  \n",
    "        # Compute the accuracy along the rows, averaging along the number of samples\n",
    "        return np.all(y_pred==y,axis=1).mean()\n",
    "    \n",
    "    def __sigmoid_prime(self,h):\n",
    "        # Compute the derivative of sigmoid where h=sigmoid(x)\n",
    "        return h*(1-h)\n",
    "    \n",
    "    def __tanh_prime(self,h):\n",
    "        return 1-h**2\n",
    "    \n",
    "    def __to_categorical(self,x):  \n",
    "        # Transform probabilities into categorical predictions row-wise, by simply taking the max probability\n",
    "        categorical = np.zeros((x.shape[0],self.Y.shape[1]))\n",
    "        categorical[np.arange(x.shape[0]),x.argmax(axis=1)] = 1\n",
    "        return categorical\n",
    "    \n",
    "    def __init_weights(self):\n",
    "        # Initialize the weights of the network given the sizes of the layers\n",
    "        self.weights = list()\n",
    "        for i in range(self.layer_sizes.shape[0]-1):\n",
    "            self.weights.append(np.random.uniform(-1,1,size=[self.layer_sizes[i],self.layer_sizes[i+1]]))\n",
    "        self.weights = np.asarray(self.weights)\n",
    "    \n",
    "    def __init_layers(self,batch_size):\n",
    "        # Initialize and allocate arrays for the hidden layer activations \n",
    "        self.__h = [np.empty((batch_size,layer)) for layer in self.layer_sizes]\n",
    "    \n",
    "    def __feed_forward(self,batch):\n",
    "        # Perform a forward pass of `batch` samples (N_samples x N_features)\n",
    "        h_l = batch\n",
    "        self.__h[0] = h_l\n",
    "        for i,weights in enumerate(self.weights):\n",
    "            h_l = self.__tanh(h_l.dot(weights))\n",
    "            self.__h[i+1]=h_l\n",
    "        self.__out = self.__softmax(self.__h[-1])\n",
    "    \n",
    "    def __back_prop(self,batch_y):\n",
    "        # Update the weights of the network through back-propagation\n",
    "        delta_t = (self.__out - batch_y)*self.__tanh_prime(self.__h[-1])\n",
    "        for i in range(1,len(self.weights)+1):\n",
    "            self.weights[-i]-=self.lr*(self.__h[-i-1].T.dot(delta_t))/self.batch_size\n",
    "            delta_t = self.__tanh_prime(self.__h[-i-1])*(delta_t.dot(self.weights[-i].T))\n",
    "            \n",
    "    def predict(self,X):\n",
    "        # Generate a categorical, one-hot, prediction given an input X\n",
    "        X = np.concatenate((X,np.ones((X.shape[0],1))),axis=1)\n",
    "        self.__init_layers(X.shape[0])\n",
    "        self.__feed_forward(X)\n",
    "        return self.__to_categorical(self.__out)\n",
    "    \n",
    "    def evaluate(self,X,Y):\n",
    "        # Evaluate the performance (accuracy) predicting on X with true labels Y\n",
    "        prediction = self.predict(X)\n",
    "        return self.__accuracy(prediction,Y)\n",
    "        \n",
    "    def train(self,batch_size=8,epochs=25,lr=1.0):\n",
    "        # Train the model with a given batch size, epochs, and learning rate. Store and print relevant metrics.\n",
    "        self.lr = lr\n",
    "        self.batch_size=batch_size\n",
    "        for epoch in range(epochs):\n",
    "            start = time.time()\n",
    "            \n",
    "            self.__init_layers(self.batch_size)\n",
    "            shuffle = np.random.permutation(self.n_samples)\n",
    "            train_loss = 0\n",
    "            train_acc = 0\n",
    "            X_batches = np.array_split(self.X[shuffle],self.n_samples/self.batch_size)\n",
    "            Y_batches = np.array_split(self.Y[shuffle],self.n_samples/self.batch_size)\n",
    "            for batch_x,batch_y in zip(X_batches,Y_batches):\n",
    "                self.__feed_forward(batch_x)  \n",
    "                train_loss += self.__loss(self.__out,batch_y)\n",
    "                train_acc += self.__accuracy(self.__to_categorical(self.__out),batch_y)\n",
    "                self.__back_prop(batch_y)\n",
    "                \n",
    "            train_loss = (train_loss/len(X_batches))\n",
    "            train_acc = (train_acc/len(X_batches))\n",
    "            self.train_loss.append(train_loss)\n",
    "            self.train_acc.append(train_acc)\n",
    "            \n",
    "            train_time = round(time.time()-start,3)\n",
    "            self.train_time.append(train_time)\n",
    "            \n",
    "            self.__init_layers(self.X_val.shape[0])\n",
    "            self.__feed_forward(self.X_val)\n",
    "            val_loss = self.__loss(self.__out,self.Y_val)\n",
    "            val_acc = self.__accuracy(self.__to_categorical(self.__out),self.Y_val)\n",
    "            self.val_loss.append(val_loss)\n",
    "            self.val_acc.append(val_acc)\n",
    "            \n",
    "            tot_time = round(time.time()-start,3)\n",
    "            self.tot_time.append(tot_time)\n",
    "            \n",
    "            print(f\"Epoch {epoch+1}: loss = {train_loss.round(3)} | acc = {train_acc.round(3)} | val_loss = {val_loss.round(3)} | val_acc = {val_acc.round(3)} | train_time = {train_time} | tot_time = {tot_time}\")\n",
    "    "
   ]
  },
  {
   "cell_type": "markdown",
   "metadata": {},
   "source": [
    "MLP with only a single hidden layer `L=1` with 128 neurons `N_l=256`. We'll train with a `batch_size=50` for `epochs=100` and a learning rate `lr=0.8`."
   ]
  },
  {
   "cell_type": "code",
   "execution_count": 33,
   "metadata": {},
   "outputs": [
    {
     "name": "stderr",
     "output_type": "stream",
     "text": [
      "C:\\Users\\Soustab\\AppData\\Local\\Temp\\ipykernel_10780\\477408485.py:5: DeprecationWarning: `np.int` is a deprecated alias for the builtin `int`. To silence this warning, use `int` by itself. Doing this will not modify any behavior and is safe. When replacing `np.int`, you may wish to use e.g. `np.int64` or `np.int32` to specify the precision. If you wish to review your current use, check the release note link for additional information.\n",
      "Deprecated in NumPy 1.20; for more details and guidance: https://numpy.org/devdocs/release/1.20.0-notes.html#deprecations\n",
      "  self.Y = np.squeeze(np.eye(27)[Y.astype(np.int).reshape(-1)])\n",
      "C:\\Users\\Soustab\\AppData\\Local\\Temp\\ipykernel_10780\\477408485.py:7: DeprecationWarning: `np.int` is a deprecated alias for the builtin `int`. To silence this warning, use `int` by itself. Doing this will not modify any behavior and is safe. When replacing `np.int`, you may wish to use e.g. `np.int64` or `np.int32` to specify the precision. If you wish to review your current use, check the release note link for additional information.\n",
      "Deprecated in NumPy 1.20; for more details and guidance: https://numpy.org/devdocs/release/1.20.0-notes.html#deprecations\n",
      "  self.Y_val = np.squeeze(np.eye(27)[Y_val.astype(np.int).reshape(-1)])\n",
      "C:\\Users\\Soustab\\AppData\\Local\\Temp\\ipykernel_10780\\477408485.py:59: VisibleDeprecationWarning: Creating an ndarray from ragged nested sequences (which is a list-or-tuple of lists-or-tuples-or ndarrays with different lengths or shapes) is deprecated. If you meant to do this, you must specify 'dtype=object' when creating the ndarray.\n",
      "  self.weights = np.asarray(self.weights)\n"
     ]
    },
    {
     "name": "stdout",
     "output_type": "stream",
     "text": [
      "Epoch 1: loss = 2.914 | acc = 0.236 | val_loss = 2.524 | val_acc = 0.337 | train_time = 1.739 | tot_time = 1.754\n",
      "Epoch 2: loss = 2.379 | acc = 0.433 | val_loss = 2.375 | val_acc = 0.487 | train_time = 1.448 | tot_time = 1.461\n",
      "Epoch 3: loss = 2.235 | acc = 0.527 | val_loss = 2.302 | val_acc = 0.464 | train_time = 1.709 | tot_time = 1.722\n",
      "Epoch 4: loss = 2.165 | acc = 0.575 | val_loss = 2.232 | val_acc = 0.518 | train_time = 1.362 | tot_time = 1.376\n",
      "Epoch 5: loss = 2.102 | acc = 0.597 | val_loss = 2.209 | val_acc = 0.539 | train_time = 1.607 | tot_time = 1.62\n",
      "Epoch 6: loss = 2.063 | acc = 0.612 | val_loss = 2.175 | val_acc = 0.543 | train_time = 1.398 | tot_time = 1.411\n",
      "Epoch 7: loss = 2.025 | acc = 0.637 | val_loss = 2.17 | val_acc = 0.563 | train_time = 1.366 | tot_time = 1.379\n",
      "Epoch 8: loss = 2.004 | acc = 0.664 | val_loss = 2.112 | val_acc = 0.594 | train_time = 1.348 | tot_time = 1.362\n",
      "Epoch 9: loss = 1.98 | acc = 0.677 | val_loss = 2.106 | val_acc = 0.594 | train_time = 1.357 | tot_time = 1.369\n",
      "Epoch 10: loss = 1.963 | acc = 0.684 | val_loss = 2.093 | val_acc = 0.604 | train_time = 1.343 | tot_time = 1.357\n",
      "Epoch 11: loss = 1.94 | acc = 0.712 | val_loss = 2.068 | val_acc = 0.642 | train_time = 1.344 | tot_time = 1.358\n",
      "Epoch 12: loss = 1.916 | acc = 0.736 | val_loss = 2.052 | val_acc = 0.659 | train_time = 1.338 | tot_time = 1.352\n",
      "Epoch 13: loss = 1.901 | acc = 0.726 | val_loss = 2.091 | val_acc = 0.626 | train_time = 1.411 | tot_time = 1.423\n",
      "Epoch 14: loss = 1.891 | acc = 0.735 | val_loss = 2.067 | val_acc = 0.631 | train_time = 1.355 | tot_time = 1.368\n",
      "Epoch 15: loss = 1.877 | acc = 0.739 | val_loss = 2.038 | val_acc = 0.646 | train_time = 1.351 | tot_time = 1.364\n",
      "Epoch 16: loss = 1.871 | acc = 0.76 | val_loss = 2.033 | val_acc = 0.68 | train_time = 1.343 | tot_time = 1.355\n",
      "Epoch 17: loss = 1.846 | acc = 0.757 | val_loss = 2.073 | val_acc = 0.67 | train_time = 1.372 | tot_time = 1.386\n",
      "Epoch 18: loss = 1.838 | acc = 0.775 | val_loss = 2.051 | val_acc = 0.651 | train_time = 1.386 | tot_time = 1.397\n",
      "Epoch 19: loss = 1.837 | acc = 0.779 | val_loss = 2.042 | val_acc = 0.626 | train_time = 1.332 | tot_time = 1.346\n",
      "Epoch 20: loss = 1.831 | acc = 0.782 | val_loss = 2.049 | val_acc = 0.669 | train_time = 1.33 | tot_time = 1.343\n",
      "Epoch 21: loss = 1.807 | acc = 0.808 | val_loss = 2.025 | val_acc = 0.704 | train_time = 1.369 | tot_time = 1.382\n",
      "Epoch 22: loss = 1.791 | acc = 0.813 | val_loss = 2.013 | val_acc = 0.695 | train_time = 1.338 | tot_time = 1.351\n",
      "Epoch 23: loss = 1.784 | acc = 0.82 | val_loss = 2.04 | val_acc = 0.68 | train_time = 1.341 | tot_time = 1.353\n",
      "Epoch 24: loss = 1.77 | acc = 0.827 | val_loss = 1.99 | val_acc = 0.704 | train_time = 1.351 | tot_time = 1.363\n",
      "Epoch 25: loss = 1.766 | acc = 0.828 | val_loss = 1.993 | val_acc = 0.698 | train_time = 1.356 | tot_time = 1.37\n",
      "Epoch 26: loss = 1.773 | acc = 0.819 | val_loss = 1.99 | val_acc = 0.681 | train_time = 1.345 | tot_time = 1.357\n",
      "Epoch 27: loss = 1.749 | acc = 0.831 | val_loss = 2.016 | val_acc = 0.725 | train_time = 1.446 | tot_time = 1.458\n",
      "Epoch 28: loss = 1.75 | acc = 0.842 | val_loss = 2.009 | val_acc = 0.721 | train_time = 1.476 | tot_time = 1.493\n",
      "Epoch 29: loss = 1.741 | acc = 0.85 | val_loss = 2.015 | val_acc = 0.706 | train_time = 1.436 | tot_time = 1.45\n",
      "Epoch 30: loss = 1.745 | acc = 0.844 | val_loss = 1.996 | val_acc = 0.708 | train_time = 1.396 | tot_time = 1.408\n",
      "Epoch 31: loss = 1.726 | acc = 0.854 | val_loss = 2.019 | val_acc = 0.722 | train_time = 1.341 | tot_time = 1.355\n",
      "Epoch 32: loss = 1.727 | acc = 0.852 | val_loss = 2.04 | val_acc = 0.72 | train_time = 1.373 | tot_time = 1.385\n",
      "Epoch 33: loss = 1.731 | acc = 0.854 | val_loss = 1.986 | val_acc = 0.725 | train_time = 1.535 | tot_time = 1.549\n",
      "Epoch 34: loss = 1.717 | acc = 0.868 | val_loss = 2.014 | val_acc = 0.717 | train_time = 1.722 | tot_time = 1.736\n",
      "Epoch 35: loss = 1.716 | acc = 0.863 | val_loss = 1.991 | val_acc = 0.722 | train_time = 1.635 | tot_time = 1.649\n",
      "Epoch 36: loss = 1.705 | acc = 0.874 | val_loss = 1.995 | val_acc = 0.745 | train_time = 1.557 | tot_time = 1.57\n",
      "Epoch 37: loss = 1.709 | acc = 0.874 | val_loss = 2.006 | val_acc = 0.737 | train_time = 1.605 | tot_time = 1.619\n",
      "Epoch 38: loss = 1.702 | acc = 0.877 | val_loss = 1.992 | val_acc = 0.732 | train_time = 1.776 | tot_time = 1.795\n",
      "Epoch 39: loss = 1.696 | acc = 0.878 | val_loss = 1.996 | val_acc = 0.725 | train_time = 1.783 | tot_time = 1.797\n",
      "Epoch 40: loss = 1.692 | acc = 0.881 | val_loss = 2.009 | val_acc = 0.736 | train_time = 1.682 | tot_time = 1.698\n",
      "Epoch 41: loss = 1.691 | acc = 0.882 | val_loss = 1.997 | val_acc = 0.745 | train_time = 1.544 | tot_time = 1.557\n",
      "Epoch 42: loss = 1.688 | acc = 0.884 | val_loss = 2.004 | val_acc = 0.749 | train_time = 1.696 | tot_time = 1.711\n",
      "Epoch 43: loss = 1.677 | acc = 0.886 | val_loss = 2.02 | val_acc = 0.764 | train_time = 1.635 | tot_time = 1.648\n",
      "Epoch 44: loss = 1.676 | acc = 0.888 | val_loss = 2.01 | val_acc = 0.745 | train_time = 1.738 | tot_time = 1.753\n",
      "Epoch 45: loss = 1.679 | acc = 0.885 | val_loss = 1.991 | val_acc = 0.733 | train_time = 1.662 | tot_time = 1.674\n",
      "Epoch 46: loss = 1.675 | acc = 0.891 | val_loss = 2.033 | val_acc = 0.749 | train_time = 2.06 | tot_time = 2.075\n",
      "Epoch 47: loss = 1.667 | acc = 0.89 | val_loss = 1.993 | val_acc = 0.753 | train_time = 1.634 | tot_time = 1.648\n",
      "Epoch 48: loss = 1.666 | acc = 0.894 | val_loss = 2.005 | val_acc = 0.724 | train_time = 1.769 | tot_time = 1.783\n",
      "Epoch 49: loss = 1.665 | acc = 0.898 | val_loss = 2.005 | val_acc = 0.74 | train_time = 1.58 | tot_time = 1.594\n",
      "Epoch 50: loss = 1.663 | acc = 0.902 | val_loss = 1.999 | val_acc = 0.737 | train_time = 1.759 | tot_time = 1.772\n",
      "Epoch 51: loss = 1.668 | acc = 0.897 | val_loss = 2.006 | val_acc = 0.737 | train_time = 1.42 | tot_time = 1.433\n",
      "Epoch 52: loss = 1.664 | acc = 0.899 | val_loss = 2.024 | val_acc = 0.759 | train_time = 1.738 | tot_time = 1.752\n",
      "Epoch 53: loss = 1.658 | acc = 0.907 | val_loss = 1.991 | val_acc = 0.749 | train_time = 1.539 | tot_time = 1.554\n",
      "Epoch 54: loss = 1.655 | acc = 0.908 | val_loss = 1.989 | val_acc = 0.751 | train_time = 1.753 | tot_time = 1.766\n",
      "Epoch 55: loss = 1.657 | acc = 0.905 | val_loss = 1.992 | val_acc = 0.77 | train_time = 1.646 | tot_time = 1.663\n",
      "Epoch 56: loss = 1.649 | acc = 0.913 | val_loss = 1.999 | val_acc = 0.761 | train_time = 1.817 | tot_time = 1.829\n",
      "Epoch 57: loss = 1.644 | acc = 0.915 | val_loss = 2.026 | val_acc = 0.757 | train_time = 1.594 | tot_time = 1.609\n",
      "Epoch 58: loss = 1.639 | acc = 0.917 | val_loss = 2.04 | val_acc = 0.766 | train_time = 1.763 | tot_time = 1.779\n",
      "Epoch 59: loss = 1.64 | acc = 0.916 | val_loss = 2.018 | val_acc = 0.764 | train_time = 1.618 | tot_time = 1.631\n",
      "Epoch 60: loss = 1.64 | acc = 0.915 | val_loss = 1.998 | val_acc = 0.772 | train_time = 1.711 | tot_time = 1.726\n",
      "Epoch 61: loss = 1.643 | acc = 0.917 | val_loss = 2.015 | val_acc = 0.755 | train_time = 1.502 | tot_time = 1.515\n",
      "Epoch 62: loss = 1.645 | acc = 0.916 | val_loss = 2.018 | val_acc = 0.773 | train_time = 1.803 | tot_time = 1.82\n",
      "Epoch 63: loss = 1.641 | acc = 0.921 | val_loss = 2.026 | val_acc = 0.767 | train_time = 1.672 | tot_time = 1.684\n",
      "Epoch 64: loss = 1.644 | acc = 0.918 | val_loss = 2.006 | val_acc = 0.759 | train_time = 1.857 | tot_time = 1.87\n",
      "Epoch 65: loss = 1.636 | acc = 0.919 | val_loss = 2.029 | val_acc = 0.769 | train_time = 1.619 | tot_time = 1.633\n",
      "Epoch 66: loss = 1.633 | acc = 0.923 | val_loss = 2.028 | val_acc = 0.745 | train_time = 1.743 | tot_time = 1.758\n",
      "Epoch 67: loss = 1.64 | acc = 0.921 | val_loss = 2.01 | val_acc = 0.77 | train_time = 1.558 | tot_time = 1.573\n",
      "Epoch 68: loss = 1.636 | acc = 0.92 | val_loss = 2.026 | val_acc = 0.766 | train_time = 1.826 | tot_time = 1.843\n",
      "Epoch 69: loss = 1.637 | acc = 0.919 | val_loss = 1.999 | val_acc = 0.77 | train_time = 1.62 | tot_time = 1.633\n",
      "Epoch 70: loss = 1.63 | acc = 0.923 | val_loss = 2.01 | val_acc = 0.763 | train_time = 1.876 | tot_time = 1.889\n",
      "Epoch 71: loss = 1.63 | acc = 0.922 | val_loss = 2.006 | val_acc = 0.775 | train_time = 1.692 | tot_time = 1.706\n",
      "Epoch 72: loss = 1.627 | acc = 0.922 | val_loss = 2.029 | val_acc = 0.774 | train_time = 1.886 | tot_time = 1.901\n",
      "Epoch 73: loss = 1.628 | acc = 0.923 | val_loss = 2.019 | val_acc = 0.781 | train_time = 1.59 | tot_time = 1.605\n",
      "Epoch 74: loss = 1.624 | acc = 0.924 | val_loss = 2.036 | val_acc = 0.766 | train_time = 1.758 | tot_time = 1.771\n",
      "Epoch 75: loss = 1.624 | acc = 0.925 | val_loss = 2.03 | val_acc = 0.776 | train_time = 1.539 | tot_time = 1.552\n",
      "Epoch 76: loss = 1.622 | acc = 0.927 | val_loss = 2.042 | val_acc = 0.77 | train_time = 1.766 | tot_time = 1.78\n",
      "Epoch 77: loss = 1.621 | acc = 0.927 | val_loss = 2.045 | val_acc = 0.783 | train_time = 1.577 | tot_time = 1.592\n",
      "Epoch 78: loss = 1.619 | acc = 0.928 | val_loss = 2.065 | val_acc = 0.777 | train_time = 1.869 | tot_time = 1.882\n",
      "Epoch 79: loss = 1.618 | acc = 0.928 | val_loss = 2.074 | val_acc = 0.774 | train_time = 1.603 | tot_time = 1.617\n",
      "Epoch 80: loss = 1.618 | acc = 0.927 | val_loss = 2.082 | val_acc = 0.773 | train_time = 1.78 | tot_time = 1.793\n",
      "Epoch 81: loss = 1.618 | acc = 0.927 | val_loss = 2.073 | val_acc = 0.776 | train_time = 1.491 | tot_time = 1.504\n",
      "Epoch 82: loss = 1.618 | acc = 0.927 | val_loss = 2.083 | val_acc = 0.775 | train_time = 1.658 | tot_time = 1.671\n",
      "Epoch 83: loss = 1.617 | acc = 0.927 | val_loss = 2.088 | val_acc = 0.773 | train_time = 1.496 | tot_time = 1.51\n",
      "Epoch 84: loss = 1.617 | acc = 0.927 | val_loss = 2.092 | val_acc = 0.772 | train_time = 1.676 | tot_time = 1.689\n",
      "Epoch 85: loss = 1.617 | acc = 0.927 | val_loss = 2.094 | val_acc = 0.772 | train_time = 1.517 | tot_time = 1.531\n",
      "Epoch 86: loss = 1.617 | acc = 0.928 | val_loss = 2.093 | val_acc = 0.772 | train_time = 1.667 | tot_time = 1.68\n",
      "Epoch 87: loss = 1.617 | acc = 0.928 | val_loss = 2.092 | val_acc = 0.772 | train_time = 1.496 | tot_time = 1.51\n",
      "Epoch 88: loss = 1.617 | acc = 0.928 | val_loss = 2.093 | val_acc = 0.774 | train_time = 1.745 | tot_time = 1.758\n",
      "Epoch 89: loss = 1.617 | acc = 0.929 | val_loss = 2.092 | val_acc = 0.774 | train_time = 1.53 | tot_time = 1.544\n",
      "Epoch 90: loss = 1.617 | acc = 0.929 | val_loss = 2.093 | val_acc = 0.774 | train_time = 1.658 | tot_time = 1.671\n",
      "Epoch 91: loss = 1.617 | acc = 0.929 | val_loss = 2.093 | val_acc = 0.775 | train_time = 1.561 | tot_time = 1.574\n",
      "Epoch 92: loss = 1.617 | acc = 0.929 | val_loss = 2.095 | val_acc = 0.773 | train_time = 1.672 | tot_time = 1.689\n",
      "Epoch 93: loss = 1.617 | acc = 0.929 | val_loss = 2.092 | val_acc = 0.776 | train_time = 1.568 | tot_time = 1.582\n",
      "Epoch 94: loss = 1.617 | acc = 0.93 | val_loss = 2.084 | val_acc = 0.776 | train_time = 1.468 | tot_time = 1.481\n",
      "Epoch 95: loss = 1.616 | acc = 0.929 | val_loss = 2.086 | val_acc = 0.774 | train_time = 1.448 | tot_time = 1.461\n",
      "Epoch 96: loss = 1.616 | acc = 0.929 | val_loss = 2.087 | val_acc = 0.775 | train_time = 1.44 | tot_time = 1.454\n",
      "Epoch 97: loss = 1.616 | acc = 0.929 | val_loss = 2.087 | val_acc = 0.774 | train_time = 1.445 | tot_time = 1.457\n",
      "Epoch 98: loss = 1.616 | acc = 0.928 | val_loss = 2.081 | val_acc = 0.771 | train_time = 1.441 | tot_time = 1.454\n",
      "Epoch 99: loss = 1.616 | acc = 0.929 | val_loss = 2.088 | val_acc = 0.777 | train_time = 1.511 | tot_time = 1.523\n",
      "Epoch 100: loss = 1.616 | acc = 0.929 | val_loss = 2.084 | val_acc = 0.776 | train_time = 1.46 | tot_time = 1.474\n"
     ]
    }
   ],
   "source": [
    "model = MLP(X_train,Y_train,X_test,Y_test,L=1,N_l=256)\n",
    "model.train(batch_size=8,epochs=100,lr=0.8)"
   ]
  },
  {
   "cell_type": "code",
   "execution_count": 34,
   "metadata": {},
   "outputs": [
    {
     "data": {
      "image/png": "[encoded data removed]",
      "text/plain": [
       "<Figure size 1080x360 with 2 Axes>"
      ]
     },
     "metadata": {
      "needs_background": "light"
     },
     "output_type": "display_data"
    }
   ],
   "source": [
    "fig,ax = plt.subplots(1,2,figsize=(15,5))\n",
    "ax[0].plot(model.train_loss,label=\"Train loss\")\n",
    "ax[0].plot(model.val_loss,label=\"Val loss\")\n",
    "ax[0].legend()\n",
    "ax[0].set_xlabel(\"Epoch\")\n",
    "ax[0].set_ylabel(\"Loss\")\n",
    "ax[0].grid()\n",
    "\n",
    "ax[1].plot(model.train_acc,label=\"Train acc\")\n",
    "ax[1].plot(model.val_acc,label=\"Val acc\")\n",
    "ax[1].legend()\n",
    "ax[1].set_xlabel(\"Epoch\")\n",
    "ax[1].set_ylabel(\"Accuracy\")\n",
    "ax[1].grid()"
   ]
  },
  {
   "cell_type": "code",
   "execution_count": 35,
   "metadata": {},
   "outputs": [
    {
     "name": "stdout",
     "output_type": "stream",
     "text": [
      "Accuracy:  0.7762803234501348\n"
     ]
    }
   ],
   "source": [
    "print(\"Accuracy: \",model.evaluate(X_test,y_test))"
   ]
  },
  {
   "cell_type": "markdown",
   "metadata": {},
   "source": [
    "### F1 Score, Recall, and Precision:\n",
    "\n",
    "Precision is the ratio of true positives to the total number of predicted positives. It measures how many of the predicted positive cases are actually positive. A high precision score indicates that the model is good at predicting positive cases.\n",
    "\n",
    "Recall is the ratio of true positives to the total number of actual positives. It measures how many of the actual positive cases are correctly predicted by the model. A high recall score indicates that the model is good at identifying positive cases.\n",
    "\n",
    "F1 Score is the harmonic mean of precision and recall. It is a single score that balances both precision and recall. A high F1 score indicates that the model is good at both identifying positive cases and avoiding false positives."
   ]
  },
  {
   "cell_type": "code",
   "execution_count": 36,
   "metadata": {},
   "outputs": [
    {
     "name": "stdout",
     "output_type": "stream",
     "text": [
      "F1 score: 0.7752079242690789\n",
      "Recall: 0.7762803234501348\n",
      "Precision: 0.7798123611664045\n"
     ]
    },
    {
     "name": "stderr",
     "output_type": "stream",
     "text": [
      "C:\\Users\\Soustab\\AppData\\Roaming\\Python\\Python310\\site-packages\\sklearn\\metrics\\_classification.py:1344: UndefinedMetricWarning: Recall is ill-defined and being set to 0.0 in labels with no true samples. Use `zero_division` parameter to control this behavior.\n",
      "  _warn_prf(average, modifier, msg_start, len(result))\n"
     ]
    }
   ],
   "source": [
    "from sklearn.metrics import precision_score,recall_score,f1_score\n",
    "y_pred=model.predict(X_test)\n",
    "y_pred=(np.argmax(y_pred, axis=1)+1).reshape(-1, 1).flatten()\n",
    "y_test_c=(np.argmax(y_test, axis=1)+1).reshape(-1, 1).flatten()\n",
    "# print(y_test_c)\n",
    "print ('F1 score:', f1_score(y_test_c, y_pred,average='weighted'))\n",
    "print ('Recall:', recall_score(y_test_c, y_pred,average='weighted'))\n",
    "print ('Precision:', precision_score(y_test_c, y_pred,average='weighted'))"
   ]
  }
 ],
 "metadata": {
  "kernelspec": {
   "display_name": "Python 3",
   "language": "python",
   "name": "python3"
  },
  "language_info": {
   "codemirror_mode": {
    "name": "ipython",
    "version": 3
   },
   "file_extension": ".py",
   "mimetype": "text/x-python",
   "name": "python",
   "nbconvert_exporter": "python",
   "pygments_lexer": "ipython3",
   "version": "3.10.4"
  },
  "varInspector": {
   "cols": {
    "lenName": 16,
    "lenType": 16,
    "lenVar": 40
   },
   "kernels_config": {
    "python": {
     "delete_cmd_postfix": "",
     "delete_cmd_prefix": "del ",
     "library": "var_list.py",
     "varRefreshCmd": "print(var_dic_list())"
    },
    "r": {
     "delete_cmd_postfix": ") ",
     "delete_cmd_prefix": "rm(",
     "library": "var_list.r",
     "varRefreshCmd": "cat(var_dic_list()) "
    }
   },
   "types_to_exclude": [
    "module",
    "function",
    "builtin_function_or_method",
    "instance",
    "_Feature"
   ],
   "window_display": false
  }
 },
 "nbformat": 4,
 "nbformat_minor": 2
}
