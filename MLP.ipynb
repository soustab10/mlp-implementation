{
 "cells": [
  {
   "cell_type": "markdown",
   "metadata": {},
   "source": [
    "# Multilayer perceptron from scratch\n",
    "Author: Kirill Shmilovich (kshmilov@gmail.com)\n",
    "\n",
    "In this Notebook I detail how to build a multilayer perceptron for handwritten digit classification from scratch -- using only matrix multiplication libraries in Python."
   ]
  },
  {
   "cell_type": "markdown",
   "metadata": {},
   "source": [
    "# Imports"
   ]
  },
  {
   "cell_type": "markdown",
   "metadata": {},
   "source": [
    "You will need [NumPy](https://www.numpy.org/) and [matplotlib](https://matplotlib.org/) if you intend to run this notebook locally."
   ]
  },
  {
   "cell_type": "code",
   "execution_count": 1,
   "metadata": {
    "ExecuteTime": {
     "end_time": "2019-07-15T22:16:15.682784Z",
     "start_time": "2019-07-15T22:16:15.559468Z"
    }
   },
   "outputs": [],
   "source": [
    "import time\n",
    "import numpy as np\n",
    "import matplotlib.pyplot as plt\n",
    "import os\n",
    "import csv\n",
    "from PIL import Image\n",
    "from sklearn.model_selection import train_test_split"
   ]
  },
  {
   "cell_type": "markdown",
   "metadata": {},
   "source": [
    "## Load data\n",
    "One of the first steps when working with a new data set is preprocessing. However you come about your data, whether downloaded from an established dataset or created yourself, it's vital to carefully examine and prepare your data. Our data here is from the [MNIST dataset](http://yann.lecun.com/exdb/mnist/) of `28x28` pixel images of handwritten digits from `0-9`, which has an important place in the history of machine learning. Some common questions to ask yourself when confronted with a new data set when preparing analysis:\n",
    "1. What range of values does your data take? Do values need to be rescaled?\n",
    "2. What shape is your data? Should each sample be a matrix ($n \\times m$), a vector ($1 \\times n$), or even a multi-dimensional tensor ($n \\times m \\times p \\times \\ldots$)?\n",
    "3. Are there fringe cases that need special attention?\n",
    "\n",
    "Our data lives in the directory `data` under the file names `mnist_train.csv` and `mnist_test.csv`, so the complete file path (from the main directory) are `data/mnist_train.csv` and `data/mnist_test.csv`. With that in mind, let's define a helper function `load_data` that we can use to quickly in our data."
   ]
  },
  {
   "cell_type": "code",
   "execution_count": 2,
   "metadata": {},
   "outputs": [
    {
     "name": "stdout",
     "output_type": "stream",
     "text": [
      "a\n",
      "b\n",
      "c\n",
      "d\n",
      "e\n",
      "f\n",
      "g\n",
      "h\n",
      "i\n",
      "j\n",
      "k\n",
      "l\n",
      "m\n",
      "n\n",
      "o\n",
      "p\n",
      "q\n",
      "r\n",
      "s\n",
      "t\n",
      "u\n",
      "v\n",
      "w\n",
      "x\n",
      "y\n",
      "z\n"
     ]
    }
   ],
   "source": [
    "root_dir=r\"D:\\IIT BHU\\SEM V\\IC\\IC\\imgs\\\\\"\n",
    "dict = {chr(i): i - ord('a') + 1 for i in range(ord('a'), ord('z') + 1)}\n",
    "lis = []\n",
    "for i in os.listdir(root_dir):\n",
    "    path=os.path.join(root_dir,i)\n",
    "    for j in os.listdir(path):\n",
    "        img_path=os.path.join(path,j)\n",
    "        img = Image.open(img_path).convert('L')\n",
    "        l=[dict[i]]\n",
    "        li=list(img.getdata())\n",
    "        l=l+li\n",
    "        lis+=[l]\n",
    "    print(i)"
   ]
  },
  {
   "cell_type": "code",
   "execution_count": 3,
   "metadata": {},
   "outputs": [],
   "source": [
    "csv_dir=r\"D:\\IIT BHU\\SEM V\\IC\\IC\\data\\data.csv\"\n",
    "with open(csv_dir, 'w',newline='') as csvfile:   \n",
    "    csvwriter = csv.writer(csvfile)  \n",
    "    csvwriter.writerows(lis) "
   ]
  },
  {
   "cell_type": "code",
   "execution_count": 4,
   "metadata": {
    "ExecuteTime": {
     "end_time": "2019-07-15T22:16:16.437154Z",
     "start_time": "2019-07-15T22:16:16.431149Z"
    },
    "code_folding": []
   },
   "outputs": [],
   "source": [
    "def load_data(dir_name):\n",
    "    \"\"\"\n",
    "    Function for loading MNIST data stored in comma delimited files. Labels for \n",
    "    each image are the first entry in each row.\n",
    "\n",
    "    Parameters\n",
    "    ----------\n",
    "    dit_name : str\n",
    "         Path to where data is contained\n",
    "\n",
    "    Returns\n",
    "    -------\n",
    "    X : array_like\n",
    "        A (N x p=784) matrix of samples \n",
    "    Y : array_like\n",
    "        A (N x 1) matrix of labels for each sample\n",
    "    \"\"\"\n",
    "    data = list() # init a list called `data`\n",
    "    \n",
    "    with open(dir_name,\"r\") as f: # open the directory as a read (\"r\"), call it `f`\n",
    "        for line in f: # iterate through each `line` in `f`\n",
    "            split_line = np.array(line.split(',')) # split lines by `,` - cast the resultant list into an numpy array\n",
    "            split_line = split_line.astype(np.float32) # make the numpy array of str into floats\n",
    "            data.append(split_line) # collect the sample into the `data` list\n",
    "            \n",
    "    data = np.asarray(data) # convert the `data` list into a numpy array for easier indexing\n",
    "    \n",
    "    # as the first number in each sample is the label (0-9), extract that from the rest and return both (X,Y)\n",
    "    return data[:,1:],data[:,0]"
   ]
  },
  {
   "cell_type": "markdown",
   "metadata": {},
   "source": [
    "Now load the data"
   ]
  },
  {
   "cell_type": "code",
   "execution_count": 5,
   "metadata": {
    "ExecuteTime": {
     "end_time": "2019-07-15T20:10:03.705155Z",
     "start_time": "2019-07-15T20:09:44.341375Z"
    }
   },
   "outputs": [],
   "source": [
    "X_data,Y_data = load_data(\"data/data.csv\")\n",
    "X_train,X_test,Y_train,Y_test=train_test_split(X_data,Y_data,test_size=0.1,random_state=104)"
   ]
  },
  {
   "cell_type": "markdown",
   "metadata": {},
   "source": [
    "An easy to quickly get an idea for how your data looks is to examine the shape of the matrix it's stored using the `.shape` attribute of numpy arrays. We see that the shape of `X_train` is `60000 x 784`, which tells us there are `60000` samples (images) each with dimension `784`. Each sample, typically presented as a 28 x 28 image, is unrolled into a 1-dimensional vector 28 x 28 = 784 contained within each row of `X_train`."
   ]
  },
  {
   "cell_type": "code",
   "execution_count": 6,
   "metadata": {
    "ExecuteTime": {
     "end_time": "2019-07-15T20:10:03.720141Z",
     "start_time": "2019-07-15T20:10:03.717400Z"
    }
   },
   "outputs": [
    {
     "name": "stdout",
     "output_type": "stream",
     "text": [
      "The shape of the training set is: 6675 x 784\n",
      "The shape of the test set is: 742 x 784\n"
     ]
    }
   ],
   "source": [
    "print(f\"The shape of the training set is: {X_train.shape[0]} x {X_train.shape[1]}\")\n",
    "print(f\"The shape of the test set is: {X_test.shape[0]} x {X_test.shape[1]}\")"
   ]
  },
  {
   "cell_type": "markdown",
   "metadata": {},
   "source": [
    "Now lets take a look at how the samples are represented, we can do this by calling `Y_train[index]` and `X_train[index]` (here I choose `index=0` to look at the very first sample). We first notice `Y_train[0]=5.0`, meaning this entry is the digit `5`. We will confirm this shortly by visualizing some of these samples. We then notice each entry is an integer (cast into `np.float32` in our `load_data` function) ranging from `0-255`. This representation is common when working with images. The numerical entries are interpreted as pixel intensities typically shown in gray-scale ranging between `0` (black) and `255` (white). "
   ]
  },
  {
   "cell_type": "code",
   "execution_count": 7,
   "metadata": {
    "ExecuteTime": {
     "end_time": "2019-07-15T20:10:03.766216Z",
     "start_time": "2019-07-15T20:10:03.734027Z"
    },
    "scrolled": true
   },
   "outputs": [
    {
     "data": {
      "text/plain": [
       "(19.0,\n",
       " array([  0.,   0.,   0.,   0.,   0.,   0.,   0.,   0.,   0.,   0.,   0.,\n",
       "          0.,   0.,   0.,   0.,   0.,   0.,   0.,   0.,   0.,   0.,   0.,\n",
       "          0.,   0.,   0.,   0.,   0.,   0.,   0.,   0.,   0.,   0.,   0.,\n",
       "          0.,   0.,   0.,   0.,   0.,   0.,   0.,   0.,   0.,   0.,   0.,\n",
       "          0.,   0.,   0.,   0.,   0.,   0.,   0.,   0.,   0.,   0.,   0.,\n",
       "          0.,   0.,   0.,   0.,   0.,   0.,   0.,   0.,   0.,   0.,   0.,\n",
       "          0.,   0.,   0.,   0.,   0.,   0.,   0.,   0.,   0.,   0.,   0.,\n",
       "          0.,   0.,   0.,   0.,   0.,   0.,   0.,   0.,   0.,   0.,   0.,\n",
       "          0.,   0.,   0.,   0.,   0.,   0.,   0.,   0.,   0.,   0.,   0.,\n",
       "          0.,   0.,   0.,   0.,   0.,   0.,   0.,   0.,   0.,   0.,   0.,\n",
       "          0.,   0.,   0.,   0.,   0.,   0.,   0.,   0.,   0.,   0.,   0.,\n",
       "          3.,  64.,   0.,   0.,   0.,   0.,   0.,   0.,   0.,   0.,   0.,\n",
       "          0.,   0.,   0.,   0.,   0.,   0.,   0.,   0.,   0.,   0.,   0.,\n",
       "          0.,   0.,   0.,   0.,   0.,   0.,  73., 114., 125., 128., 128.,\n",
       "        128., 100.,  41.,   0.,  10.,   0.,   0.,   0.,   0.,   0.,   0.,\n",
       "          0.,   0.,   0.,   0.,   0.,   0.,   0.,   0.,   0.,  58., 155.,\n",
       "        230., 233., 177., 130., 118., 128.,  89., 145., 204., 203.,  40.,\n",
       "          0.,   0.,   0.,   0.,   0.,   0.,   0.,   0.,   0.,   0.,   0.,\n",
       "          0.,   0.,  12., 165., 245., 143., 103.,  86., 101.,  88.,  70.,\n",
       "         71., 104., 106.,   1.,  36.,   3.,   0.,   0.,   0.,   0.,   0.,\n",
       "          0.,   0.,   0.,   0.,   0.,   0.,   0.,   0., 149., 160.,  64.,\n",
       "        118.,  74.,   0.,   0.,   0.,   0.,   0.,   0.,   0.,   0.,   0.,\n",
       "          0.,   0.,   0.,   0.,   0.,   0.,   0.,   0.,   0.,   0.,   0.,\n",
       "          0.,   0.,   0., 152., 233.,  66.,  86.,   0.,   0.,   0.,   0.,\n",
       "          0.,   0.,   0.,   0.,   0.,   0.,   0.,   0.,   0.,   0.,   0.,\n",
       "          0.,   0.,   0.,   0.,   0.,   0.,   0.,   0.,   0.,  25., 229.,\n",
       "        197.,  38.,   0.,   0.,   0.,   0.,   0.,   0.,   0.,   0.,   0.,\n",
       "          0.,   0.,   0.,   0.,   0.,   0.,   0.,   0.,   0.,   0.,   0.,\n",
       "          0.,   0.,   0.,   0.,   0.,  21., 143., 236., 210., 170., 144.,\n",
       "        128., 128., 128., 151., 170., 170., 134.,  96.,  18.,   0.,   0.,\n",
       "          0.,   0.,   0.,   0.,   0.,   0.,   0.,   0.,   0.,   0.,   0.,\n",
       "          0.,   0.,  27., 114., 114., 121., 128., 128., 128., 128., 128.,\n",
       "        128., 144., 211., 244., 103.,   0.,   0.,   0.,   0.,   0.,   0.,\n",
       "          0.,   0.,   0.,   0.,   0.,   0.,   0.,   0.,   0.,   0.,  63.,\n",
       "         92.,  75.,   0.,   0.,   0.,   0.,  89.,   7.,   0.,  85., 136.,\n",
       "        134.,   0.,   0.,   0.,   0.,   0.,   0.,   0.,   0.,   0.,   0.,\n",
       "          0.,   0.,   0.,   0.,   0.,   0.,   0.,   0.,   0.,   0.,   0.,\n",
       "          0.,   0.,   0.,  64.,  70., 163., 154.,   0.,   0.,   0.,   0.,\n",
       "          0.,   0.,   0.,   0.,   0.,   0.,   0.,   0.,   0.,   0.,   0.,\n",
       "          0.,   0.,   0.,   0.,   0.,   0.,   0.,   0.,   0.,  69., 103.,\n",
       "        117., 154.,   0.,   0.,   0.,   0.,   0.,   0.,   0.,   0.,   0.,\n",
       "          0.,   0.,   0.,   0.,   0.,   0.,   0.,   0.,   0.,   0.,   0.,\n",
       "          0.,   0.,  24., 102., 199., 225., 141.,  10.,   0.,   0.,   0.,\n",
       "          0.,   0.,   0.,   0.,   0.,   0.,   0.,   0.,   0.,   0.,   0.,\n",
       "          0.,   5.,  30.,  63.,  90., 137., 174., 230., 255., 212., 129.,\n",
       "         45.,   0.,   0.,   0.,   0.,   0.,   1.,   0.,   0.,   0.,   0.,\n",
       "          0.,   0.,   0.,   0.,   0.,   0.,   0., 136., 170., 170., 155.,\n",
       "        128.,  95.,  58.,  21.,   0.,   0.,   0.,   0.,   0.,   0.,   0.,\n",
       "          0.,   0.,   0.,   0.,   0.,   0.,   0.,   0.,   0.,   0.,   0.,\n",
       "          0.,   0.,   0.,   0.,   0.,   0.,   0.,   0.,   0.,   0.,   0.,\n",
       "          0.,   0.,   0.,   0.,   0.,   0.,   0.,   0.,   0.,   0.,   0.,\n",
       "          0.,   0.,   0.,   0.,   0.,   0.,   0.,   0.,   0.,   0.,   0.,\n",
       "          0.,   0.,   0.,   0.,   0.,   0.,   0.,   0.,   0.,   0.,   0.,\n",
       "          0.,   0.,   0.,   0.,   0.,   0.,   0.,   0.,   0.,   0.,   0.,\n",
       "          0.,   0.,   0.,   0.,   0.,   0.,   0.,   0.,   0.,   0.,   0.,\n",
       "          0.,   0.,   0.,   0.,   0.,   0.,   0.,   0.,   0.,   0.,   0.,\n",
       "          0.,   0.,   0.,   0.,   0.,   0.,   0.,   0.,   0.,   0.,   0.,\n",
       "          0.,   0.,   0.,   0.,   0.,   0.,   0.,   0.,   0.,   0.,   0.,\n",
       "          0.,   0.,   0.,   0.,   0.,   0.,   0.,   0.,   0.,   0.,   0.,\n",
       "          0.,   0.,   0.,   0.,   0.,   0.,   0.,   0.,   0.,   0.,   0.,\n",
       "          0.,   0.,   0.,   0.,   0.,   0.,   0.,   0.,   0.,   0.,   0.,\n",
       "          0.,   0.,   0.,   0.,   0.,   0.,   0.,   0.,   0.,   0.,   0.,\n",
       "          0.,   0.,   0.,   0.,   0.,   0.,   0.,   0.,   0.,   0.,   0.,\n",
       "          0.,   0.,   0.,   0.,   0.,   0.,   0.,   0.,   0.,   0.,   0.,\n",
       "          0.,   0.,   0.,   0.,   0.,   0.,   0.,   0.,   0.,   0.,   0.,\n",
       "          0.,   0.,   0.,   0.,   0.,   0.,   0.,   0.,   0.,   0.,   0.,\n",
       "          0.,   0.,   0.,   0.,   0.,   0.,   0.,   0.,   0.,   0.,   0.,\n",
       "          0.,   0.,   0.,   0.,   0.,   0.,   0.,   0.,   0.,   0.,   0.,\n",
       "          0.,   0.,   0.,   0.,   0.,   0.,   0.,   0.,   0.,   0.,   0.,\n",
       "          0.,   0.,   0.,   0.,   0.,   0.,   0.,   0.,   0.,   0.,   0.,\n",
       "          0.,   0.,   0.,   0.,   0.,   0.,   0.,   0.,   0.,   0.,   0.,\n",
       "          0.,   0.,   0.], dtype=float32))"
      ]
     },
     "execution_count": 7,
     "metadata": {},
     "output_type": "execute_result"
    }
   ],
   "source": [
    "index = 0\n",
    "Y_train[index], X_train[index]"
   ]
  },
  {
   "cell_type": "markdown",
   "metadata": {},
   "source": [
    "While there is nothing in principle wrong with this `0-255` representation, the value of `255` being the maximum is specific to images and somewhat an arbitrary for our purposes. Frequently people opt to rescale their data to range between `0-1`, which will be have some nice mathematical properties for us later. Of course, this can be done by simply dividing each entry in `X_train` and `X_test` by its maximum value (accessed using `X_train.max()`). \n",
    "\n",
    "Further, each label in `Y_train` and `Y_test` are currently integers (e.g. `5.0` or `2.0`). For categorical data (where image is labeled between `0-9`) we opt for a one-hot encoded representation of our data. What this means is each label is converted into a binary vector (e.g. the label 2.0 would be converted to the vector `[0,0,1,0,0,0,0,0,0,0]` and the label 9.0 would be the vector `[0,0,0,0,0,0,0,0,0,1]`)."
   ]
  },
  {
   "cell_type": "code",
   "execution_count": 8,
   "metadata": {
    "ExecuteTime": {
     "end_time": "2019-07-15T20:10:03.883943Z",
     "start_time": "2019-07-15T20:10:03.780726Z"
    }
   },
   "outputs": [],
   "source": [
    "# rescale data between 0 - 1.0\n",
    "X_train = X_train/X_train.max()\n",
    "X_test = X_test/X_test.max()\n",
    "\n",
    "# one-hot encode train (y_train) and test (y_test) set labels\n",
    "y_train = np.zeros((Y_train.size, int(Y_train.max()) + 1))\n",
    "y_train[np.arange(Y_train.size),Y_train.astype(int)] = 1.0\n",
    "\n",
    "y_test = np.zeros((Y_test.size, int(Y_test.max()) + 1))\n",
    "y_test[np.arange(Y_test.size),Y_test.astype(int)] = 1.0"
   ]
  },
  {
   "cell_type": "markdown",
   "metadata": {},
   "source": [
    "Before we proceed, let's go ahead and visualize some of the inputs and their associated labels. We can do this using the `imshow` function (making sure to resize the flattened size 784 representation into a 28 x 28 matrix for compatability with `imshow`)."
   ]
  },
  {
   "cell_type": "code",
   "execution_count": 9,
   "metadata": {
    "ExecuteTime": {
     "end_time": "2019-07-15T20:10:04.313194Z",
     "start_time": "2019-07-15T20:10:03.897501Z"
    }
   },
   "outputs": [
    {
     "data": {
      "image/png": "[encoded data removed]",
      "text/plain": [
       "<Figure size 1080x720 with 4 Axes>"
      ]
     },
     "metadata": {
      "needs_background": "light"
     },
     "output_type": "display_data"
    }
   ],
   "source": [
    "num_images = 4\n",
    "fig,axes = plt.subplots(1,num_images,figsize=(15,10))\n",
    "for image,label,ax in zip(X_train[:num_images],y_train[:num_images],axes):\n",
    "    ax.imshow(image.reshape(28,28),cmap='gray',vmin=0,vmax=1.0)\n",
    "    for i in range(len(label)):\n",
    "        if(label[i]==1.0):\n",
    "            lab=list(dict.keys())[list(dict.values()).index(i)]\n",
    "    ax.set_title(f\"Label: {lab}\")"
   ]
  },
  {
   "cell_type": "markdown",
   "metadata": {},
   "source": [
    "# Multilayer perceptron: the math \n",
    "Here some of the math underlying the multilayer perceptron (MLP) and the backpropagation algorithm are reviewed. The MLP and backpropagation are central to understanding deep learning as a whole. Full stop. What I'm presenting here is by any means *not* an exhaustive exposition of the subject, and I **highly** recommend reading (at least) [chapters 1 & 2 of the free online book: Neural Networks and Deep Learning](http://neuralnetworksanddeeplearning.com/) for a more complete discussion."
   ]
  },
  {
   "cell_type": "markdown",
   "metadata": {},
   "source": [
    "So what is a multilayer perceptron? Before we answer that question, let's dissect just a singular component: the perceptron. "
   ]
  },
  {
   "cell_type": "markdown",
   "metadata": {
    "ExecuteTime": {
     "end_time": "2019-07-15T20:44:16.088920Z",
     "start_time": "2019-07-15T20:44:15.924981Z"
    }
   },
   "source": [
    "![Perceptron](imgs/perceptron.png)"
   ]
  },
  {
   "cell_type": "markdown",
   "metadata": {},
   "source": [
    "Image credit: https://towardsdatascience.com/what-the-hell-is-perceptron-626217814f53"
   ]
  },
  {
   "cell_type": "markdown",
   "metadata": {},
   "source": [
    "This image above represents schematically the conventional perceptron. Each input, represented as a multidimensional vector $\\mathbf{x}=\\{x_0=1,x_1,x_2,\\ldots,x_n\\}$, is multiplied by a set of weights $\\mathbf{w} = \\{w_0,w_1,w_2,\\ldots,w_n\\}$ to produce the weighted sum $$z = \\sum_{i=0}^{n} x_i w_i$$. In the case of a vanilla perceptron, this weighted sum $z$ is lastly fed through as step function to produce the predicted output $a = \\text{step}(z)$. This results in the output where $a=1$ if $z>0$ and $a=0$ if $z<0$.\n",
    "\n",
    "With the output $a$ taking the value 0 or 1, this type of structure really only works for binary classification problems (i.e. situations where each input $\\mathbf{x}$ has one of two intended labels: 0 or 1). The weights $\\mathbf{w}$ in this context can be interpreted as assigning credence to the different inputs $x_i$ based on their relative importance. Notice, there is an additional constant $x_0=1$ concatenated to each input, frequently called the *bias term* or just *the bias*. As there is still an associated weight $w_0$ along with this term, this effectively acts as an offset to the origin for the classification. In other words, think of the perceptron classification boundary as a multidimensional line (or plane) $y = m * x + b$. Inputs on one side of the line where $y<0$ get classified as one label ($a=0$), while  inputs on the other side of the line where $y>0$ are classified as the other label ($a=1$). In this geometric interpretation of the perceptron, the weights are like the slope (or vector perpendicular to the plane in higher dimensions) $\\mathbf{w} \\sim m$, and the bias is like the $b$ term $b \\sim w_0$.\n"
   ]
  },
  {
   "cell_type": "markdown",
   "metadata": {},
   "source": [
    "Extending the perceptron to the multilayer perceptron (MLP) simply introduces a intermediate preceptrons (layers) before reading the output and generalizes the step function to a broader class of functions called *activation functions*. "
   ]
  },
  {
   "cell_type": "markdown",
   "metadata": {},
   "source": [
    "![MLP](imgs/MLP.png)"
   ]
  },
  {
   "cell_type": "markdown",
   "metadata": {},
   "source": [
    "Image credit: https://github.com/PetarV-/TikZ/tree/master/Multilayer%20perceptron"
   ]
  },
  {
   "cell_type": "markdown",
   "metadata": {},
   "source": [
    "These neural networks are often schematically represented with a series of nodes and arrows as shown on the right. Each node represents one input, for example the input layer here is shown with 3 inputs, and each arrow represents a *unique* weight given to that particular input in the weighted sum (right side of figure). Note, in our application to MNIST each input would be `784+1` dimensional (including the bias) and the output `10` dimensional for representing the one-hot encoded binary vector of output labels. Rather than restricting ourselves to treating each sum with a step function as in the vanilla perceptron, this concept is generalized to any arbitrary function typically called the *activation function*, depicted as $\\sigma(\\cdot)$ in the schematic. In principle almost any function may be an activation function, however people typically use one of the following activation functions due to some nice mathematical properties we will discuss later:"
   ]
  },
  {
   "cell_type": "markdown",
   "metadata": {},
   "source": [
    "![activation_func](imgs/activation_func.png)"
   ]
  },
  {
   "cell_type": "markdown",
   "metadata": {
    "ExecuteTime": {
     "end_time": "2019-07-15T21:29:56.750472Z",
     "start_time": "2019-07-15T21:29:56.746122Z"
    }
   },
   "source": [
    "Image credit: https://medium.com/@shrutijadon10104776/survey-on-activation-functions-for-deep-learning-9689331ba092"
   ]
  },
  {
   "cell_type": "markdown",
   "metadata": {},
   "source": [
    "The additional layers between the inputs and outputs are typically called *hidden layers* because the particular value of the nodes within these layers are typically unknown, and largely uninterpretable, to the user. A natural question to ask here is why are hidden layers helpful/necessary for deep learning? The answer is, shockingly, that they aren't necessary, but are very helpful. There exists a theorem called the \"Universal Approximation Theorem\" which states basically that a neural network with a single layer can approximate *any* non-linear function to arbitrary accuracy. While this may imply that only a single hidden layer is, in principle, sufficient for any problem, the necessary dimension of this hidden layer may become intractably large for some problems. Introducing many hidden layers allows your neural network to learn a hierarchy of concepts in the structure of the data. What this implies for the MLP is that earlier layers (i.e. the layers closer to the input) learn a coarser representation of the data and begins to more closely reflect the output representation nearer to the output layer. "
   ]
  },
  {
   "cell_type": "markdown",
   "metadata": {},
   "source": [
    "![deep](imgs/deep.png)"
   ]
  },
  {
   "cell_type": "markdown",
   "metadata": {
    "ExecuteTime": {
     "end_time": "2019-07-15T22:15:42.928623Z",
     "start_time": "2019-07-15T22:15:42.799116Z"
    }
   },
   "source": [
    "Image credit: UChicago STAT 37710 Spring 2019"
   ]
  },
  {
   "cell_type": "markdown",
   "metadata": {},
   "source": [
    "### Feed forward\n",
    "Given a predefined neural network *architecture* (the *architecture* of a neural network refers to all the elements necessary to completely define the flow of data, which involve the number and size of hidden layers, which activation functions, the output size, etc.) the process of generating an output from an input is called a *forward* pass. As we shall see, for an MLP the forward pass may be succinctly represented as a series of matrix multiplications."
   ]
  },
  {
   "cell_type": "markdown",
   "metadata": {
    "ExecuteTime": {
     "end_time": "2019-07-15T22:16:19.367434Z",
     "start_time": "2019-07-15T22:16:19.254509Z"
    }
   },
   "source": [
    "![MLP_big](imgs/MLP_big.png)"
   ]
  },
  {
   "cell_type": "markdown",
   "metadata": {
    "ExecuteTime": {
     "end_time": "2019-07-15T22:16:35.149302Z",
     "start_time": "2019-07-15T22:16:35.038196Z"
    }
   },
   "source": [
    "Image credit: http://neuralnetworksanddeeplearning.com/chap1.html"
   ]
  },
  {
   "cell_type": "markdown",
   "metadata": {},
   "source": [
    "Consider the MLP represented schematically above with sigmoid activations $\\sigma$ in the hidden layer. Each neuron in the hidden layers will be weighted sums of the inputs: $$a_j = \\sigma(\\sum_{i=1}^{784} x_i* w_{i,j})$$ for $j=\\{1,2,\\ldots,15\\}$ (notice, there is no bias term in this example). From here it clear to see that the weights $w_{i,j}$ may be compacted into a matrix $W \\in {\\rm I\\!R}^{784\\times15}$ where $W_{i,j} = w_{i,j}$, allowing for all the neurons in the hidden layer to be efficiently calculated using matrix multiplication: $\\mathbf{a}^{(1)} = \\sigma(\\mathbf{z}^{(1)}) = \\sigma(\\mathbf{x}W)$. Where $\\mathbf{a}^{(i)},\\mathbf{z}^{(i)} \\in {\\rm I\\!R}^{1\\times 15}$, with the superscript $(i)$ indicating the assocaited layer number, and $\\mathbf{x} \\in {\\rm I\\!R}^{1\\times 784}$ are both arranged as column vectors. Another, different, weight matrix is needed to transform the hidden layer to the output layer. Let's demarcate these two as $W^{(1)}$ for the matrix which transforms the inputs to the hidden layer $\\mathbf{a}^{(1)}$ and $W^{(2)} \\in {\\rm I\\!R}^{15\\times 10}$ for transforming the hidden layer to the output layer $\\mathbf{z}^{(2)}$. Mathematically, $$\\mathbf{z}^{(2)} = \\sigma(\\mathbf{x}W^{(1)})W^{(2)}$$. Notice, we've yet to treat this output $\\mathbf{z}^{(2)}$ with an activation function."
   ]
  },
  {
   "cell_type": "markdown",
   "metadata": {
    "ExecuteTime": {
     "end_time": "2019-07-15T22:32:36.274844Z",
     "start_time": "2019-07-15T22:32:36.261999Z"
    }
   },
   "source": [
    "The last step of process for classification tasks is actually producing a prediction from these numbers in the output layer $\\mathbf{z}^{(2)}$. Typically, in the case of multi-label classification, this is done using a *softmax* activation function which effectively converts the output neurons into probabilities for each label. This has the mathematical form, $$\\text{softmax}(\\mathbf{z})_j = \\frac{\\exp(z_j)}{\\sum_{k=0}^{K=9}\\exp{(z_k)}}$$.\n",
    "\n",
    "The softmax activation function has the property of the outputs summing to 1 $\\sum_{k=1}^{K=9}\\text{softmax}(\\mathbf{z}^{(2)})_k = 1$, allowing each output $\\mathbf{a}^{(2)}_i = \\text{softmax}(\\mathbf{z}^{(2)})_i$ to be interpreted as the probability that the input is actually a digit `0-9`. Note, the output of a MLP does not need to have a softmax activation, for example in a regression setting a softmax activation would not make much sense. When evaluating the classification accuracy of the neural network, the input is typically classified according to the output label with the highest probability, $$\\text{prediction}(\\mathbf{x}) = \\text{argmax}\\  \\text{softmax}(\\mathbf{z}^{(2)}) = \\text{argmax}\\  \\text{softmax}((\\sigma(\\mathbf{x}W^{(1)})W^{(2)}))$$."
   ]
  },
  {
   "cell_type": "markdown",
   "metadata": {},
   "source": [
    "### Backpropagation\n",
    "Now that we have an understanding of how an MLP generates outputs from inputs, we engage the problem of how to actually *train* this neural network. *Training* a neural network (in a supervised setting, which means each input comes with a known output) refers to the process of iteratively updating the weights of the network to improve it's performance. The performance of the neural network is evaluated using a *loss function* which quantitatively measures how \"close\" the neural network output is to the true output. In short, using *backpropagation* we aim to minimize the loss function with respect to the weights (also called *parameters*) of the neural network.     "
   ]
  },
  {
   "cell_type": "markdown",
   "metadata": {},
   "source": [
    "First, let's define precisely what we mean by a *cost function*. The cost function $C$ should reflect whatever objective your aim is for the neural network. Here, we're interested in having our neural network predict a digit label `0-9` for each input image. A natural, and very reasonable, choice in many settings is simply using the L2 norm between our predicted and true outputs $$C = \\frac{1}{2N}\\sum_{i=1}^N||y_i - \\mathbf{a}^{(L)}(\\mathbf{x}_i)||^2$$, where $y_i$ represents the true label corresponding to input $\\mathbf{x}_i$ and $\\mathbf{a}^{(L)}(\\mathbf{x}_i)$ is the output of the neural network with $L$ layers taking $\\mathbf{x}_i$ as input. Note, in our previous example $\\mathbf{a}^{(L=2)}(\\mathbf{x}_i) = \\text{softmax}((\\sigma(\\mathbf{x}_iW^{(1)})W^{(2)}))$. Of course, when minimizing/maximizing a function any constant multiplies have no effect on the optimum which allows us to include the $\\frac{1}{2N}$ as a mathematical convenience whose purpose will be clear shortly (spoiler, it has to do with derivatives). We may equivalently write this cost function in terms of the cost incurred by each sample individually as $$C = \\frac{1}{N}\\sum_{i=1}^N C_i$$. Where the cost of an individual training sample is of course, in the case of our quadratic cost function, $C_i = \\frac{1}{2}||y_i - \\mathbf{a}^{(L)}(\\mathbf{x}_i)||^2$."
   ]
  },
  {
   "cell_type": "markdown",
   "metadata": {},
   "source": [
    "Ultimately, training our neural network by incrementally adjusting the weights amounts to updating each weight $W^{(l)}_{i,j}$ based on its individual influence to the cost function. This can be done with the *gradient descent* algorithm that defines the update rule $$W^{(l)}_{i,j} \\leftarrow W^{(l)}_{i,j} - \\alpha \\frac{\\partial C}{\\partial W^{(l)}_{i,j}}$$, where $\\alpha$ is a tunable parameter called the *learning rate*. Notice, vanilla gradient descent requires computing the derivative (people in the ML community use the word gradient, rather than derivative) $\\frac{\\partial C}{\\partial W^{(l)}_{i,j}}$ with respect to **all** the training samples. Of course, this can become expensive very quickly as some datasets, for example, contain millions of image and it's simply intractable for computational reasons to work with all that data at once. Therefore, people typically (read, always) employ a modified version of gradient descent called *stochastic gradient descent* (SGD) which updates the weights in *batches* (also called *mini batches*) of size $m$ $$W^{(l)}_{i,j} \\leftarrow W^{(l)}_{i,j} - \\frac{\\alpha}{m}\\sum_{k \\in \\text{batch}} \\frac{\\partial C_k}{\\partial W^{(l)}_{i,j}}$$. Where $C_i$ is the previously discussed cost function for an individual training sample $i$."
   ]
  },
  {
   "cell_type": "markdown",
   "metadata": {},
   "source": [
    "In order to actually perform SGD we are left with the task of evaluating the gradient $\\frac{\\partial C_i}{\\partial W^{(l)}_{i,j}}$. However, we must be able to evaluate this gradient quickly and ideally in parallel as this calculation will be performed many, many times. This, finally, is where the *backpropagation* algorithm comes into play. \n",
    "\n",
    "Let's define the quantity $$\\delta^{(l)}_j = \\frac{\\partial C}{\\partial z^{(l)}_j}$$.\n",
    "\n",
    "Recalling that each hidden layer is expressed as $a^{(l)}_i = \\sigma(z^{(l)}_i) = \\sigma(\\sum_j W^{(l)}_{i,j} * a^{(l-1)}_j)$. Note, for simplicity I've omitted the bias term from $z$, and am using $\\partial C$ rather than $\\partial C_i$ for notational convenience. This $\\delta^{(l)}_j$ term may be thought of as the output error for neuron $j$ in layer $l$ with respect to the cost function $C$. Using $\\delta^{(l)}_j$ we can get at our sought after gradient by applying the chain rule $$\\frac{\\partial C_i}{\\partial W^{(l)}_{i,j}} = \\frac{\\partial C}{\\partial z^{(l)}_i} \\frac{\\partial z^{(l)}_i}{\\partial W^{(l)}_{i,j}} = \\delta^{(l)}_i * a^{(l-1)}_j$$. Where $\\frac{\\partial z^{(l)}_j}{\\partial W^{(l)}_{i,j}} = a^{(l-1)}$ can be readily derived recalling that $z^{(l)}_i = \\sum_k W^{(l)}_{i,k} * a^{(l-1)}_k$.\n",
    "\n",
    "Excellent! Now we have a closed-form analytical expression for $\\frac{\\partial C_i}{\\partial W_{i,j}}$. But how do we actually compute $\\delta^{(l)}_j$ in this expression? Let's start with the last layer $L$ and apply the chain rule again, $$\\delta^{(L)}_j = \\frac{\\partial C}{\\partial a^{(L)}_j} \\frac{\\partial a^{(L)}_j}{\\partial z^{(L)}_j} = \\frac{\\partial C}{\\partial a^{(L)}_j} \\sigma^{\\prime}(z^{(L)}_j)$$. The first term $\\frac{\\partial C}{\\partial a^{(L)}_j}$ is simply the error in the cost function with respect to the last layer, a quantity which can frequently be directly derived. For instance, in the case of the quadratic cost function $C = \\frac{1}{2}||y - a^{(L)}_{j}||^2$, the derivative is simply $\\frac{\\partial C}{\\partial a^{(L)}_j} = (a^{(L)}_j - y)$. Next, the $\\sigma^{\\prime}(z^{(L)}_j)$ is nothing more than the derivative of the activation function at numerical value of $z^{(L)}_j$. This is where the previously mentioned mathematical convenience of select activation functions comes in, say, for the sigmoid activation: $\\sigma^{\\prime}(x) = \\sigma(x) (1-\\sigma(x))$. What this means is that once we have computed $\\sigma(z^{(l)}_j)$ (for any $l$) during the forward pass of the network, we can store and reuse that value to efficiently compute $\\sigma^{\\prime}(z^{(l)}_j)$ during backpropagation!\n",
    "\n",
    "Okay, this is the last step. With the error in the last layer $\\delta^{(L)}_j$ computed the final piece of the puzzle is computing the error for the remaining layers $\\delta^{(l)}_j$. Here, I will simply state the formula for the sake of brevity -- but I encourage you to look at the proof available [here](http://neuralnetworksanddeeplearning.com/chap2.html), or even better, try to prove it yourself! \n",
    "\n",
    "$$\\boldsymbol{\\delta}^{l}=((W^{(l+1)})^{T} \\boldsymbol{\\delta}^{l+1}) \\odot \\sigma^{\\prime}(\\mathbf{z}^{l})$$ \n",
    "\n",
    "The only new notation introduced here is the *hadamard product* $\\odot$: which simply performs an element-wise multiplication along two vectors (e.g. $(\\mathbf{x} \\odot \\mathbf{y})_i = x_i * y_i$). Looking at this equation, we realize now why backpropagation is called *backpropagation*: the errors for a given layer $\\boldsymbol{\\delta}^{l}$ depend on the errors in the following layer $\\boldsymbol{\\delta}^{l+1}$. Thus, once we have computed the error in the last layer $\\boldsymbol{\\delta}^{L}$, backpropagation effectively works backward to compute the errors in the remaining layers which are then purposed to calcaulte the gradients $\\frac{\\partial C_i}{\\partial W^{(l)}_{i,j}}$ used to update the weights $W^{(l)}_{i,j}$ in SGD. That's it. That's the math which drives how neural networks *actually* learn."
   ]
  },
  {
   "cell_type": "markdown",
   "metadata": {},
   "source": [
    "# Multilayer perceptron: the code\n",
    "Now that we have a handle on the math behind the MLP, we can now go ahead and implement everything we've looked at in code. Of course, we want to write efficient and fast code, which when writing in Python mean using matrix (NumPy multidimensional arrays) operations whenever possible. The mindset of using NumPy arrays is generally good practice when trying to write efficient code in Python, as NumPy will automatically employ thread parallelism when performing many operations on NumPy arrays which will help substantially to accelerate our code (this is also sometimes called *vectorizing* your code).\n",
    "\n",
    "We'll first go through and write the code for each piece of an MLP in generic Python functions. We'll then wrap everything in an `MLP` class, which will allow us to easily access all the MLP functionality in a user friendly manner."
   ]
  },
  {
   "cell_type": "markdown",
   "metadata": {},
   "source": [
    "## Feed forward"
   ]
  },
  {
   "cell_type": "markdown",
   "metadata": {},
   "source": [
    "Implementing the forward pass of the neural network is relatively simply as everything is basically just a series of matrix multiplicaitons. The example we looked at when working through the math had a forward pass which mathematically took the form \n",
    "$$\\text{softmax}((\\sigma(\\mathbf{x}W^{(1)})W^{(2)}))$$.\n",
    "We'll of course want to make things a bit more modular by allowing the user to choose some of the neural network paramters, such as the number of hidden layers `N_l` and the nunber of neurons per layer `L`. For simplicity we'll restrict that all the hidden layers are treated with sigmoid activaitons and the final layer processed with a softmax activation, which if you recall will be nessesary for us to ultimately purpose this MLP to make predictions."
   ]
  },
  {
   "cell_type": "markdown",
   "metadata": {},
   "source": [
    "We can start by simply defining our activation functions:"
   ]
  },
  {
   "cell_type": "code",
   "execution_count": 10,
   "metadata": {},
   "outputs": [],
   "source": [
    "def sigmoid(x):\n",
    "    \"\"\"\n",
    "    Compute the sigmoid of `x`, calculated element-wise\n",
    "\n",
    "    Parameters\n",
    "    ----------\n",
    "    x : float or array_like\n",
    "        input\n",
    "\n",
    "    Returns\n",
    "    -------\n",
    "    sigmoid(x) : float or array_like\n",
    "        sigmoid applied to `x` element-wise\n",
    "    \"\"\"\n",
    "    return 1./(1.+np.exp(-x))"
   ]
  },
  {
   "cell_type": "code",
   "execution_count": 11,
   "metadata": {},
   "outputs": [],
   "source": [
    "def softmax(x):\n",
    "    \"\"\"\n",
    "    Compute the softmax of `x`,\n",
    "\n",
    "    Parameters\n",
    "    ----------\n",
    "    x : array_like\n",
    "        (N x dim) array with N samples by p dimensions. dim=10 for MNIST classification. \n",
    "\n",
    "    Returns\n",
    "    -------\n",
    "    softmax(x) : float or array_like\n",
    "        softmax applied to `x` along the first axis.\n",
    "    \"\"\"\n",
    "    exponent = np.exp(x) # only compute the exponent once\n",
    "    return exponent/exponent.sum(axis=1,keepdims=True)"
   ]
  },
  {
   "cell_type": "markdown",
   "metadata": {},
   "source": [
    "The inputs `x`, weight matricies `w`, and activations are in principle all we need to define the forward pass; however, for efficency reasons we'll want to store the outputs of the hidden layer neurons when performing the forward pass. Storing these values will help us later more quickly calculate the gradients during the backward pass. The `init_layers` functions will initalize these hidden layers as NumPy arrays, doing this before we begin training will help us save some overhead we would otherwise inccur reinitalizing these hidden layers before each forward pass. These hidden layer values will be stored in multi-dimensional matricies, called *tensors*. One dimension of these tensors will be the `batch size` which will indicate the number of samples simultaneously passed to MLP during one training loop (feed forward + backpropagation)."
   ]
  },
  {
   "cell_type": "code",
   "execution_count": 12,
   "metadata": {},
   "outputs": [],
   "source": [
    "def init_layers(batch_size,layer_sizes):\n",
    "        \"\"\"\n",
    "        Initalize arrays to store the hidden layer ouputs.\n",
    "\n",
    "        Parameters\n",
    "        ----------\n",
    "        batch_size : int\n",
    "            Number of samples to concurrently feed through the network.\n",
    "        layer_sizes : array_like\n",
    "            Array of length `N_l`. Each entry is the number of neurons in each layer.\n",
    "\n",
    "        Returns\n",
    "        -------\n",
    "        hidden_layers : list\n",
    "            List of empty arrays used to hold hidden layer outputs. \n",
    "        \"\"\" \n",
    "        hidden_layers = [np.empty((batch_size,layer_size)) for layer_size in layer_sizes]\n",
    "        return hidden_layers"
   ]
  },
  {
   "cell_type": "markdown",
   "metadata": {},
   "source": [
    "In order to perform a forward pass our input `x` is consequtively multiplied by weight matricies passed into the associated activaiton functions. The paramters in these weight matricies will ultimately be learned through backpropagation, but each weight matrix must first be initalized to random values. There are a number of different methods for doing this initalization, but for the moment we'll use a simple approach of just drawing the numerical values from a normal distribution with mean zero and standard deviation 1. We could have also reasonably choosen to simply draw from a uniform distribution on the range `[-1,1]` (why would it be wrong to initalize the weight matricies with all zeros?). "
   ]
  },
  {
   "cell_type": "code",
   "execution_count": 13,
   "metadata": {},
   "outputs": [],
   "source": [
    "def init_weights(layer_sizes):\n",
    "        \"\"\"\n",
    "        Initalize the paramters of the weight matricies.\n",
    "\n",
    "        Parameters\n",
    "        ----------\n",
    "        layer_sizes : array_like\n",
    "            Array of length `N_l`. Each entry is the number of neurons in each layer.\n",
    "\n",
    "        Returns\n",
    "        -------\n",
    "        weights : array_like\n",
    "            Randomly initalized weight matricies based on the layer sizes. \n",
    "        \"\"\"\n",
    "        weights = list()\n",
    "        for i in range(layer_sizes.shape[0]-1):\n",
    "            weights.append(np.random.uniform(-1,1,size=[layer_sizes[i],layer_sizes[i+1]]))\n",
    "        weights = asarray(self.weights)\n",
    "        return weights"
   ]
  },
  {
   "cell_type": "markdown",
   "metadata": {},
   "source": [
    "Finally, we define the `feed_forward` function to iterate though the calculations to perform the forward pass."
   ]
  },
  {
   "cell_type": "code",
   "execution_count": 14,
   "metadata": {},
   "outputs": [],
   "source": [
    "def feed_forward(batch,hidden_layers,weights):\n",
    "    \"\"\"\n",
    "    Perform a forward pass of the neural network.\n",
    "\n",
    "    Parameters\n",
    "    ----------\n",
    "    batch : array_like\n",
    "        (batch_size x dim) matrix of inputs\n",
    "    hidden_layers : list\n",
    "        List of hidden layer outputs\n",
    "    weights : array_like\n",
    "        Array of weight matricies\n",
    "    \n",
    "    Returns\n",
    "    -------\n",
    "    output : array_like\n",
    "        Forward pass output of the MLP\n",
    "    hidden_layers : array_like\n",
    "        List of hidden layer outputs, populated from the forward pass.\n",
    "    \"\"\"\n",
    "    h_l = batch\n",
    "    hidden_layers[0] = h_l\n",
    "    for i,weight in enumerate(weights):\n",
    "        h_l = sigmoid(h_l.dot(weight))\n",
    "        hidden_layers[i+1]=h_l\n",
    "    output = softmax(hidden_layers[-1])\n",
    "    return output, hidden_layers"
   ]
  },
  {
   "cell_type": "markdown",
   "metadata": {},
   "source": [
    "## Backpropagation"
   ]
  },
  {
   "cell_type": "markdown",
   "metadata": {},
   "source": [
    "Initalizing all the weights, layers, and activations prior to the forward pass makes much of the backward pass implimentation actually quite simple. For convinience we'll define a `sigmoid_prime` function, which simply computes the derivative of the sigmoid activation $\\sigma^{\\prime}$. We'll use this when computing the gradients during the backward pass. Recall, $\\sigma^{\\prime}(x) = \\sigma(x)(1-\\sigma(x))$."
   ]
  },
  {
   "cell_type": "code",
   "execution_count": 15,
   "metadata": {},
   "outputs": [],
   "source": [
    "def sigmoid_prime(sigmoid_out):\n",
    "    \"\"\"\n",
    "    Calculate derivative of sigmoid activation based on sigmoid output.\n",
    "\n",
    "    Parameters\n",
    "    ----------\n",
    "    sigmoid_out : array_like\n",
    "        Output values processed by a sigmoid function.\n",
    "    \n",
    "    Returns\n",
    "    -------\n",
    "    sigmoid_prime(h) : array_like\n",
    "        Derivative of sigmoid, based on value of sigmoid.\n",
    "    \"\"\"\n",
    "    return h*(1-h)"
   ]
  },
  {
   "cell_type": "markdown",
   "metadata": {},
   "source": [
    "With everything else in place computing we're finally ready to write the backpropagation algorithm. Again, the primary goal of this step is to update the parameters of the weight matricies using stochastic gradient descent on batches of training samples, measuring the error by comparing the outputs of neural network with the true labels. "
   ]
  },
  {
   "cell_type": "code",
   "execution_count": 16,
   "metadata": {},
   "outputs": [],
   "source": [
    "def back_prop(output,batch_y,hidden_layers,weights,batch_size,lr):\n",
    "        \"\"\"\n",
    "        Calculate derivative of sigmoid activation based on sigmoid output.\n",
    "\n",
    "        Parameters\n",
    "        ----------\n",
    "        output : array_like\n",
    "            Forward pass output of the MLP\n",
    "        batch_y : array_like\n",
    "            True labels for the samples in the batch\n",
    "        hidden_layers : list\n",
    "            List of hidden layer outputs  \n",
    "        weights : array_like\n",
    "            Array of weight matricies\n",
    "        lr : float\n",
    "            Learning rate for SGD\n",
    "        batch_size : int\n",
    "            Size of a training mini-batch\n",
    "\n",
    "        Returns\n",
    "        -------\n",
    "        weights : array_like\n",
    "            Array of weight matricies, updated from the backpropagation.\n",
    "    \n",
    "        \"\"\"\n",
    "        delta_t = (output - batch_y)*sigmoid_prime(hidden_layers[-1])\n",
    "        for i in range(1,len(weights)+1):\n",
    "            weights[-i]-=lr*(hidden_layers[-i-1].T.dot(delta_t))/batch_size\n",
    "            delta_t = sigmoid_prime(hidden_layers[-i-1])*(delta_t.dot(weights[-i].T))\n",
    "        return weights"
   ]
  },
  {
   "cell_type": "markdown",
   "metadata": {},
   "source": [
    "## Training"
   ]
  },
  {
   "cell_type": "markdown",
   "metadata": {},
   "source": [
    "Having defined all the functions required to actually train the neural network, we're finally ready to assimilate everything into a training loop. The number of `epochs` we set defines the number of iterations we train our model. In each `epoch` a number of forward + backward pass are iteratively performed on mini-batches of data until our neural network has *seen* all the training data.\n",
    "\n",
    "A number of new functions such as `loss`, `accuracy`, and `to_categorical` are used in the `train` function below. These are used to record some metrics we'll display during learning and will be defined in full in our final implimentation."
   ]
  },
  {
   "cell_type": "code",
   "execution_count": 17,
   "metadata": {},
   "outputs": [],
   "source": [
    "def train(X,Y,layer_sizes,batch_size=8,epochs=25,lr=1.0):\n",
    "    \"\"\"\n",
    "    Train the MLP.\n",
    "\n",
    "    Parameters\n",
    "    ----------\n",
    "    X : array_like\n",
    "        Forward pass output of the MLP\n",
    "    Y : array_like\n",
    "        True labels for the samples in the batch\n",
    "    layer_sizes : \n",
    "        Array of length `N_l`. Each entry is the number of neurons in each layer\n",
    "    batch_size : int\n",
    "        Size of a training mini-batch\n",
    "    epochs : int\n",
    "        Number of iterations to train for\n",
    "    lr : float\n",
    "        Learning rate for SGD\n",
    "\n",
    "    Returns\n",
    "    -------\n",
    "    weights : array_like\n",
    "        Array of weight matricies, updated from the backpropagation.\n",
    "\n",
    "    \"\"\"\n",
    "    n_samples = X.shape[0]\n",
    "    \n",
    "    hidden_layers = init_layers(batch_size,layer_sizes)\n",
    "    weights = init_weights(layer_sizes)\n",
    "    for epoch in range(epochs):\n",
    "        start = time.time()\n",
    "        \n",
    "        shuffle = np.random.permutation(n_samples)       \n",
    "        X_batches = np.array_split(X[shuffle],n_samples/batch_size)\n",
    "        Y_batches = np.array_split(Y[shuffle],n_samples/batch_size)\n",
    "        \n",
    "        train_loss = 0\n",
    "        train_acc = 0\n",
    "        \n",
    "        for batch_x,batch_y in zip(X_batches,Y_batches):\n",
    "            output,hidden_layers = feed_forward(batch_x,hidden_layers,weights)  \n",
    "            train_loss += loss(output,batch_y)\n",
    "            train_acc += accuracy(to_categorical(output),batch_y)\n",
    "            weights = back_prop(output,batch_y,hidden_layers,weights,batch_size,lr)\n",
    "\n",
    "        train_loss = (train_loss/len(X_batches))\n",
    "        train_acc = (train_acc/len(X_batches))\n",
    "\n",
    "        train_time = round(time.time()-start,3)\n",
    "\n",
    "        print(f\"Epoch {epoch+1}: loss = {train_loss.round(3)} | acc = {train_acc.round(3)} | train_time = {train_time} | tot_time = {tot_time}\")\n",
    "    \n",
    "    return weights"
   ]
  },
  {
   "cell_type": "markdown",
   "metadata": {},
   "source": [
    "# Multilayer Perceptron: final form\n",
    "Everything that's been outlined suffices for running the MLP. However, as it stands things are still quite clunkly. We can clean everything up by wrapping all this code into a Python Class. If you're unfamiliar with object oriented programming in Python, I highly reccomend checking out this tutorial. \n",
    "\n",
    "Our original function defintions have been slightly changed to help absuse some of the properties of having a class structure. A number of new functions, such as `predict` and `evaluate`, have been defined in the `MLP` class. Carefully go through this code and try to understand exactly what's being done and why."
   ]
  },
  {
   "cell_type": "code",
   "execution_count": 18,
   "metadata": {},
   "outputs": [],
   "source": [
    "class MLP():\n",
    "    \n",
    "    def __init__(self,X,Y,X_val,Y_val,L=1,N_l=128):\n",
    "        self.X = np.concatenate((X,np.ones((X.shape[0],1))),axis=1)\n",
    "        self.Y = np.squeeze(np.eye(27)[Y.astype(int).reshape(-1)])\n",
    "        self.X_val = np.concatenate((X_val,np.ones((X_val.shape[0],1))),axis=1)\n",
    "        self.Y_val = np.squeeze(np.eye(27)[Y_val.astype(int).reshape(-1)])\n",
    "        self.L = L\n",
    "        self.N_l = N_l\n",
    "        self.n_samples = self.X.shape[0]\n",
    "        self.layer_sizes =np.array([self.X.shape[1]]+[N_l]*L+[self.Y.shape[1]]) \n",
    "        self.__init_weights()\n",
    "        self.train_loss = list()\n",
    "        self.train_acc = list()\n",
    "        self.val_loss = list()\n",
    "        self.val_acc = list()\n",
    "        self.train_time = list()\n",
    "        self.tot_time = list()\n",
    "        self.metrics = [self.train_loss,self.train_acc,self.val_loss,self.val_acc,self.train_time,self.tot_time]\n",
    "        \n",
    "    def __sigmoid(self,x):\n",
    "        # VCompute the sigmoid\n",
    "        return 1./(1.+np.exp(-x))\n",
    "    \n",
    "    def __tanh(self,x):\n",
    "        return np.tanh(x)\n",
    "    \n",
    "    # def __relu(self,x):\n",
    "    #     return np.maximum(x,0)\n",
    "    \n",
    "    def __softmax(self,x):\n",
    "        # Compute softmax along the rows of the input\n",
    "        exponent = np.exp(x)\n",
    "        return exponent/exponent.sum(axis=1,keepdims=True)\n",
    "    \n",
    "    def __loss(self,y_pred,y):\n",
    "        # Compute the loss along the rows, averaging along the number of samples\n",
    "        return ((-np.log(y_pred))*y).sum(axis=1).mean()\n",
    "    \n",
    "    def __accuracy(self,y_pred,y):  \n",
    "        # Compute the accuracy along the rows, averaging along the number of samples\n",
    "        return np.all(y_pred==y,axis=1).mean()\n",
    "    \n",
    "    def __sigmoid_prime(self,h):\n",
    "        # Compute the derivative of sigmoid where h=sigmoid(x)\n",
    "        return h*(1-h)\n",
    "    \n",
    "    def __tanh_prime(self,h):\n",
    "        return 1-h**2\n",
    "    \n",
    "    # def __relu_prime(self,h):\n",
    "    #     return (h>0).astype(h.dtype)\n",
    "    \n",
    "    def __to_categorical(self,x):  \n",
    "        # Transform probabilities into categorical predictions row-wise, by simply taking the max probability\n",
    "        categorical = np.zeros((x.shape[0],self.Y.shape[1]))\n",
    "        categorical[np.arange(x.shape[0]),x.argmax(axis=1)] = 1\n",
    "        return categorical\n",
    "    \n",
    "    def __init_weights(self):\n",
    "        # Initialize the weights of the network given the sizes of the layers\n",
    "        self.weights = list()\n",
    "        for i in range(self.layer_sizes.shape[0]-1):\n",
    "            self.weights.append(np.random.uniform(-1,1,size=[self.layer_sizes[i],self.layer_sizes[i+1]]))\n",
    "        self.weights = np.asarray(self.weights)\n",
    "    \n",
    "    def __init_layers(self,batch_size):\n",
    "        # Initialize and allocate arrays for the hidden layer activations \n",
    "        self.__h = [np.empty((batch_size,layer)) for layer in self.layer_sizes]\n",
    "    \n",
    "    def __feed_forward(self,batch):\n",
    "        # Perform a forward pass of `batch` samples (N_samples x N_features)\n",
    "        h_l = batch\n",
    "        self.__h[0] = h_l\n",
    "        for i,weights in enumerate(self.weights):\n",
    "            h_l = self.__tanh(h_l.dot(weights))\n",
    "            self.__h[i+1]=h_l\n",
    "        self.__out = self.__softmax(self.__h[-1])\n",
    "    \n",
    "    def __back_prop(self,batch_y):\n",
    "        # Update the weights of the network through back-propagation\n",
    "        delta_t = (self.__out - batch_y)*self.__tanh_prime(self.__h[-1])\n",
    "        for i in range(1,len(self.weights)+1):\n",
    "            self.weights[-i]-=self.lr*(self.__h[-i-1].T.dot(delta_t))/self.batch_size\n",
    "            delta_t = self.___prime(self.__h[-i-1])*(delta_t.dot(self.weights[-i].T))\n",
    "            \n",
    "    def predict(self,X):\n",
    "        # Generate a categorical, one-hot, prediction given an input X\n",
    "        X = np.concatenate((X,np.ones((X.shape[0],1))),axis=1)\n",
    "        self.__init_layers(X.shape[0])\n",
    "        self.__feed_forward(X)\n",
    "        return self.__to_categorical(self.__out)\n",
    "    \n",
    "    def evaluate(self,X,Y):\n",
    "        # Evaluate the performance (accuracy) predicting on X with true labels Y\n",
    "        prediction = self.predict(X)\n",
    "        return self.__accuracy(prediction,Y)\n",
    "        \n",
    "    def train(self,batch_size=8,epochs=25,lr=1.0):\n",
    "        # Train the model with a given batch size, epochs, and learning rate. Store and print relevant metrics.\n",
    "        self.lr = lr\n",
    "        self.batch_size=batch_size\n",
    "        for epoch in range(epochs):\n",
    "            start = time.time()\n",
    "            \n",
    "            self.__init_layers(self.batch_size)\n",
    "            shuffle = np.random.permutation(self.n_samples)\n",
    "            train_loss = 0\n",
    "            train_acc = 0\n",
    "            X_batches = np.array_split(self.X[shuffle],self.n_samples/self.batch_size)\n",
    "            Y_batches = np.array_split(self.Y[shuffle],self.n_samples/self.batch_size)\n",
    "            for batch_x,batch_y in zip(X_batches,Y_batches):\n",
    "                self.__feed_forward(batch_x)  \n",
    "                train_loss += self.__loss(self.__out,batch_y)\n",
    "                train_acc += self.__accuracy(self.__to_categorical(self.__out),batch_y)\n",
    "                self.__back_prop(batch_y)\n",
    "                \n",
    "            train_loss = (train_loss/len(X_batches))\n",
    "            train_acc = (train_acc/len(X_batches))\n",
    "            self.train_loss.append(train_loss)\n",
    "            self.train_acc.append(train_acc)\n",
    "            \n",
    "            train_time = round(time.time()-start,3)\n",
    "            self.train_time.append(train_time)\n",
    "            \n",
    "            self.__init_layers(self.X_val.shape[0])\n",
    "            self.__feed_forward(self.X_val)\n",
    "            val_loss = self.__loss(self.__out,self.Y_val)\n",
    "            val_acc = self.__accuracy(self.__to_categorical(self.__out),self.Y_val)\n",
    "            self.val_loss.append(val_loss)\n",
    "            self.val_acc.append(val_acc)\n",
    "            \n",
    "            tot_time = round(time.time()-start,3)\n",
    "            self.tot_time.append(tot_time)\n",
    "            \n",
    "            print(f\"Epoch {epoch+1}: loss = {train_loss.round(3)} | acc = {train_acc.round(3)} | val_loss = {val_loss.round(3)} | val_acc = {val_acc.round(3)} | train_time = {train_time} | tot_time = {tot_time}\")\n",
    "    "
   ]
  },
  {
   "cell_type": "markdown",
   "metadata": {},
   "source": [
    "Great, now let's give this a try. Let's create a really simple MLP with only a single hidden layer `L=1` with 128 neurons `N_l=128`. We'll train with a `batch_size=8` for `epochs=25` and a learning rate `lr=1.0`."
   ]
  },
  {
   "cell_type": "code",
   "execution_count": 19,
   "metadata": {},
   "outputs": [
    {
     "name": "stderr",
     "output_type": "stream",
     "text": [
      "C:\\Users\\Soustab\\AppData\\Local\\Temp\\ipykernel_38136\\861714966.py:65: VisibleDeprecationWarning: Creating an ndarray from ragged nested sequences (which is a list-or-tuple of lists-or-tuples-or ndarrays with different lengths or shapes) is deprecated. If you meant to do this, you must specify 'dtype=object' when creating the ndarray.\n",
      "  self.weights = np.asarray(self.weights)\n"
     ]
    },
    {
     "ename": "AttributeError",
     "evalue": "'MLP' object has no attribute '_MLP___prime'",
     "output_type": "error",
     "traceback": [
      "\u001b[1;31m---------------------------------------------------------------------------\u001b[0m",
      "\u001b[1;31mAttributeError\u001b[0m                            Traceback (most recent call last)",
      "\u001b[1;32md:\\IIT BHU\\SEM V\\IC\\IC\\MLP.ipynb Cell 65\u001b[0m line \u001b[0;36m<cell line: 2>\u001b[1;34m()\u001b[0m\n\u001b[0;32m      <a href='vscode-notebook-cell:/d%3A/IIT%20BHU/SEM%20V/IC/IC/MLP.ipynb#Y121sZmlsZQ%3D%3D?line=0'>1</a>\u001b[0m model \u001b[39m=\u001b[39m MLP(X_train,Y_train,X_test,Y_test,L\u001b[39m=\u001b[39m\u001b[39m1\u001b[39m,N_l\u001b[39m=\u001b[39m\u001b[39m256\u001b[39m)\n\u001b[1;32m----> <a href='vscode-notebook-cell:/d%3A/IIT%20BHU/SEM%20V/IC/IC/MLP.ipynb#Y121sZmlsZQ%3D%3D?line=1'>2</a>\u001b[0m model\u001b[39m.\u001b[39;49mtrain(batch_size\u001b[39m=\u001b[39;49m\u001b[39m8\u001b[39;49m,epochs\u001b[39m=\u001b[39;49m\u001b[39m40\u001b[39;49m,lr\u001b[39m=\u001b[39;49m\u001b[39m0.07\u001b[39;49m)\n",
      "\u001b[1;32md:\\IIT BHU\\SEM V\\IC\\IC\\MLP.ipynb Cell 65\u001b[0m line \u001b[0;36mMLP.train\u001b[1;34m(self, batch_size, epochs, lr)\u001b[0m\n\u001b[0;32m    <a href='vscode-notebook-cell:/d%3A/IIT%20BHU/SEM%20V/IC/IC/MLP.ipynb#Y121sZmlsZQ%3D%3D?line=113'>114</a>\u001b[0m     train_loss \u001b[39m+\u001b[39m\u001b[39m=\u001b[39m \u001b[39mself\u001b[39m\u001b[39m.\u001b[39m__loss(\u001b[39mself\u001b[39m\u001b[39m.\u001b[39m__out,batch_y)\n\u001b[0;32m    <a href='vscode-notebook-cell:/d%3A/IIT%20BHU/SEM%20V/IC/IC/MLP.ipynb#Y121sZmlsZQ%3D%3D?line=114'>115</a>\u001b[0m     train_acc \u001b[39m+\u001b[39m\u001b[39m=\u001b[39m \u001b[39mself\u001b[39m\u001b[39m.\u001b[39m__accuracy(\u001b[39mself\u001b[39m\u001b[39m.\u001b[39m__to_categorical(\u001b[39mself\u001b[39m\u001b[39m.\u001b[39m__out),batch_y)\n\u001b[1;32m--> <a href='vscode-notebook-cell:/d%3A/IIT%20BHU/SEM%20V/IC/IC/MLP.ipynb#Y121sZmlsZQ%3D%3D?line=115'>116</a>\u001b[0m     \u001b[39mself\u001b[39;49m\u001b[39m.\u001b[39;49m__back_prop(batch_y)\n\u001b[0;32m    <a href='vscode-notebook-cell:/d%3A/IIT%20BHU/SEM%20V/IC/IC/MLP.ipynb#Y121sZmlsZQ%3D%3D?line=117'>118</a>\u001b[0m train_loss \u001b[39m=\u001b[39m (train_loss\u001b[39m/\u001b[39m\u001b[39mlen\u001b[39m(X_batches))\n\u001b[0;32m    <a href='vscode-notebook-cell:/d%3A/IIT%20BHU/SEM%20V/IC/IC/MLP.ipynb#Y121sZmlsZQ%3D%3D?line=118'>119</a>\u001b[0m train_acc \u001b[39m=\u001b[39m (train_acc\u001b[39m/\u001b[39m\u001b[39mlen\u001b[39m(X_batches))\n",
      "\u001b[1;32md:\\IIT BHU\\SEM V\\IC\\IC\\MLP.ipynb Cell 65\u001b[0m line \u001b[0;36mMLP.__back_prop\u001b[1;34m(self, batch_y)\u001b[0m\n\u001b[0;32m     <a href='vscode-notebook-cell:/d%3A/IIT%20BHU/SEM%20V/IC/IC/MLP.ipynb#Y121sZmlsZQ%3D%3D?line=82'>83</a>\u001b[0m \u001b[39mfor\u001b[39;00m i \u001b[39min\u001b[39;00m \u001b[39mrange\u001b[39m(\u001b[39m1\u001b[39m,\u001b[39mlen\u001b[39m(\u001b[39mself\u001b[39m\u001b[39m.\u001b[39mweights)\u001b[39m+\u001b[39m\u001b[39m1\u001b[39m):\n\u001b[0;32m     <a href='vscode-notebook-cell:/d%3A/IIT%20BHU/SEM%20V/IC/IC/MLP.ipynb#Y121sZmlsZQ%3D%3D?line=83'>84</a>\u001b[0m     \u001b[39mself\u001b[39m\u001b[39m.\u001b[39mweights[\u001b[39m-\u001b[39mi]\u001b[39m-\u001b[39m\u001b[39m=\u001b[39m\u001b[39mself\u001b[39m\u001b[39m.\u001b[39mlr\u001b[39m*\u001b[39m(\u001b[39mself\u001b[39m\u001b[39m.\u001b[39m__h[\u001b[39m-\u001b[39mi\u001b[39m-\u001b[39m\u001b[39m1\u001b[39m]\u001b[39m.\u001b[39mT\u001b[39m.\u001b[39mdot(delta_t))\u001b[39m/\u001b[39m\u001b[39mself\u001b[39m\u001b[39m.\u001b[39mbatch_size\n\u001b[1;32m---> <a href='vscode-notebook-cell:/d%3A/IIT%20BHU/SEM%20V/IC/IC/MLP.ipynb#Y121sZmlsZQ%3D%3D?line=84'>85</a>\u001b[0m     delta_t \u001b[39m=\u001b[39m \u001b[39mself\u001b[39;49m\u001b[39m.\u001b[39;49m___prime(\u001b[39mself\u001b[39m\u001b[39m.\u001b[39m__h[\u001b[39m-\u001b[39mi\u001b[39m-\u001b[39m\u001b[39m1\u001b[39m])\u001b[39m*\u001b[39m(delta_t\u001b[39m.\u001b[39mdot(\u001b[39mself\u001b[39m\u001b[39m.\u001b[39mweights[\u001b[39m-\u001b[39mi]\u001b[39m.\u001b[39mT))\n",
      "\u001b[1;31mAttributeError\u001b[0m: 'MLP' object has no attribute '_MLP___prime'"
     ]
    }
   ],
   "source": [
    "model = MLP(X_train,Y_train,X_test,Y_test,L=1,N_l=256)\n",
    "model.train(batch_size=8,epochs=40,lr=0.07)"
   ]
  },
  {
   "cell_type": "markdown",
   "metadata": {},
   "source": [
    "Note, along with the training data, `X_train` and `Y_train`, we include a validation dataset, `X_val` and `Y_val`. The purpose of this data is to evaluate the generizability of our model. We expect our model to perform well on our training data, because of course the objective of our optimization is to minimize the error with respect to the training data, but we'd like our model to generalize to new, never before seen, data. We therefore evaluate the accuracy and loss on a hold-out set which the model never sees during training. If the performance is good on this hold-out set we can be confident that our model is generalizing well, meaning we've mananged to generally teach a computer to read hand-writing. "
   ]
  },
  {
   "cell_type": "code",
   "execution_count": null,
   "metadata": {},
   "outputs": [
    {
     "data": {
      "image/png": "[encoded data removed]",
      "text/plain": [
       "<Figure size 1080x360 with 2 Axes>"
      ]
     },
     "metadata": {
      "needs_background": "light"
     },
     "output_type": "display_data"
    }
   ],
   "source": [
    "fig,ax = plt.subplots(1,2,figsize=(15,5))\n",
    "ax[0].plot(model.train_loss,label=\"Train loss\")\n",
    "ax[0].plot(model.val_loss,label=\"Val loss\")\n",
    "ax[0].legend()\n",
    "ax[0].set_xlabel(\"Epoch\")\n",
    "ax[0].set_ylabel(\"Loss\")\n",
    "ax[0].grid()\n",
    "\n",
    "ax[1].plot(model.train_acc,label=\"Train acc\")\n",
    "ax[1].plot(model.val_acc,label=\"Val acc\")\n",
    "ax[1].legend()\n",
    "ax[1].set_xlabel(\"Epoch\")\n",
    "ax[1].set_ylabel(\"Accuracy\")\n",
    "ax[1].grid()"
   ]
  },
  {
   "cell_type": "markdown",
   "metadata": {},
   "source": [
    "Although the results here are impressive, the *hyperparamters* were carefully currated to achieve this good performance. The *hyperparamters* reffer to the paramters of the model which are not learned during the training loop (e.g. the `batch_size`, learning rate `lr`, number of hidden layers `N_l`, number of neurons-per-layer `L`). In general, these paramters need to be carefully tuned depending on the details and idiosycrisies of each problem. This tuning process tpyically involves training a model to completion under a number of different hyperparamter settings and selecting the combination of hyperparamters which yields the highest performance (measured in this case by the accuracy on our training set)."
   ]
  },
  {
   "cell_type": "code",
   "execution_count": null,
   "metadata": {},
   "outputs": [
    {
     "data": {
      "text/plain": [
       "0.7520215633423181"
      ]
     },
     "execution_count": 45,
     "metadata": {},
     "output_type": "execute_result"
    }
   ],
   "source": [
    "model.evaluate(X_test,y_test)"
   ]
  },
  {
   "cell_type": "code",
   "execution_count": null,
   "metadata": {},
   "outputs": [
    {
     "name": "stderr",
     "output_type": "stream",
     "text": [
      "C:\\Users\\Soustab\\AppData\\Local\\Temp\\ipykernel_33336\\1360422828.py:5: DeprecationWarning: `np.int` is a deprecated alias for the builtin `int`. To silence this warning, use `int` by itself. Doing this will not modify any behavior and is safe. When replacing `np.int`, you may wish to use e.g. `np.int64` or `np.int32` to specify the precision. If you wish to review your current use, check the release note link for additional information.\n",
      "Deprecated in NumPy 1.20; for more details and guidance: https://numpy.org/devdocs/release/1.20.0-notes.html#deprecations\n",
      "  self.Y = np.squeeze(np.eye(27)[Y.astype(np.int).reshape(-1)])\n",
      "C:\\Users\\Soustab\\AppData\\Local\\Temp\\ipykernel_33336\\1360422828.py:7: DeprecationWarning: `np.int` is a deprecated alias for the builtin `int`. To silence this warning, use `int` by itself. Doing this will not modify any behavior and is safe. When replacing `np.int`, you may wish to use e.g. `np.int64` or `np.int32` to specify the precision. If you wish to review your current use, check the release note link for additional information.\n",
      "Deprecated in NumPy 1.20; for more details and guidance: https://numpy.org/devdocs/release/1.20.0-notes.html#deprecations\n",
      "  self.Y_val = np.squeeze(np.eye(27)[Y_val.astype(np.int).reshape(-1)])\n",
      "C:\\Users\\Soustab\\AppData\\Local\\Temp\\ipykernel_33336\\1360422828.py:65: VisibleDeprecationWarning: Creating an ndarray from ragged nested sequences (which is a list-or-tuple of lists-or-tuples-or ndarrays with different lengths or shapes) is deprecated. If you meant to do this, you must specify 'dtype=object' when creating the ndarray.\n",
      "  self.weights = np.asarray(self.weights)\n"
     ]
    },
    {
     "name": "stdout",
     "output_type": "stream",
     "text": [
      "Epoch 1: loss = 3.596 | acc = 0.001 | val_loss = 3.296 | val_acc = 0.0 | train_time = 1.594 | tot_time = 1.598\n",
      "Epoch 2: loss = 3.295 | acc = 0.0 | val_loss = 3.296 | val_acc = 0.0 | train_time = 1.391 | tot_time = 1.396\n",
      "Epoch 3: loss = 3.295 | acc = 0.0 | val_loss = 3.296 | val_acc = 0.0 | train_time = 1.289 | tot_time = 1.293\n",
      "Epoch 4: loss = 3.295 | acc = 0.0 | val_loss = 3.296 | val_acc = 0.0 | train_time = 1.357 | tot_time = 1.361\n",
      "Epoch 5: loss = 3.295 | acc = 0.0 | val_loss = 3.296 | val_acc = 0.0 | train_time = 1.423 | tot_time = 1.427\n",
      "Epoch 6: loss = 3.295 | acc = 0.0 | val_loss = 3.296 | val_acc = 0.0 | train_time = 1.429 | tot_time = 1.433\n"
     ]
    },
    {
     "ename": "KeyboardInterrupt",
     "evalue": "",
     "output_type": "error",
     "traceback": [
      "\u001b[1;31m---------------------------------------------------------------------------\u001b[0m",
      "\u001b[1;31mKeyboardInterrupt\u001b[0m                         Traceback (most recent call last)",
      "\u001b[1;32md:\\IIT BHU\\SEM V\\IC\\IC\\MLP.ipynb Cell 70\u001b[0m line \u001b[0;36m<cell line: 2>\u001b[1;34m()\u001b[0m\n\u001b[0;32m      <a href='vscode-notebook-cell:/d%3A/IIT%20BHU/SEM%20V/IC/IC/MLP.ipynb#Y126sZmlsZQ%3D%3D?line=0'>1</a>\u001b[0m model2 \u001b[39m=\u001b[39m  MLP(X_train,Y_train,X_test,Y_test,L\u001b[39m=\u001b[39m\u001b[39m1\u001b[39m,N_l\u001b[39m=\u001b[39m\u001b[39m256\u001b[39m)\n\u001b[1;32m----> <a href='vscode-notebook-cell:/d%3A/IIT%20BHU/SEM%20V/IC/IC/MLP.ipynb#Y126sZmlsZQ%3D%3D?line=1'>2</a>\u001b[0m model2\u001b[39m.\u001b[39;49mtrain(batch_size\u001b[39m=\u001b[39;49m\u001b[39m8\u001b[39;49m,epochs\u001b[39m=\u001b[39;49m\u001b[39m40\u001b[39;49m,lr\u001b[39m=\u001b[39;49m\u001b[39m0.10\u001b[39;49m)\n",
      "\u001b[1;32md:\\IIT BHU\\SEM V\\IC\\IC\\MLP.ipynb Cell 70\u001b[0m line \u001b[0;36mMLP.train\u001b[1;34m(self, batch_size, epochs, lr)\u001b[0m\n\u001b[0;32m    <a href='vscode-notebook-cell:/d%3A/IIT%20BHU/SEM%20V/IC/IC/MLP.ipynb#Y126sZmlsZQ%3D%3D?line=110'>111</a>\u001b[0m Y_batches \u001b[39m=\u001b[39m np\u001b[39m.\u001b[39marray_split(\u001b[39mself\u001b[39m\u001b[39m.\u001b[39mY[shuffle],\u001b[39mself\u001b[39m\u001b[39m.\u001b[39mn_samples\u001b[39m/\u001b[39m\u001b[39mself\u001b[39m\u001b[39m.\u001b[39mbatch_size)\n\u001b[0;32m    <a href='vscode-notebook-cell:/d%3A/IIT%20BHU/SEM%20V/IC/IC/MLP.ipynb#Y126sZmlsZQ%3D%3D?line=111'>112</a>\u001b[0m \u001b[39mfor\u001b[39;00m batch_x,batch_y \u001b[39min\u001b[39;00m \u001b[39mzip\u001b[39m(X_batches,Y_batches):\n\u001b[1;32m--> <a href='vscode-notebook-cell:/d%3A/IIT%20BHU/SEM%20V/IC/IC/MLP.ipynb#Y126sZmlsZQ%3D%3D?line=112'>113</a>\u001b[0m     \u001b[39mself\u001b[39;49m\u001b[39m.\u001b[39;49m__feed_forward(batch_x)  \n\u001b[0;32m    <a href='vscode-notebook-cell:/d%3A/IIT%20BHU/SEM%20V/IC/IC/MLP.ipynb#Y126sZmlsZQ%3D%3D?line=113'>114</a>\u001b[0m     train_loss \u001b[39m+\u001b[39m\u001b[39m=\u001b[39m \u001b[39mself\u001b[39m\u001b[39m.\u001b[39m__loss(\u001b[39mself\u001b[39m\u001b[39m.\u001b[39m__out,batch_y)\n\u001b[0;32m    <a href='vscode-notebook-cell:/d%3A/IIT%20BHU/SEM%20V/IC/IC/MLP.ipynb#Y126sZmlsZQ%3D%3D?line=114'>115</a>\u001b[0m     train_acc \u001b[39m+\u001b[39m\u001b[39m=\u001b[39m \u001b[39mself\u001b[39m\u001b[39m.\u001b[39m__accuracy(\u001b[39mself\u001b[39m\u001b[39m.\u001b[39m__to_categorical(\u001b[39mself\u001b[39m\u001b[39m.\u001b[39m__out),batch_y)\n",
      "\u001b[1;32md:\\IIT BHU\\SEM V\\IC\\IC\\MLP.ipynb Cell 70\u001b[0m line \u001b[0;36mMLP.__feed_forward\u001b[1;34m(self, batch)\u001b[0m\n\u001b[0;32m     <a href='vscode-notebook-cell:/d%3A/IIT%20BHU/SEM%20V/IC/IC/MLP.ipynb#Y126sZmlsZQ%3D%3D?line=73'>74</a>\u001b[0m \u001b[39mself\u001b[39m\u001b[39m.\u001b[39m__h[\u001b[39m0\u001b[39m] \u001b[39m=\u001b[39m h_l\n\u001b[0;32m     <a href='vscode-notebook-cell:/d%3A/IIT%20BHU/SEM%20V/IC/IC/MLP.ipynb#Y126sZmlsZQ%3D%3D?line=74'>75</a>\u001b[0m \u001b[39mfor\u001b[39;00m i,weights \u001b[39min\u001b[39;00m \u001b[39menumerate\u001b[39m(\u001b[39mself\u001b[39m\u001b[39m.\u001b[39mweights):\n\u001b[1;32m---> <a href='vscode-notebook-cell:/d%3A/IIT%20BHU/SEM%20V/IC/IC/MLP.ipynb#Y126sZmlsZQ%3D%3D?line=75'>76</a>\u001b[0m     h_l \u001b[39m=\u001b[39m \u001b[39mself\u001b[39;49m\u001b[39m.\u001b[39;49m__relu(h_l\u001b[39m.\u001b[39;49mdot(weights))\n\u001b[0;32m     <a href='vscode-notebook-cell:/d%3A/IIT%20BHU/SEM%20V/IC/IC/MLP.ipynb#Y126sZmlsZQ%3D%3D?line=76'>77</a>\u001b[0m     \u001b[39mself\u001b[39m\u001b[39m.\u001b[39m__h[i\u001b[39m+\u001b[39m\u001b[39m1\u001b[39m]\u001b[39m=\u001b[39mh_l\n\u001b[0;32m     <a href='vscode-notebook-cell:/d%3A/IIT%20BHU/SEM%20V/IC/IC/MLP.ipynb#Y126sZmlsZQ%3D%3D?line=77'>78</a>\u001b[0m \u001b[39mself\u001b[39m\u001b[39m.\u001b[39m__out \u001b[39m=\u001b[39m \u001b[39mself\u001b[39m\u001b[39m.\u001b[39m__softmax(\u001b[39mself\u001b[39m\u001b[39m.\u001b[39m__h[\u001b[39m-\u001b[39m\u001b[39m1\u001b[39m])\n",
      "\u001b[1;32md:\\IIT BHU\\SEM V\\IC\\IC\\MLP.ipynb Cell 70\u001b[0m line \u001b[0;36mMLP.__relu\u001b[1;34m(self, x)\u001b[0m\n\u001b[0;32m     <a href='vscode-notebook-cell:/d%3A/IIT%20BHU/SEM%20V/IC/IC/MLP.ipynb#Y126sZmlsZQ%3D%3D?line=27'>28</a>\u001b[0m \u001b[39mdef\u001b[39;00m \u001b[39m__relu\u001b[39m(\u001b[39mself\u001b[39m,x):\n\u001b[1;32m---> <a href='vscode-notebook-cell:/d%3A/IIT%20BHU/SEM%20V/IC/IC/MLP.ipynb#Y126sZmlsZQ%3D%3D?line=28'>29</a>\u001b[0m     \u001b[39mreturn\u001b[39;00m np\u001b[39m.\u001b[39;49mmaximum(x,\u001b[39m0\u001b[39;49m)\n",
      "\u001b[1;31mKeyboardInterrupt\u001b[0m: "
     ]
    }
   ],
   "source": [
    "model2 =  MLP(X_train,Y_train,X_test,Y_test,L=1,N_l=256)\n",
    "model2.train(batch_size=8,epochs=40,lr=0.10)"
   ]
  }
 ],
 "metadata": {
  "kernelspec": {
   "display_name": "Python 3",
   "language": "python",
   "name": "python3"
  },
  "language_info": {
   "codemirror_mode": {
    "name": "ipython",
    "version": 3
   },
   "file_extension": ".py",
   "mimetype": "text/x-python",
   "name": "python",
   "nbconvert_exporter": "python",
   "pygments_lexer": "ipython3",
   "version": "3.10.4"
  },
  "varInspector": {
   "cols": {
    "lenName": 16,
    "lenType": 16,
    "lenVar": 40
   },
   "kernels_config": {
    "python": {
     "delete_cmd_postfix": "",
     "delete_cmd_prefix": "del ",
     "library": "var_list.py",
     "varRefreshCmd": "print(var_dic_list())"
    },
    "r": {
     "delete_cmd_postfix": ") ",
     "delete_cmd_prefix": "rm(",
     "library": "var_list.r",
     "varRefreshCmd": "cat(var_dic_list()) "
    }
   },
   "types_to_exclude": [
    "module",
    "function",
    "builtin_function_or_method",
    "instance",
    "_Feature"
   ],
   "window_display": false
  }
 },
 "nbformat": 4,
 "nbformat_minor": 2
}
