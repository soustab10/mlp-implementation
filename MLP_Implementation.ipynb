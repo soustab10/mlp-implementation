{
  "cells": [
    {
      "cell_type": "markdown",
      "metadata": {
        "id": "O_0d29XUu6f-"
      },
      "source": [
        "# <center> Machine Learning </center>\n",
        "# <center> Multilayer Perceptron from Scratch </center>"
      ]
    },
    {
      "cell_type": "markdown",
      "metadata": {
        "id": "nKledu4Fu6f_"
      },
      "source": [
        "# About this notebook\n",
        "\n",
        "This notebook kernel was created to help you understand more about machine learning. I intend to create tutorials with several machine learning algorithms from basic to advanced. I hope I can help you with this data science trail. For any information, you can contact me through the link below.\n",
        "\n",
        "Contact me: https://www.linkedin.com/in/vitorgamalemos/\n",
        "\n",
        "**Other noteboks about neural networks:**\n",
        "  - Simple Perceptron: https://www.kaggle.com/vitorgamalemos/neural-network-01-simple-perceptron\n",
        "  - Multilayer Perceptron: https://www.kaggle.com/vitorgamalemos/neural-network-02-multilayer-perceptron\n",
        "  - Convolutional neural network: https://www.kaggle.com/vitorgamalemos/object-recognition-using-convolutional-network\n",
        "  - GANs: https://www.kaggle.com/vitorgamalemos/generating-digits-with-gans\n",
        "  \n",
        "  \n",
        "\n",
        "# 1. Introduction about Iris Flower\n",
        "\n",
        "<p style=\"text-align: justify;\">The Iris Flower Dataset, also called Fisher’s Iris, is a dataset introduced by Ronald Fisher, a British statistician, and biologist, with several contributions to science. Ronald Fisher has well known worldwide for his paper The use of multiple measurements in taxonomic problems as an example of linear discriminant analysis. It was in this paper that Ronald Fisher introduced the Iris flower dataset.</p>\n",
        "\n",
        "<p style=\"text-align: justify;\">The iris database consists of 50 samples distributed among three different species of iris. Each of these samples has specific characteristics, which allows them to be classified into three categories: Iris Setosa, Iris Virginica, and Iris versicolor. In this tutorial, we will use multilayer perceptron to separate and classify the iris samples.</p>\n",
        "\n",
        "- The data set consists of 50 samples from each of three species of Iris (Iris setosa, Iris virginica, and Iris versicolor).\n",
        "\n",
        "- Four features were measured from each sample, the length and the width of the sepals and petals, in centimeters.\n",
        "\n",
        "- Based on the combination of these four features, Fisher developed a linear discriminant model to distinguish the species from each other.\n",
        "\n",
        "For this example, I will implement a multilayer perceptron without any Python libraries. However, to help us format and manipulate the iris data set, we will use numpy, matplotlib, seaborn, and scikit-learn libraries."
      ]
    },
    {
      "cell_type": "markdown",
      "metadata": {
        "id": "1dCDJsytu6gA"
      },
      "source": [
        "# 2. Artificial Neural Networks\n",
        "\n",
        "<p style=\"text-align: justify;\">Artificial Neural Networks are mathematical models inspired by the human brain, specifically the ability to learn, process, and perform tasks. The Artificial Neural Networks are powerful tools that assist in solving complex problems linked mainly in the area of combinatorial optimization and machine learning. In this context, artificial neural networks have the most varied applications possible, as such models can adapt to the situations presented, ensuring a gradual increase in performance without any human interference. We can say that the Artificial Neural Networks are potent methods can give computers a new possibility, that is, a machine does not get stuck to preprogrammed rules and opens up various options to learn from its own mistakes. </p>\n"
      ]
    },
    {
      "cell_type": "markdown",
      "metadata": {
        "id": "8WCLv9wyu6gA"
      },
      "source": [
        "# 3. How implement a Multilayer Perceptron"
      ]
    },
    {
      "cell_type": "markdown",
      "metadata": {
        "id": "MV6NZtjku6gA"
      },
      "source": [
        "## 3.1. Some Python Libraries\n",
        "\n",
        "<p style=\"text-align: justify;\">In the first place, Let's define some libraries to help us in the manipulation the data set, such as `numpy`, `matplotlib`, `seaborn` and `scikit-learn`. In this tutorial, I am implementing a Multilayer Perceptron without any framework like Keras or similar ones. The goal here is to be as simple as possible! So to help you with this task, we implementing the neural network without using ready-made libraries. You can use numpy to work with array operations! There is no problem it! </p>"
      ]
    },
    {
      "cell_type": "code",
      "execution_count": 288,
      "metadata": {
        "execution": {
          "iopub.execute_input": "2021-11-10T06:29:31.559173Z",
          "iopub.status.busy": "2021-11-10T06:29:31.558778Z",
          "iopub.status.idle": "2021-11-10T06:29:31.589735Z",
          "shell.execute_reply": "2021-11-10T06:29:31.589050Z",
          "shell.execute_reply.started": "2021-11-10T06:29:31.559098Z"
        },
        "id": "523hCyL4u6gA"
      },
      "outputs": [],
      "source": [
        "import random\n",
        "import seaborn\n",
        "import numpy as np\n",
        "import pandas as pd\n",
        "import matplotlib.pyplot as plt\n",
        "import matplotlib.cm as cm\n",
        "import pandas\n",
        "from pandas.plotting import scatter_matrix\n",
        "\n",
        "seaborn.set(style='whitegrid'); seaborn.set_context('talk')\n",
        "%matplotlib inline\n",
        "%config InlineBackend.figure_format = 'retina'\n",
        "\n",
        "\n",
        "\n",
        "dataset = pandas.read_csv('./car_evaluation.csv')\n",
        "car_data = dataset\n",
        "car_data.columns = ['buying', 'maint', 'doors','persons','lugBoot','safety','evaluation']\n",
        "car_data.buying.replace(('vhigh','high','med','low'),(4,3,2,1), inplace=True)\n",
        "car_data.maint.replace(('vhigh','high','med','low'),(4,3,2,1), inplace=True)\n",
        "car_data.doors.replace(('2','3','4','5more'),(2,3,4,5), inplace=True)\n",
        "car_data.persons.replace(('2','4','more'),(2,4,5), inplace=True)\n",
        "car_data.lugBoot.replace(('small','med','big'),(1,2,3), inplace=True)\n",
        "car_data.safety.replace(('low','med','high'),(1,2,3), inplace=True)\n",
        "car_data.evaluation.replace(('unacc','acc','good','vgood'),(0,1,2,3), inplace=True)\n",
        "# scatter_matrix(dataset, alpha=0.5, figsize=(20, 20))\n",
        "# plt.show()\n",
        "# from sklearn.datasets import load_diabetes\n",
        "# car_data = load_diabetes"
      ]
    },
    {
      "cell_type": "markdown",
      "metadata": {
        "id": "Ra3BgR4Cu6gB"
      },
      "source": [
        "## 3.2. An analysis about the Iris Flower Dataset\n"
      ]
    },
    {
      "cell_type": "code",
      "execution_count": 289,
      "metadata": {
        "colab": {
          "base_uri": "https://localhost:8080/"
        },
        "execution": {
          "iopub.execute_input": "2021-11-10T06:29:31.592006Z",
          "iopub.status.busy": "2021-11-10T06:29:31.591482Z",
          "iopub.status.idle": "2021-11-10T06:29:31.597071Z",
          "shell.execute_reply": "2021-11-10T06:29:31.596421Z",
          "shell.execute_reply.started": "2021-11-10T06:29:31.591950Z"
        },
        "id": "3dIHgkU3u6gB",
        "outputId": "5ea253ae-b951-4629-95fb-5d4961d503d8"
      },
      "outputs": [
        {
          "name": "stdout",
          "output_type": "stream",
          "text": [
            "      buying  maint  doors  persons  lugBoot  safety  evaluation\n",
            "0          4      4      2        2        1       2           0\n",
            "1          4      4      2        2        1       3           0\n",
            "2          4      4      2        2        2       1           0\n",
            "3          4      4      2        2        2       2           0\n",
            "4          4      4      2        2        2       3           0\n",
            "...      ...    ...    ...      ...      ...     ...         ...\n",
            "1722       1      1      5        5        2       2           2\n",
            "1723       1      1      5        5        2       3           3\n",
            "1724       1      1      5        5        3       1           0\n",
            "1725       1      1      5        5        3       2           2\n",
            "1726       1      1      5        5        3       3           3\n",
            "\n",
            "[1727 rows x 7 columns]\n"
          ]
        }
      ],
      "source": [
        "print(car_data)"
      ]
    },
    {
      "cell_type": "code",
      "execution_count": 290,
      "metadata": {
        "colab": {
          "base_uri": "https://localhost:8080/"
        },
        "execution": {
          "iopub.execute_input": "2021-11-10T06:29:31.598939Z",
          "iopub.status.busy": "2021-11-10T06:29:31.598507Z",
          "iopub.status.idle": "2021-11-10T06:29:32.089302Z",
          "shell.execute_reply": "2021-11-10T06:29:32.088419Z",
          "shell.execute_reply.started": "2021-11-10T06:29:31.598898Z"
        },
        "id": "2S9eqRNnu6gC",
        "outputId": "4ca09dcb-129b-4da4-8ef5-f8fecd95d663"
      },
      "outputs": [
        {
          "name": "stdout",
          "output_type": "stream",
          "text": [
            "1727 7\n"
          ]
        }
      ],
      "source": [
        "n_samples, n_features = car_data.shape\n",
        "print (n_samples,n_features)\n",
        "\n",
        "# plt.subplot(1, 2, 1)\n",
        "# scatter_plot = plt.scatter(car_data.data[:,0], car_data.data[:,1], alpha=0.5,\n",
        "#                            c=car_data.target)\n",
        "# plt.colorbar(ticks=([0, 1, 2]))\n",
        "# plt.title('abc')\n",
        "\n",
        "# plt.subplot(1, 2, 2)\n",
        "# scatter_plot_2 = plt.scatter(car_data.data[:,2], car_data.data[:,3], alpha=0.5,\n",
        "#                            c=car_data.target)\n",
        "# plt.colorbar(ticks=([0, 1, 2]))\n",
        "# plt.title('rew')"
      ]
    },
    {
      "cell_type": "code",
      "execution_count": null,
      "metadata": {
        "colab": {
          "base_uri": "https://localhost:8080/",
          "height": 1000
        },
        "execution": {
          "iopub.execute_input": "2021-11-10T06:29:32.091334Z",
          "iopub.status.busy": "2021-11-10T06:29:32.090807Z",
          "iopub.status.idle": "2021-11-10T06:29:34.599962Z",
          "shell.execute_reply": "2021-11-10T06:29:34.599291Z",
          "shell.execute_reply.started": "2021-11-10T06:29:32.091276Z"
        },
        "id": "qGeh2_bQu6gC",
        "outputId": "b31d0878-11fa-4760-a6f8-d4c9313cd660"
      },
      "outputs": [],
      "source": [
        "\n",
        "\n"
      ]
    },
    {
      "cell_type": "code",
      "execution_count": 291,
      "metadata": {
        "colab": {
          "base_uri": "https://localhost:8080/",
          "height": 1000
        },
        "execution": {
          "iopub.execute_input": "2021-11-10T06:29:34.602776Z",
          "iopub.status.busy": "2021-11-10T06:29:34.602409Z",
          "iopub.status.idle": "2021-11-10T06:29:36.307772Z",
          "shell.execute_reply": "2021-11-10T06:29:36.306932Z",
          "shell.execute_reply.started": "2021-11-10T06:29:34.602737Z"
        },
        "id": "fYzxLUehu6gD",
        "outputId": "36ebcb61-2e93-43c0-827d-f072d0fa5cbf"
      },
      "outputs": [],
      "source": [
        "# dataset.hist(alpha=0.5, figsize=(20, 20), color='red')\n",
        "# plt.show()"
      ]
    },
    {
      "cell_type": "code",
      "execution_count": 292,
      "metadata": {
        "colab": {
          "base_uri": "https://localhost:8080/",
          "height": 846
        },
        "execution": {
          "iopub.execute_input": "2021-11-10T06:29:36.310194Z",
          "iopub.status.busy": "2021-11-10T06:29:36.309902Z",
          "iopub.status.idle": "2021-11-10T06:29:37.184075Z",
          "shell.execute_reply": "2021-11-10T06:29:37.182884Z",
          "shell.execute_reply.started": "2021-11-10T06:29:36.310140Z"
        },
        "id": "6SBbhXpAu6gD",
        "outputId": "e202e650-a7cb-4967-b6ef-74f9f69c8065"
      },
      "outputs": [],
      "source": [
        "# dataset.plot(subplots=True, figsize=(10, 10), sharex=False, sharey=False)\n",
        "# plt.show()"
      ]
    },
    {
      "cell_type": "markdown",
      "metadata": {
        "id": "I84n0XMru6gD"
      },
      "source": [
        "# 4. Manually separating our dataset\n",
        "\n",
        "It is here that we will select our samples to train and test the algorithms: **80% Training Samples and 20% Test**\n",
        "<div class=\"container-fluid\">\n",
        "  <div class=\"row\">\n",
        "      <div class=\"col-md-2\" align='center'>\n",
        "      </div>\n",
        "      <div class='col-md-8' align='center'>\n",
        "      </div>\n",
        "      <div class=\"col-md-2\" align='center'></div>\n",
        "  </div>\n",
        "</div>"
      ]
    },
    {
      "cell_type": "code",
      "execution_count": 293,
      "metadata": {},
      "outputs": [
        {
          "name": "stdout",
          "output_type": "stream",
          "text": [
            "      buying  maint  doors  persons  lugBoot  safety\n",
            "0          4      4      2        2        1       2\n",
            "1          4      4      2        2        1       3\n",
            "2          4      4      2        2        2       1\n",
            "3          4      4      2        2        2       2\n",
            "4          4      4      2        2        2       3\n",
            "...      ...    ...    ...      ...      ...     ...\n",
            "1722       1      1      5        5        2       2\n",
            "1723       1      1      5        5        2       3\n",
            "1724       1      1      5        5        3       1\n",
            "1725       1      1      5        5        3       2\n",
            "1726       1      1      5        5        3       3\n",
            "\n",
            "[1727 rows x 6 columns] 0       0\n",
            "1       0\n",
            "2       0\n",
            "3       0\n",
            "4       0\n",
            "       ..\n",
            "1722    2\n",
            "1723    3\n",
            "1724    0\n",
            "1725    2\n",
            "1726    3\n",
            "Name: evaluation, Length: 1727, dtype: int64\n"
          ]
        }
      ],
      "source": [
        "X=car_data.drop('evaluation',axis=1)\n",
        "y=car_data['evaluation']\n",
        "print (X,y)"
      ]
    },
    {
      "cell_type": "code",
      "execution_count": 294,
      "metadata": {
        "execution": {
          "iopub.execute_input": "2021-11-10T06:29:37.186181Z",
          "iopub.status.busy": "2021-11-10T06:29:37.185819Z",
          "iopub.status.idle": "2021-11-10T06:29:37.202464Z",
          "shell.execute_reply": "2021-11-10T06:29:37.201397Z",
          "shell.execute_reply.started": "2021-11-10T06:29:37.186122Z"
        },
        "id": "JTjkiH70u6gE"
      },
      "outputs": [
        {
          "name": "stdout",
          "output_type": "stream",
          "text": [
            "[[4 2 2 5]\n",
            " [2 2 2 4]\n",
            " [2 3 2 4]\n",
            " [4 4 3 2]\n",
            " [4 3 4 4]\n",
            " [3 3 2 2]\n",
            " [4 4 2 2]\n",
            " [4 2 5 4]\n",
            " [4 3 4 2]\n",
            " [3 4 3 5]\n",
            " [2 1 4 4]\n",
            " [2 4 5 2]\n",
            " [4 2 2 2]\n",
            " [2 3 3 4]\n",
            " [4 4 3 5]\n",
            " [3 2 4 5]\n",
            " [4 4 3 2]\n",
            " [3 2 2 2]\n",
            " [2 2 3 5]\n",
            " [3 1 5 2]\n",
            " [4 3 2 2]\n",
            " [4 2 5 2]\n",
            " [2 2 3 2]\n",
            " [3 2 2 5]\n",
            " [2 1 3 5]\n",
            " [4 2 3 5]\n",
            " [1 2 3 2]\n",
            " [1 1 5 4]\n",
            " [1 3 3 2]\n",
            " [4 3 5 4]\n",
            " [3 2 4 4]\n",
            " [4 2 4 2]\n",
            " [2 3 4 2]\n",
            " [3 2 3 5]\n",
            " [1 3 4 2]\n",
            " [4 1 3 2]\n",
            " [3 4 5 4]\n",
            " [4 4 3 5]\n",
            " [1 2 3 4]\n",
            " [1 4 2 4]\n",
            " [3 2 5 5]\n",
            " [3 3 4 4]\n",
            " [1 4 2 2]\n",
            " [2 3 3 4]\n",
            " [2 1 4 4]\n",
            " [2 3 3 2]\n",
            " [3 4 2 5]\n",
            " [4 3 5 4]\n",
            " [2 2 2 5]\n",
            " [2 4 3 5]\n",
            " [4 3 3 4]\n",
            " [3 2 3 5]\n",
            " [2 1 4 5]\n",
            " [2 1 4 5]\n",
            " [4 1 3 2]\n",
            " [3 2 2 5]\n",
            " [1 4 5 4]\n",
            " [2 2 4 4]\n",
            " [4 1 3 4]\n",
            " [3 1 5 5]\n",
            " [4 1 5 4]\n",
            " [3 4 4 4]\n",
            " [1 1 2 2]\n",
            " [4 2 5 2]\n",
            " [2 1 4 5]\n",
            " [3 4 3 4]\n",
            " [3 4 3 4]\n",
            " [2 2 5 2]\n",
            " [2 1 4 2]\n",
            " [2 2 5 4]\n",
            " [2 4 2 4]\n",
            " [2 1 4 4]\n",
            " [1 4 4 2]\n",
            " [2 3 5 5]\n",
            " [3 4 5 2]\n",
            " [3 2 2 4]\n",
            " [3 4 5 2]\n",
            " [1 1 3 4]\n",
            " [3 1 4 5]\n",
            " [2 3 2 4]\n",
            " [2 4 2 5]\n",
            " [1 1 3 2]\n",
            " [1 1 4 5]\n",
            " [2 2 4 5]\n",
            " [3 3 5 2]\n",
            " [3 2 3 4]\n",
            " [4 2 4 4]\n",
            " [1 1 4 5]\n",
            " [2 2 3 5]\n",
            " [3 3 3 5]\n",
            " [3 3 5 4]\n",
            " [1 4 5 2]\n",
            " [1 1 2 5]\n",
            " [3 4 2 5]\n",
            " [3 1 2 2]\n",
            " [1 3 2 2]\n",
            " [3 3 4 5]\n",
            " [2 1 4 5]\n",
            " [2 1 5 2]\n",
            " [2 4 3 2]\n",
            " [3 4 5 5]\n",
            " [3 1 2 2]\n",
            " [4 2 2 2]\n",
            " [1 4 3 2]\n",
            " [2 3 3 4]\n",
            " [4 4 3 5]\n",
            " [3 3 2 5]\n",
            " [4 2 2 2]\n",
            " [3 1 4 4]\n",
            " [2 3 5 5]\n",
            " [1 4 2 5]\n",
            " [3 1 5 2]\n",
            " [4 3 3 5]\n",
            " [4 1 3 5]\n",
            " [4 4 5 2]\n",
            " [3 2 3 4]\n",
            " [2 2 4 2]\n",
            " [4 3 4 4]\n",
            " [1 2 4 5]\n",
            " [1 2 5 5]]\n",
            "[1 2 2 3 1 1 3 3 1 2 1 1 1 1 1 2 2 1 1 2 2 3 2 3 3 3 2 2 2 1 3 1 1 1 2 1 2\n",
            " 1 2 1 2 3 1 3 3 1 1 1 3 2 3 3 2 2 1 2 3 2 1 1 1 1 2 1 3 3 2 3 3 3 3 2 3 3\n",
            " 2 2 1 2 2 3 1 3 1 3 3 2 2 2 2 1 3 3 2 3 2 2 2 3 2 2 1 2 3 1 3 2 2 1 3 1 1\n",
            " 1 2 3 1 2 1 2 3 2]\n"
          ]
        }
      ],
      "source": [
        "random.seed(123)\n",
        "\n",
        "def separate_data():\n",
        "    A = car_dataset[0:40]\n",
        "    tA = car_dataset[40:50]\n",
        "    B = car_dataset[50:90]\n",
        "    tB = car_dataset[90:100]\n",
        "    C = car_dataset[100:140]\n",
        "    tC = car_dataset[140:150]\n",
        "    train = np.concatenate((A,B,C))\n",
        "    test =  np.concatenate((tA,tB,tC))\n",
        "    return train,test\n",
        "\n",
        "train_percent = 80 # percent Training\n",
        "test_percent = 20 # percent Test\n",
        "car_dataset = np.column_stack((X,y)) #Join X and Y\n",
        "car_dataset = list(car_dataset)\n",
        "random.shuffle(car_dataset)\n",
        "\n",
        "Filetrain, Filetest = separate_data()\n",
        "\n",
        "train_X = np.array([i[:4] for i in Filetrain])\n",
        "train_y = np.array([i[4] for i in Filetrain])\n",
        "test_X = np.array([i[:4] for i in Filetest])\n",
        "test_y = np.array([i[4] for i in Filetest])\n",
        "\n",
        "print(train_X)\n",
        "print(train_y)"
      ]
    },
    {
      "cell_type": "markdown",
      "metadata": {
        "id": "RnU_wIlou6gE"
      },
      "source": [
        "## 4.1. Plot our training Samples"
      ]
    },
    {
      "cell_type": "code",
      "execution_count": 295,
      "metadata": {
        "colab": {
          "base_uri": "https://localhost:8080/",
          "height": 499
        },
        "execution": {
          "iopub.execute_input": "2021-11-10T06:29:37.205075Z",
          "iopub.status.busy": "2021-11-10T06:29:37.204498Z",
          "iopub.status.idle": "2021-11-10T06:29:37.579864Z",
          "shell.execute_reply": "2021-11-10T06:29:37.578484Z",
          "shell.execute_reply.started": "2021-11-10T06:29:37.204865Z"
        },
        "id": "s1-bfVVTu6gE",
        "outputId": "c7075ea1-2cc3-48c7-ae65-774e94c18d01"
      },
      "outputs": [],
      "source": [
        "import matplotlib.pyplot as plt\n",
        "import matplotlib.cm as cm\n",
        "\n",
        "\n",
        "# plt.subplot(1, 2, 1)\n",
        "# plt.scatter(train_X[:,0],train_X[:,1],c=train_y,cmap=cm.viridis)\n",
        "# plt.xlabel(car_data.feature_names[0])\n",
        "# plt.ylabel(car_data.feature_names[1])\n",
        "\n",
        "# plt.subplot(1, 2, 2)\n",
        "# plt.scatter(train_X[:,2],train_X[:,3],c=train_y,cmap=cm.viridis)\n",
        "# plt.xlabel(car_data.feature_names[2])\n",
        "# plt.ylabel(car_data.feature_names[3])"
      ]
    },
    {
      "cell_type": "markdown",
      "metadata": {
        "id": "-gtYNyDIu6gE"
      },
      "source": [
        "## 4.2. Plot our test Samples"
      ]
    },
    {
      "cell_type": "code",
      "execution_count": 296,
      "metadata": {
        "colab": {
          "base_uri": "https://localhost:8080/",
          "height": 494
        },
        "execution": {
          "iopub.execute_input": "2021-11-10T06:29:37.582002Z",
          "iopub.status.busy": "2021-11-10T06:29:37.581463Z",
          "iopub.status.idle": "2021-11-10T06:29:37.915608Z",
          "shell.execute_reply": "2021-11-10T06:29:37.914745Z",
          "shell.execute_reply.started": "2021-11-10T06:29:37.581949Z"
        },
        "id": "v0APpkmzu6gE",
        "outputId": "913aad4a-b578-4ce4-8316-a77338eabd5b"
      },
      "outputs": [],
      "source": [
        "# plt.subplot(1, 2, 1)\n",
        "# plt.scatter(test_X[:,0],test_X[:,1],c=test_y,cmap=cm.viridis)\n",
        "# plt.xlabel(car_data.feature_names[0])\n",
        "# plt.ylabel(car_data.feature_names[1])\n",
        "\n",
        "# plt.subplot(1, 2, 2)\n",
        "# plt.scatter(test_X[:,2],test_X[:,3],c=test_y,cmap=cm.viridis)\n",
        "# plt.xlabel(car_data.feature_names[2])\n",
        "# plt.ylabel(car_data.feature_names[3])"
      ]
    },
    {
      "cell_type": "markdown",
      "metadata": {
        "id": "U1rnAHD6u6gE"
      },
      "source": [
        "\n",
        "\n",
        "# 5. Multilayer Perceptron\n",
        "\n",
        "<p style=\"text-align: justify;\">Artificial neural networks (ANNs) or connectionist systems are computing systems inspired by the biological neural networks that constitute animal brains. Such systems learn (progressively improve performance) to do tasks by considering examples, generally without task-specific programming. For example, in image recognition, \"they might learn to identify images that contain cats by analyzing example images that have been manually labeled as \"cat\" or \"no cat\" and using the analytic results to identify cats in other images\".</p>\n",
        "\n",
        "<p style=\"text-align: justify;\">They have found most use in applications difficult to express in a traditional computer algorithm using rule-based programming. An ANN is based on a collection of connected units called artificial neurons, (analogous to axons in a biological brain). Each connection (synapse) between neurons can transmit a signal to another neuron. The receiving (postsynaptic) neuron can process the signal(s) and then signal downstream neurons connected to it.</p>\n",
        "\n",
        "<p style=\"text-align: justify;\"> More information here: [Artificial Neural Network](https://en.wikipedia.org/wiki/Artificial_neural_network)</p>\n",
        "\n",
        "<img src=\"https://miro.medium.com/max/1072/1*DOkHU_dgXMCybA6WWXrp4g.gif\"/>\n",
        "\n",
        "<p style=\"text-align: justify;\">The Multilayer Perceptron Networks are characterized by the presence of many intermediate layers (hidden) in your structure, located between input layer and output layer. With this, such networks have the advantage of being able to classify more than two different classes and It also solve non-linearly separable problems.</p>\n",
        "<div class=\"container-fluid\"><div class=\"row\">\n",
        "      <div class=\"col-md-2\" align='center'></div>\n",
        "      <div class='col-md-8' align='center'>\n",
        "           <img src='http://ffden-2.phys.uaf.edu/212_fall2003.web.dir/Keith_Palchikoff/multilayer%20perceptron.JPG' />\n",
        "      </div><div class=\"col-md-2\" align='center'></div>\n",
        "  </div>\n",
        "</div>"
      ]
    },
    {
      "cell_type": "markdown",
      "metadata": {
        "id": "JBRaKXOKu6gE"
      },
      "source": [
        "## 5.1. How does Multilayer Perceptron work?\n",
        "\n",
        "<p style=\"text-align: justify;\"> We can summarize the operation of the perceptron as follows it:</p>\n",
        "\n",
        "  - **Step 1**: Initialize the weights and bias with small-randomized values;\n",
        "  - **Step 2**: Propagate all values in the input layer until output layer(Forward Propagation)\n",
        "  - **Step 3**: Update weight and bias in the inner layers(Backpropagation)\n",
        "  - **Step 4**: Do it until that the stop criterion is satisfied !\n",
        "  \n",
        "### Step 1: Forward propagation Algorithm\n",
        "<img src=\"https://sebastianraschka.com/images/faq/visual-backpropagation/forward-propagation.png\">\n",
        "\n",
        "In order to proceed we need to improve the notation we have been using. That for, for each layer $1\\geq l\\geq L$, the activations and outputs are calculated as:\n",
        "\n",
        "$$\n",
        "\\text{L}^l_j = {\\sum_i w^l_{ji} x^l_i\\, = w^l_{j,0} x^l_0 + w^l_{j,1} x^l_1 + w^l_{j,2} x^l_2 + ... + w^l_{j,n}} x^l_n,\n",
        "$$\n",
        "$$Y^l_j = g^l(\\text{L}^l_j)\\,,$$\n",
        "\n",
        "$$\\{y_{i},\\,x_{i1},\\ldots ,x_{ip}\\}_{i=1}^{n}$$\n",
        "\n",
        "where:\n",
        "\n",
        "* $y^l_j$ is the $j-$th output of layer $l$,\n",
        "* $x^l_i$ is the $i$-th input to layer $l$,\n",
        "* $w^l_{ji}$ is the weight of the $j$-th neuron connected to input $i$,\n",
        "* $\\text{L}^l_{j}$ is called net activation, and\n",
        "* $g^l(\\cdot)$ is the activation function of layer $l$."
      ]
    },
    {
      "cell_type": "markdown",
      "metadata": {
        "id": "LKOEuABTu6gF"
      },
      "source": [
        "### Step 2: Calculation our Erro function\n",
        "<img src=\"https://miro.medium.com/max/920/1*jYQYuHpHdkZqNFQKJSuDTw.png\">\n",
        "It is used to measure performance locality associated with the results produced by the neurons in output layer and the expected result.\n",
        "$$\n",
        "E(k) =\n",
        "\\frac{1}{2} \\sum_{k=1}^{K}({{d_j(k)}} - {y_j}{(k)})^2.\n",
        "$$"
      ]
    },
    {
      "cell_type": "markdown",
      "metadata": {
        "id": "ibHtxIc8u6gF"
      },
      "source": [
        "### Step 3. Activation Functions\n",
        "<img src=\"https://miro.medium.com/max/1192/1*4ZEDRpFuCIpUjNgjDdT2Lg.png\">\n",
        "\n",
        "### Sigmoid Function:"
      ]
    },
    {
      "cell_type": "markdown",
      "metadata": {
        "id": "SaMZLNKqu6gF"
      },
      "source": []
    },
    {
      "cell_type": "code",
      "execution_count": 297,
      "metadata": {
        "execution": {
          "iopub.execute_input": "2021-11-10T06:29:37.917547Z",
          "iopub.status.busy": "2021-11-10T06:29:37.916988Z",
          "iopub.status.idle": "2021-11-10T06:29:37.922498Z",
          "shell.execute_reply": "2021-11-10T06:29:37.921701Z",
          "shell.execute_reply.started": "2021-11-10T06:29:37.917225Z"
        },
        "id": "MErAlQK6u6gF"
      },
      "outputs": [],
      "source": [
        "x = 0\n",
        "ativation = {(lambda x: 1/(1 + np.exp(-x)))}\n",
        "deriv = {(lambda x: x*(1-x))}"
      ]
    },
    {
      "cell_type": "markdown",
      "metadata": {
        "id": "NLUnSr9yu6gF"
      },
      "source": [
        " ### Hyperbolic Tangent Function:"
      ]
    },
    {
      "cell_type": "code",
      "execution_count": 298,
      "metadata": {
        "execution": {
          "iopub.execute_input": "2021-11-10T06:29:37.924125Z",
          "iopub.status.busy": "2021-11-10T06:29:37.923758Z",
          "iopub.status.idle": "2021-11-10T06:29:37.935702Z",
          "shell.execute_reply": "2021-11-10T06:29:37.934863Z",
          "shell.execute_reply.started": "2021-11-10T06:29:37.923971Z"
        },
        "id": "JBmOStcvu6gF"
      },
      "outputs": [],
      "source": [
        "activation_tang = {(lambda x: np.tanh(x))}\n",
        "deriv_tang = {(lambda x: 1-x**2)}\n"
      ]
    },
    {
      "cell_type": "markdown",
      "metadata": {
        "id": "-B4YlpjOu6gF"
      },
      "source": [
        "### ReLU Function:"
      ]
    },
    {
      "cell_type": "code",
      "execution_count": 299,
      "metadata": {
        "execution": {
          "iopub.execute_input": "2021-11-10T06:29:37.937285Z",
          "iopub.status.busy": "2021-11-10T06:29:37.937006Z",
          "iopub.status.idle": "2021-11-10T06:29:37.948870Z",
          "shell.execute_reply": "2021-11-10T06:29:37.948097Z",
          "shell.execute_reply.started": "2021-11-10T06:29:37.937222Z"
        },
        "id": "0TRT6Tmau6gF"
      },
      "outputs": [],
      "source": [
        "activation_ReLU = {(lambda x: x*(x > 0))}\n",
        "deriv_ReLU = {(lambda x: 1 * (x>0))}"
      ]
    },
    {
      "cell_type": "markdown",
      "metadata": {
        "id": "KdrlkZgnu6gF"
      },
      "source": []
    },
    {
      "cell_type": "markdown",
      "metadata": {
        "id": "QDTpQFb6u6gF"
      },
      "source": [
        "### Step 4. Backpropagation Algorithm\n",
        "<img src=\"https://sebastianraschka.com/images/faq/visual-backpropagation/backpropagation.png\">\n",
        "### In Output Layer,  $L = 2:$\n",
        "   - **Step 1**: Calculate error in output layer: $\\delta^{(L2)} = -({d_j}^{(L2)} - {y_j}^{(L2)})\\cdot\n",
        "   g'({S_j}^{(L2)})$\n",
        "   \n",
        "      `\n",
        "      ERROR_output = self.OUTPUT - self.OUTPUT_L2\n",
        "      DELTA_output = ((-1)*(ERROR_output) * self.deriv(self.OUTPUT_L2))\n",
        "      `\n",
        "      \n",
        "\n",
        "   - **Step 2**: Update all weight between hidden and output layer: $W^{(L2)} = W^{(L2)} -\\gamma \\cdot(\\delta^{(L2)}  - {S_j}^{(L1)})$\n",
        "   \n",
        "         for i in range(self.hiddenLayer):`\n",
        "           ` for j in range(self.OutputLayer):`\n",
        "               ` self.WEIGHT_output[i][j] -= (self.learningRate * (DELTA_output[j] * self.output_l1[i]))`\n",
        "               ` self.BIAS_output[j] -= (self.learningRate * DELTA_output[j])`\n",
        "               \n",
        "   - **Step 3**: Update bias value in output layer: $bias^{(L2)} = bias^{(L2)} - \\gamma \\cdot \\delta^{(L2)}$\n",
        "   \n",
        "### In Input Layer , $L = 1$:\n",
        "   - **Step 4**: Calculate error in hidden layer: $\\delta^{(L1)} = W^{(L2)} \\cdot \\delta^{(L2)} \\cdot g'({S_j}^{(L1)})$\n",
        "     \n",
        "   `delta_hidden = np.matmul(self.WEIGHT_output, DELTA_output) * self.deriv(self._l1)`\n",
        "   - **Step 5**: Update all weight between hidden and output layer: $W^{(L1)} = W^{(L1)} -\\gamma \\cdot(\\delta^{(L1)}  - {X_i})$\n",
        "         `for i in range(self.OutputLayer):`\n",
        "           `for j in range(self.hiddenLayer):`\n",
        "               `self.WEIGHT_hidden[i][j] -= (self.learningRate * (DELTA_hidden[j] * INPUT[i]))`\n",
        "               `self.BIAS_hidden[j] -= (self.learningRate * DELTA_hidden[j])`\n",
        "   - **Step 6**: Update bias value in output layer: $bias^{(L1)} = bias^{(L1)} - \\gamma \\cdot \\delta^{(L1)}$"
      ]
    },
    {
      "cell_type": "markdown",
      "metadata": {
        "id": "QOnDBwxpu6gG"
      },
      "source": [
        "<img src=\"https://thumbs.gfycat.com/FickleHorribleBlackfootedferret-small.gif\">"
      ]
    },
    {
      "cell_type": "markdown",
      "metadata": {
        "id": "IXcjc0oPu6gG"
      },
      "source": [
        "# 6. Implementation the Multilayer Perceptron in Python\n"
      ]
    },
    {
      "cell_type": "code",
      "execution_count": 300,
      "metadata": {
        "execution": {
          "iopub.execute_input": "2021-11-10T06:29:37.950695Z",
          "iopub.status.busy": "2021-11-10T06:29:37.950411Z",
          "iopub.status.idle": "2021-11-10T06:29:38.003176Z",
          "shell.execute_reply": "2021-11-10T06:29:38.002462Z",
          "shell.execute_reply.started": "2021-11-10T06:29:37.950644Z"
        },
        "id": "dld_9U8Cu6gG"
      },
      "outputs": [],
      "source": [
        "from sklearn.base import BaseEstimator, ClassifierMixin, RegressorMixin\n",
        "import random\n",
        "\n",
        "class MultiLayerPerceptron(BaseEstimator, ClassifierMixin):\n",
        "    def __init__(self, params=None):\n",
        "        if (params == None):\n",
        "            self.inputLayer = 4                        # Input Layer\n",
        "            self.hiddenLayer = 5                       # Hidden Layer\n",
        "            self.outputLayer = 3                       # Outpuy Layer\n",
        "            self.learningRate = 0.005                  # Learning rate\n",
        "            self.max_epochs = 600                      # Epochs\n",
        "            self.iasHiddenValue = -1                   # Bias HiddenLayer\n",
        "            self.BiasOutputValue = -1                  # Bias OutputLayer\n",
        "            self.activation = self.ativacao['sigmoid'] # Activation function\n",
        "            self.deriv = self.derivada['sigmoid']\n",
        "        else:\n",
        "            self.inputLayer = params['InputLayer']\n",
        "            self.hiddenLayer = params['HiddenLayer']\n",
        "            self.OutputLayer = params['OutputLayer']\n",
        "            self.learningRate = params['LearningRate']\n",
        "            self.max_epochs = params['Epocas']\n",
        "            self.BiasHiddenValue = params['BiasHiddenValue']\n",
        "            self.BiasOutputValue = params['BiasOutputValue']\n",
        "            self.activation = self.ativacao[params['ActivationFunction']]\n",
        "            self.deriv = self.derivada[params['ActivationFunction']]\n",
        "\n",
        "        'Starting Bias and Weights'\n",
        "        self.WEIGHT_hidden = self.starting_weights(self.hiddenLayer, self.inputLayer)\n",
        "        self.WEIGHT_output = self.starting_weights(self.hiddenLayer, self.OutputLayer)\n",
        "        self.BIAS_hidden = np.array([self.BiasHiddenValue for i in range(self.hiddenLayer)])\n",
        "        self.BIAS_output = np.array([self.BiasOutputValue for i in range(self.OutputLayer)])\n",
        "        self.classes_number = 4\n",
        "\n",
        "    pass\n",
        "\n",
        "    def starting_weights(self, x, y):\n",
        "        return [[2  * random.random() - 1 for i in range(x)] for j in range(y)]\n",
        "\n",
        "    ativacao = {\n",
        "         'sigmoid': (lambda x: 1/(1 + pow(np.e, -x))),\n",
        "            'tanh': (lambda x: np.tanh(x)),\n",
        "            'Relu': (lambda x: x*(x > 0)),\n",
        "               }\n",
        "    derivada = {\n",
        "         'sigmoid': (lambda x: x*(1-x)),\n",
        "            'tanh': (lambda x: 1-x**2),\n",
        "            'Relu': (lambda x: 1 * (x>0))\n",
        "               }\n",
        "\n",
        "    def Backpropagation_Algorithm(self, x):\n",
        "        DELTA_output = []\n",
        "        'Stage 1 - Error: OutputLayer'\n",
        "        ERROR_output = self.output - self.OUTPUT_L2\n",
        "        DELTA_output = ((-1)*(ERROR_output) * self.deriv(self.OUTPUT_L2))\n",
        "\n",
        "        arrayStore = []\n",
        "        'Stage 2 - Update weights OutputLayer and HiddenLayer'\n",
        "        for i in range(self.hiddenLayer):\n",
        "            for j in range(self.OutputLayer):\n",
        "                self.WEIGHT_output[i][j] -= (self.learningRate * (DELTA_output[j] * self.OUTPUT_L1[i]))\n",
        "                self.BIAS_output[j] -= (self.learningRate * DELTA_output[j])\n",
        "\n",
        "        'Stage 3 - Error: HiddenLayer'\n",
        "        delta_hidden = np.matmul(self.WEIGHT_output, DELTA_output)* self.deriv(self.OUTPUT_L1)\n",
        "\n",
        "        'Stage 4 - Update weights HiddenLayer and InputLayer(x)'\n",
        "        for i in range(self.OutputLayer):\n",
        "            for j in range(self.hiddenLayer):\n",
        "                self.WEIGHT_hidden[i][j] -= (self.learningRate * (delta_hidden[j] * x[i]))\n",
        "                self.BIAS_hidden[j] -= (self.learningRate * delta_hidden[j])\n",
        "\n",
        "    def show_err_graphic(self,v_erro,v_epoca):\n",
        "        plt.figure(figsize=(9,4))\n",
        "        plt.plot(v_epoca, v_erro, \"m-\",color=\"b\", marker=11)\n",
        "        plt.xlabel(\"Number of Epochs\")\n",
        "        plt.ylabel(\"Squared error (MSE) \")\n",
        "        plt.title(\"Error Minimization\")\n",
        "        plt.show()\n",
        "\n",
        "    def predict(self, X, y):\n",
        "        'Returns the predictions for every element of X'\n",
        "        my_predictions = []\n",
        "        'Forward Propagation'\n",
        "        forward = np.matmul(X,self.WEIGHT_hidden) + self.BIAS_hidden\n",
        "        forward = np.matmul(forward, self.WEIGHT_output) + self.BIAS_output\n",
        "\n",
        "        for i in forward:\n",
        "            my_predictions.append(max(enumerate(i), key=lambda x:x[1])[0])\n",
        "\n",
        "        array_score = []\n",
        "        for i in range(len(my_predictions)):\n",
        "            if my_predictions[i] == 0:\n",
        "                array_score.append([i, 'unacc', my_predictions[i], y[i]])\n",
        "            elif my_predictions[i] == 1:\n",
        "                 array_score.append([i, 'acc', my_predictions[i], y[i]])\n",
        "            elif my_predictions[i] == 2:\n",
        "                 array_score.append([i, 'good', my_predictions[i], y[i]])\n",
        "            elif my_predictions[i] == 3:\n",
        "                 array_score.append([i, 'v-good', my_predictions[i], y[i]])\n",
        "\n",
        "        dataframe = pd.DataFrame(array_score, columns=['_id', 'class', 'output', 'hoped_output'])\n",
        "        return my_predictions, dataframe\n",
        "\n",
        "    def fit(self, X, y):\n",
        "        count_epoch = 1\n",
        "        total_error = 0\n",
        "        n = len(X)\n",
        "        epoch_array = []\n",
        "        error_array = []\n",
        "        W0 = []\n",
        "        W1 = []\n",
        "        while(count_epoch <= self.max_epochs):\n",
        "            for idx,inputs in enumerate(X):\n",
        "                self.output = np.zeros(self.classes_number)\n",
        "                'Stage 1 - (Forward Propagation)'\n",
        "                self.OUTPUT_L1 = self.activation((np.dot(inputs, self.WEIGHT_hidden) + self.BIAS_hidden.T))\n",
        "                # reshaped_inputs = inputs.reshape(4, 1)\n",
        "                # dot_product = np.dot(reshaped_inputs, self.WEIGHT_hidden)\n",
        "\n",
        "                # self.OUTPUT_L1 = self.activation((dot_product + self.BIAS_hidden.T))\n",
        "                self.OUTPUT_L2 = self.activation((np.dot(self.OUTPUT_L1, self.WEIGHT_output) + self.BIAS_output.T))\n",
        "                'Stage 2 - One-Hot-Encoding'\n",
        "                if(y[idx] == 0):\n",
        "                    self.output = np.array([1,0,0,0]) #Class1 {1,0,0}\n",
        "                elif(y[idx] == 1):\n",
        "                    self.output = np.array([0,1,0,0]) #Class2 {0,1,0}\n",
        "                elif(y[idx] == 2):\n",
        "                    self.output = np.array([0,0,1,0]) #Class3 {0,0,1}\n",
        "                elif(y[idx] == 4):\n",
        "                    self.output = np.array([0,0,0,1]) #Class4 {0,0,0,1}\n",
        "\n",
        "                square_error = 0\n",
        "                for i in range(self.OutputLayer):\n",
        "                    erro = (self.output[i] - self.OUTPUT_L2[i])**2\n",
        "                    square_error = (square_error + (0.05 * erro))\n",
        "                    total_error = total_error + square_error\n",
        "\n",
        "                'Backpropagation : Update Weights'\n",
        "                self.Backpropagation_Algorithm(inputs)\n",
        "\n",
        "            total_error = (total_error / n)\n",
        "            if((count_epoch % 50 == 0)or(count_epoch == 1)):\n",
        "                print(\"Epoch \", count_epoch, \"- Total Error: \",total_error)\n",
        "                error_array.append(total_error)\n",
        "                epoch_array.append(count_epoch)\n",
        "\n",
        "            W0.append(self.WEIGHT_hidden)\n",
        "            W1.append(self.WEIGHT_output)\n",
        "\n",
        "\n",
        "            count_epoch += 1\n",
        "        self.show_err_graphic(error_array,epoch_array)\n",
        "\n",
        "        plt.plot(W0[0])\n",
        "        plt.title('Weight Hidden update during training')\n",
        "        plt.legend(['neuron1', 'neuron2', 'neuron3', 'neuron4', 'neuron5'])\n",
        "        plt.ylabel('Value Weight')\n",
        "        plt.show()\n",
        "\n",
        "        plt.plot(W1[0])\n",
        "        plt.title('Weight Output update during training')\n",
        "        plt.legend(['neuron1', 'neuron2', 'neuron3'])\n",
        "        plt.ylabel('Value Weight')\n",
        "        plt.show()\n",
        "\n",
        "        return self"
      ]
    },
    {
      "cell_type": "markdown",
      "metadata": {
        "id": "FGggkRZuu6gG"
      },
      "source": [
        "## Finding the best parameters\n",
        "\n",
        "<p style=\"text-align: justify;\">For find the best parameters, it was necessary to realize various tests using different values to the parameters. The graphs below denote all tests made to select the best configuration for the multilayer perceptron. These tests were important in selecting the best settings and ensuring the best accuracy. The graph was drawn manually, but you can change the settings and note the results obtained. The tests involve different activation functions and the number of neurons for each layer.</p>"
      ]
    },
    {
      "cell_type": "code",
      "execution_count": 301,
      "metadata": {
        "execution": {
          "iopub.execute_input": "2021-11-10T06:29:38.004777Z",
          "iopub.status.busy": "2021-11-10T06:29:38.004368Z",
          "iopub.status.idle": "2021-11-10T06:29:38.026027Z",
          "shell.execute_reply": "2021-11-10T06:29:38.025140Z",
          "shell.execute_reply.started": "2021-11-10T06:29:38.004722Z"
        },
        "id": "hQp2FuL4u6gG"
      },
      "outputs": [],
      "source": [
        "def show_test():\n",
        "    ep1 = [0,100,200,300,400,500,600,700,800,900,1000,1500,2000]\n",
        "    h_5 = [0,60,70,70,83.3,93.3,96.7,86.7,86.7,76.7,73.3,66.7,66.7]\n",
        "    h_4 = [0,40,70,63.3,66.7,70,70,70,70,66.7,66.7,43.3,33.3]\n",
        "    h_3 = [0,46.7,76.7,80,76.7,76.7,76.6,73.3,73.3,73.3,73.3,76.7,76.7]\n",
        "    plt.figure(figsize=(10,4))\n",
        "    l1, = plt.plot(ep1, h_3, \"--\",color='b',label=\"node-3\", marker=11)\n",
        "    l2, = plt.plot(ep1, h_4, \"--\",color='g',label=\"node-4\", marker=8)\n",
        "    l3, = plt.plot(ep1, h_5, \"--\",color='r',label=\"node-5\", marker=5)\n",
        "    plt.legend(handles=[l1,l2,l3], loc=1)\n",
        "    plt.xlabel(\"number of Epochs\")\n",
        "    plt.ylabel(\"% Hits\")\n",
        "    plt.title(\"Number of Hidden Layers - Performance\")\n",
        "\n",
        "    ep2 = [0,100,200,300,400,500,600,700]\n",
        "    tanh = [0.18,0.027,0.025,0.022,0.0068,0.0060,0.0057,0.00561]\n",
        "    sigm = [0.185,0.0897,0.060,0.0396,0.0343,0.0314,0.0296,0.0281]\n",
        "    Relu = [0.185,0.05141,0.05130,0.05127,0.05124,0.05123,0.05122,0.05121]\n",
        "    plt.figure(figsize=(10,4))\n",
        "    l1 , = plt.plot(ep2, tanh, \"--\",color='b',label=\"Hyperbolic Tangent\",marker=11)\n",
        "    l2 , = plt.plot(ep2, sigm, \"--\",color='g',label=\"Sigmoide\", marker=8)\n",
        "    l3 , = plt.plot(ep2, Relu, \"--\",color='r',label=\"ReLu\", marker=5)\n",
        "    plt.legend(handles=[l1,l2,l3], loc=1)\n",
        "    plt.xlabel(\"Epoch\")\n",
        "    plt.ylabel(\"Error\")\n",
        "    plt.title(\"Activation Functions - Performance\")\n",
        "\n",
        "    fig, ax = plt.subplots()\n",
        "    names = [\"Hyperbolic Tangent\",\"Sigmoide\",\"ReLU\"]\n",
        "    x1 = [2.0,4.0,6.0]\n",
        "    plt.bar(x1[0], 53.4,0.4,color='b')\n",
        "    plt.bar(x1[1], 96.7,0.4,color='g')\n",
        "    plt.bar(x1[2], 33.2,0.4,color='r')\n",
        "    plt.xticks(x1,names)\n",
        "    plt.ylabel('% Hits')\n",
        "    plt.title('Hits - Activation Functions')\n",
        "    plt.show()"
      ]
    },
    {
      "cell_type": "code",
      "execution_count": 302,
      "metadata": {
        "colab": {
          "base_uri": "https://localhost:8080/",
          "height": 1000
        },
        "execution": {
          "iopub.execute_input": "2021-11-10T06:29:38.027598Z",
          "iopub.status.busy": "2021-11-10T06:29:38.027192Z",
          "iopub.status.idle": "2021-11-10T06:29:38.759576Z",
          "shell.execute_reply": "2021-11-10T06:29:38.758650Z",
          "shell.execute_reply.started": "2021-11-10T06:29:38.027551Z"
        },
        "id": "ilJu0Q87u6gG",
        "outputId": "53ba76b1-b162-4c8d-8a2a-7c1e9074cc9d"
      },
      "outputs": [
        {
          "data": {
            "image/png": "[encoded data removed]",
            "text/plain": [
              "<Figure size 720x288 with 1 Axes>"
            ]
          },
          "metadata": {
            "image/png": {
              "height": 299,
              "width": 632
            },
            "needs_background": "light"
          },
          "output_type": "display_data"
        },
        {
          "data": {
            "image/png": "[encoded data removed]",
            "text/plain": [
              "<Figure size 720x288 with 1 Axes>"
            ]
          },
          "metadata": {
            "image/png": {
              "height": 299,
              "width": 637
            },
            "needs_background": "light"
          },
          "output_type": "display_data"
        },
        {
          "data": {
            "image/png": "[encoded data removed]",
            "text/plain": [
              "<Figure size 432x288 with 1 Axes>"
            ]
          },
          "metadata": {
            "image/png": {
              "height": 278,
              "width": 409
            },
            "needs_background": "light"
          },
          "output_type": "display_data"
        }
      ],
      "source": [
        "show_test()"
      ]
    },
    {
      "cell_type": "markdown",
      "metadata": {
        "id": "Rbq7imzAu6gH"
      },
      "source": [
        "# Training the Artificial Neural Network(MLP)\n",
        "\n",
        "## Step 1: training our MultiLayer Perceptron"
      ]
    },
    {
      "cell_type": "code",
      "execution_count": 304,
      "metadata": {
        "colab": {
          "base_uri": "https://localhost:8080/",
          "height": 1000
        },
        "execution": {
          "iopub.execute_input": "2021-11-10T06:29:38.761375Z",
          "iopub.status.busy": "2021-11-10T06:29:38.761085Z",
          "iopub.status.idle": "2021-11-10T06:30:06.146303Z",
          "shell.execute_reply": "2021-11-10T06:30:06.145537Z",
          "shell.execute_reply.started": "2021-11-10T06:29:38.761324Z"
        },
        "id": "TURjGoE4u6gH",
        "outputId": "6b78c5ca-ea78-459d-b0b0-7a263ddad301"
      },
      "outputs": [
        {
          "ename": "ValueError",
          "evalue": "shapes (4,) and (6,7) not aligned: 4 (dim 0) != 6 (dim 0)",
          "output_type": "error",
          "traceback": [
            "\u001b[1;31m---------------------------------------------------------------------------\u001b[0m",
            "\u001b[1;31mValueError\u001b[0m                                Traceback (most recent call last)",
            "\u001b[1;32md:\\CODE\\mlp-implementation\\MLP_Implementation.ipynb Cell 39\u001b[0m line \u001b[0;36m<cell line: 6>\u001b[1;34m()\u001b[0m\n\u001b[0;32m      <a href='vscode-notebook-cell:/d%3A/CODE/mlp-implementation/MLP_Implementation.ipynb#X52sZmlsZQ%3D%3D?line=0'>1</a>\u001b[0m dictionary \u001b[39m=\u001b[39m {\u001b[39m'\u001b[39m\u001b[39mInputLayer\u001b[39m\u001b[39m'\u001b[39m:\u001b[39m6\u001b[39m, \u001b[39m'\u001b[39m\u001b[39mHiddenLayer\u001b[39m\u001b[39m'\u001b[39m:\u001b[39m7\u001b[39m, \u001b[39m'\u001b[39m\u001b[39mOutputLayer\u001b[39m\u001b[39m'\u001b[39m:\u001b[39m4\u001b[39m,\n\u001b[0;32m      <a href='vscode-notebook-cell:/d%3A/CODE/mlp-implementation/MLP_Implementation.ipynb#X52sZmlsZQ%3D%3D?line=1'>2</a>\u001b[0m               \u001b[39m'\u001b[39m\u001b[39mEpocas\u001b[39m\u001b[39m'\u001b[39m:\u001b[39m700\u001b[39m, \u001b[39m'\u001b[39m\u001b[39mLearningRate\u001b[39m\u001b[39m'\u001b[39m:\u001b[39m0.005\u001b[39m,\u001b[39m'\u001b[39m\u001b[39mBiasHiddenValue\u001b[39m\u001b[39m'\u001b[39m:\u001b[39m-\u001b[39m\u001b[39m1\u001b[39m,\n\u001b[0;32m      <a href='vscode-notebook-cell:/d%3A/CODE/mlp-implementation/MLP_Implementation.ipynb#X52sZmlsZQ%3D%3D?line=2'>3</a>\u001b[0m               \u001b[39m'\u001b[39m\u001b[39mBiasOutputValue\u001b[39m\u001b[39m'\u001b[39m:\u001b[39m-\u001b[39m\u001b[39m1\u001b[39m, \u001b[39m'\u001b[39m\u001b[39mActivationFunction\u001b[39m\u001b[39m'\u001b[39m:\u001b[39m'\u001b[39m\u001b[39msigmoid\u001b[39m\u001b[39m'\u001b[39m}\n\u001b[0;32m      <a href='vscode-notebook-cell:/d%3A/CODE/mlp-implementation/MLP_Implementation.ipynb#X52sZmlsZQ%3D%3D?line=4'>5</a>\u001b[0m Perceptron \u001b[39m=\u001b[39m MultiLayerPerceptron(dictionary)\n\u001b[1;32m----> <a href='vscode-notebook-cell:/d%3A/CODE/mlp-implementation/MLP_Implementation.ipynb#X52sZmlsZQ%3D%3D?line=5'>6</a>\u001b[0m Perceptron\u001b[39m.\u001b[39;49mfit(train_X,train_y)\n",
            "\u001b[1;32md:\\CODE\\mlp-implementation\\MLP_Implementation.ipynb Cell 39\u001b[0m line \u001b[0;36mMultiLayerPerceptron.fit\u001b[1;34m(self, X, y)\u001b[0m\n\u001b[0;32m    <a href='vscode-notebook-cell:/d%3A/CODE/mlp-implementation/MLP_Implementation.ipynb#X52sZmlsZQ%3D%3D?line=113'>114</a>\u001b[0m \u001b[39mself\u001b[39m\u001b[39m.\u001b[39moutput \u001b[39m=\u001b[39m np\u001b[39m.\u001b[39mzeros(\u001b[39mself\u001b[39m\u001b[39m.\u001b[39mclasses_number)\n\u001b[0;32m    <a href='vscode-notebook-cell:/d%3A/CODE/mlp-implementation/MLP_Implementation.ipynb#X52sZmlsZQ%3D%3D?line=114'>115</a>\u001b[0m \u001b[39m'\u001b[39m\u001b[39mStage 1 - (Forward Propagation)\u001b[39m\u001b[39m'\u001b[39m\n\u001b[1;32m--> <a href='vscode-notebook-cell:/d%3A/CODE/mlp-implementation/MLP_Implementation.ipynb#X52sZmlsZQ%3D%3D?line=115'>116</a>\u001b[0m \u001b[39mself\u001b[39m\u001b[39m.\u001b[39mOUTPUT_L1 \u001b[39m=\u001b[39m \u001b[39mself\u001b[39m\u001b[39m.\u001b[39mactivation((np\u001b[39m.\u001b[39;49mdot(inputs, \u001b[39mself\u001b[39;49m\u001b[39m.\u001b[39;49mWEIGHT_hidden) \u001b[39m+\u001b[39m \u001b[39mself\u001b[39m\u001b[39m.\u001b[39mBIAS_hidden\u001b[39m.\u001b[39mT))\n\u001b[0;32m    <a href='vscode-notebook-cell:/d%3A/CODE/mlp-implementation/MLP_Implementation.ipynb#X52sZmlsZQ%3D%3D?line=116'>117</a>\u001b[0m \u001b[39m# reshaped_inputs = inputs.reshape(4, 1)\u001b[39;00m\n\u001b[0;32m    <a href='vscode-notebook-cell:/d%3A/CODE/mlp-implementation/MLP_Implementation.ipynb#X52sZmlsZQ%3D%3D?line=117'>118</a>\u001b[0m \u001b[39m# dot_product = np.dot(reshaped_inputs, self.WEIGHT_hidden)\u001b[39;00m\n\u001b[0;32m    <a href='vscode-notebook-cell:/d%3A/CODE/mlp-implementation/MLP_Implementation.ipynb#X52sZmlsZQ%3D%3D?line=118'>119</a>\u001b[0m \n\u001b[0;32m    <a href='vscode-notebook-cell:/d%3A/CODE/mlp-implementation/MLP_Implementation.ipynb#X52sZmlsZQ%3D%3D?line=119'>120</a>\u001b[0m \u001b[39m# self.OUTPUT_L1 = self.activation((dot_product + self.BIAS_hidden.T))\u001b[39;00m\n\u001b[0;32m    <a href='vscode-notebook-cell:/d%3A/CODE/mlp-implementation/MLP_Implementation.ipynb#X52sZmlsZQ%3D%3D?line=120'>121</a>\u001b[0m \u001b[39mself\u001b[39m\u001b[39m.\u001b[39mOUTPUT_L2 \u001b[39m=\u001b[39m \u001b[39mself\u001b[39m\u001b[39m.\u001b[39mactivation((np\u001b[39m.\u001b[39mdot(\u001b[39mself\u001b[39m\u001b[39m.\u001b[39mOUTPUT_L1, \u001b[39mself\u001b[39m\u001b[39m.\u001b[39mWEIGHT_output) \u001b[39m+\u001b[39m \u001b[39mself\u001b[39m\u001b[39m.\u001b[39mBIAS_output\u001b[39m.\u001b[39mT))\n",
            "File \u001b[1;32m<__array_function__ internals>:180\u001b[0m, in \u001b[0;36mdot\u001b[1;34m(*args, **kwargs)\u001b[0m\n",
            "\u001b[1;31mValueError\u001b[0m: shapes (4,) and (6,7) not aligned: 4 (dim 0) != 6 (dim 0)"
          ]
        }
      ],
      "source": [
        "dictionary = {'InputLayer':6, 'HiddenLayer':7, 'OutputLayer':4,\n",
        "              'Epocas':700, 'LearningRate':0.005,'BiasHiddenValue':-1,\n",
        "              'BiasOutputValue':-1, 'ActivationFunction':'sigmoid'}\n",
        "\n",
        "Perceptron = MultiLayerPerceptron(dictionary)\n",
        "Perceptron.fit(train_X,train_y)"
      ]
    },
    {
      "cell_type": "markdown",
      "metadata": {
        "id": "w8BTdQ2Su6gH"
      },
      "source": [
        "## Step 2: testing our results"
      ]
    },
    {
      "cell_type": "code",
      "execution_count": null,
      "metadata": {
        "execution": {
          "iopub.execute_input": "2021-11-10T06:30:06.148038Z",
          "iopub.status.busy": "2021-11-10T06:30:06.147764Z",
          "iopub.status.idle": "2021-11-10T06:30:06.161510Z",
          "shell.execute_reply": "2021-11-10T06:30:06.160612Z",
          "shell.execute_reply.started": "2021-11-10T06:30:06.147988Z"
        },
        "id": "zDsfJ7OGu6gH"
      },
      "outputs": [],
      "source": [
        "prev, dataframe = Perceptron.predict(test_X, test_y)\n",
        "hits = n_set = n_vers = n_virg = 0\n",
        "score_set = score_vers = score_virg = 0\n",
        "for j in range(len(test_y)):\n",
        "    if(test_y[j] == 0): n_set += 1\n",
        "    elif(test_y[j] == 1): n_vers += 1\n",
        "    elif(test_y[j] == 2): n_virg += 1\n",
        "\n",
        "for i in range(len(test_y)):\n",
        "    if test_y[i] == prev[i]:\n",
        "        hits += 1\n",
        "    if test_y[i] == prev[i] and test_y[i] == 0:\n",
        "        score_set += 1\n",
        "    elif test_y[i] == prev[i] and test_y[i] == 1:\n",
        "        score_vers += 1\n",
        "    elif test_y[i] == prev[i] and test_y[i] == 2:\n",
        "        score_virg += 1\n",
        "\n",
        "hits = (hits / len(test_y)) * 100\n",
        "faults = 100 - hits"
      ]
    },
    {
      "cell_type": "code",
      "execution_count": null,
      "metadata": {
        "colab": {
          "base_uri": "https://localhost:8080/",
          "height": 990
        },
        "execution": {
          "iopub.execute_input": "2021-11-10T06:31:21.281746Z",
          "iopub.status.busy": "2021-11-10T06:31:21.281441Z",
          "iopub.status.idle": "2021-11-10T06:31:21.302387Z",
          "shell.execute_reply": "2021-11-10T06:31:21.301544Z",
          "shell.execute_reply.started": "2021-11-10T06:31:21.281710Z"
        },
        "id": "Xn7daUy2u6gI",
        "outputId": "9db4f077-c272-4fbd-a919-92a10846561b"
      },
      "outputs": [
        {
          "data": {
            "text/html": [
              "\n",
              "  <div id=\"df-76072169-c8aa-418f-a3cd-1421aff7e3e2\" class=\"colab-df-container\">\n",
              "    <div>\n",
              "<style scoped>\n",
              "    .dataframe tbody tr th:only-of-type {\n",
              "        vertical-align: middle;\n",
              "    }\n",
              "\n",
              "    .dataframe tbody tr th {\n",
              "        vertical-align: top;\n",
              "    }\n",
              "\n",
              "    .dataframe thead th {\n",
              "        text-align: right;\n",
              "    }\n",
              "</style>\n",
              "<table border=\"1\" class=\"dataframe\">\n",
              "  <thead>\n",
              "    <tr style=\"text-align: right;\">\n",
              "      <th></th>\n",
              "      <th>_id</th>\n",
              "      <th>class</th>\n",
              "      <th>output</th>\n",
              "      <th>hoped_output</th>\n",
              "    </tr>\n",
              "  </thead>\n",
              "  <tbody>\n",
              "    <tr>\n",
              "      <th>0</th>\n",
              "      <td>0</td>\n",
              "      <td>Iris-setosa</td>\n",
              "      <td>0</td>\n",
              "      <td>0.0</td>\n",
              "    </tr>\n",
              "    <tr>\n",
              "      <th>1</th>\n",
              "      <td>1</td>\n",
              "      <td>Iris-versicolour</td>\n",
              "      <td>1</td>\n",
              "      <td>1.0</td>\n",
              "    </tr>\n",
              "    <tr>\n",
              "      <th>2</th>\n",
              "      <td>2</td>\n",
              "      <td>Iris-versicolour</td>\n",
              "      <td>1</td>\n",
              "      <td>1.0</td>\n",
              "    </tr>\n",
              "    <tr>\n",
              "      <th>3</th>\n",
              "      <td>3</td>\n",
              "      <td>Iris-setosa</td>\n",
              "      <td>0</td>\n",
              "      <td>0.0</td>\n",
              "    </tr>\n",
              "    <tr>\n",
              "      <th>4</th>\n",
              "      <td>4</td>\n",
              "      <td>Iris-versicolour</td>\n",
              "      <td>1</td>\n",
              "      <td>1.0</td>\n",
              "    </tr>\n",
              "    <tr>\n",
              "      <th>5</th>\n",
              "      <td>5</td>\n",
              "      <td>Iris-versicolour</td>\n",
              "      <td>1</td>\n",
              "      <td>1.0</td>\n",
              "    </tr>\n",
              "    <tr>\n",
              "      <th>6</th>\n",
              "      <td>6</td>\n",
              "      <td>Iris-versicolour</td>\n",
              "      <td>1</td>\n",
              "      <td>1.0</td>\n",
              "    </tr>\n",
              "    <tr>\n",
              "      <th>7</th>\n",
              "      <td>7</td>\n",
              "      <td>Iris-versicolour</td>\n",
              "      <td>1</td>\n",
              "      <td>1.0</td>\n",
              "    </tr>\n",
              "    <tr>\n",
              "      <th>8</th>\n",
              "      <td>8</td>\n",
              "      <td>Iris-setosa</td>\n",
              "      <td>0</td>\n",
              "      <td>0.0</td>\n",
              "    </tr>\n",
              "    <tr>\n",
              "      <th>9</th>\n",
              "      <td>9</td>\n",
              "      <td>Iris-virginica</td>\n",
              "      <td>2</td>\n",
              "      <td>2.0</td>\n",
              "    </tr>\n",
              "    <tr>\n",
              "      <th>10</th>\n",
              "      <td>10</td>\n",
              "      <td>Iris-virginica</td>\n",
              "      <td>2</td>\n",
              "      <td>2.0</td>\n",
              "    </tr>\n",
              "    <tr>\n",
              "      <th>11</th>\n",
              "      <td>11</td>\n",
              "      <td>Iris-versicolour</td>\n",
              "      <td>1</td>\n",
              "      <td>1.0</td>\n",
              "    </tr>\n",
              "    <tr>\n",
              "      <th>12</th>\n",
              "      <td>12</td>\n",
              "      <td>Iris-versicolour</td>\n",
              "      <td>1</td>\n",
              "      <td>1.0</td>\n",
              "    </tr>\n",
              "    <tr>\n",
              "      <th>13</th>\n",
              "      <td>13</td>\n",
              "      <td>Iris-versicolour</td>\n",
              "      <td>1</td>\n",
              "      <td>1.0</td>\n",
              "    </tr>\n",
              "    <tr>\n",
              "      <th>14</th>\n",
              "      <td>14</td>\n",
              "      <td>Iris-setosa</td>\n",
              "      <td>0</td>\n",
              "      <td>0.0</td>\n",
              "    </tr>\n",
              "    <tr>\n",
              "      <th>15</th>\n",
              "      <td>15</td>\n",
              "      <td>Iris-virginica</td>\n",
              "      <td>2</td>\n",
              "      <td>2.0</td>\n",
              "    </tr>\n",
              "    <tr>\n",
              "      <th>16</th>\n",
              "      <td>16</td>\n",
              "      <td>Iris-virginica</td>\n",
              "      <td>2</td>\n",
              "      <td>1.0</td>\n",
              "    </tr>\n",
              "    <tr>\n",
              "      <th>17</th>\n",
              "      <td>17</td>\n",
              "      <td>Iris-versicolour</td>\n",
              "      <td>1</td>\n",
              "      <td>1.0</td>\n",
              "    </tr>\n",
              "    <tr>\n",
              "      <th>18</th>\n",
              "      <td>18</td>\n",
              "      <td>Iris-versicolour</td>\n",
              "      <td>1</td>\n",
              "      <td>1.0</td>\n",
              "    </tr>\n",
              "    <tr>\n",
              "      <th>19</th>\n",
              "      <td>19</td>\n",
              "      <td>Iris-versicolour</td>\n",
              "      <td>1</td>\n",
              "      <td>1.0</td>\n",
              "    </tr>\n",
              "    <tr>\n",
              "      <th>20</th>\n",
              "      <td>20</td>\n",
              "      <td>Iris-versicolour</td>\n",
              "      <td>1</td>\n",
              "      <td>1.0</td>\n",
              "    </tr>\n",
              "    <tr>\n",
              "      <th>21</th>\n",
              "      <td>21</td>\n",
              "      <td>Iris-virginica</td>\n",
              "      <td>2</td>\n",
              "      <td>2.0</td>\n",
              "    </tr>\n",
              "    <tr>\n",
              "      <th>22</th>\n",
              "      <td>22</td>\n",
              "      <td>Iris-versicolour</td>\n",
              "      <td>1</td>\n",
              "      <td>1.0</td>\n",
              "    </tr>\n",
              "    <tr>\n",
              "      <th>23</th>\n",
              "      <td>23</td>\n",
              "      <td>Iris-setosa</td>\n",
              "      <td>0</td>\n",
              "      <td>0.0</td>\n",
              "    </tr>\n",
              "    <tr>\n",
              "      <th>24</th>\n",
              "      <td>24</td>\n",
              "      <td>Iris-setosa</td>\n",
              "      <td>0</td>\n",
              "      <td>0.0</td>\n",
              "    </tr>\n",
              "    <tr>\n",
              "      <th>25</th>\n",
              "      <td>25</td>\n",
              "      <td>Iris-virginica</td>\n",
              "      <td>2</td>\n",
              "      <td>2.0</td>\n",
              "    </tr>\n",
              "    <tr>\n",
              "      <th>26</th>\n",
              "      <td>26</td>\n",
              "      <td>Iris-virginica</td>\n",
              "      <td>2</td>\n",
              "      <td>2.0</td>\n",
              "    </tr>\n",
              "    <tr>\n",
              "      <th>27</th>\n",
              "      <td>27</td>\n",
              "      <td>Iris-setosa</td>\n",
              "      <td>0</td>\n",
              "      <td>0.0</td>\n",
              "    </tr>\n",
              "    <tr>\n",
              "      <th>28</th>\n",
              "      <td>28</td>\n",
              "      <td>Iris-versicolour</td>\n",
              "      <td>1</td>\n",
              "      <td>1.0</td>\n",
              "    </tr>\n",
              "    <tr>\n",
              "      <th>29</th>\n",
              "      <td>29</td>\n",
              "      <td>Iris-setosa</td>\n",
              "      <td>0</td>\n",
              "      <td>0.0</td>\n",
              "    </tr>\n",
              "  </tbody>\n",
              "</table>\n",
              "</div>\n",
              "    <div class=\"colab-df-buttons\">\n",
              "\n",
              "  <div class=\"colab-df-container\">\n",
              "    <button class=\"colab-df-convert\" onclick=\"convertToInteractive('df-76072169-c8aa-418f-a3cd-1421aff7e3e2')\"\n",
              "            title=\"Convert this dataframe to an interactive table.\"\n",
              "            style=\"display:none;\">\n",
              "\n",
              "  <svg xmlns=\"http://www.w3.org/2000/svg\" height=\"24px\" viewBox=\"0 -960 960 960\">\n",
              "    <path d=\"M120-120v-720h720v720H120Zm60-500h600v-160H180v160Zm220 220h160v-160H400v160Zm0 220h160v-160H400v160ZM180-400h160v-160H180v160Zm440 0h160v-160H620v160ZM180-180h160v-160H180v160Zm440 0h160v-160H620v160Z\"/>\n",
              "  </svg>\n",
              "    </button>\n",
              "\n",
              "  <style>\n",
              "    .colab-df-container {\n",
              "      display:flex;\n",
              "      gap: 12px;\n",
              "    }\n",
              "\n",
              "    .colab-df-convert {\n",
              "      background-color: #E8F0FE;\n",
              "      border: none;\n",
              "      border-radius: 50%;\n",
              "      cursor: pointer;\n",
              "      display: none;\n",
              "      fill: #1967D2;\n",
              "      height: 32px;\n",
              "      padding: 0 0 0 0;\n",
              "      width: 32px;\n",
              "    }\n",
              "\n",
              "    .colab-df-convert:hover {\n",
              "      background-color: #E2EBFA;\n",
              "      box-shadow: 0px 1px 2px rgba(60, 64, 67, 0.3), 0px 1px 3px 1px rgba(60, 64, 67, 0.15);\n",
              "      fill: #174EA6;\n",
              "    }\n",
              "\n",
              "    .colab-df-buttons div {\n",
              "      margin-bottom: 4px;\n",
              "    }\n",
              "\n",
              "    [theme=dark] .colab-df-convert {\n",
              "      background-color: #3B4455;\n",
              "      fill: #D2E3FC;\n",
              "    }\n",
              "\n",
              "    [theme=dark] .colab-df-convert:hover {\n",
              "      background-color: #434B5C;\n",
              "      box-shadow: 0px 1px 3px 1px rgba(0, 0, 0, 0.15);\n",
              "      filter: drop-shadow(0px 1px 2px rgba(0, 0, 0, 0.3));\n",
              "      fill: #FFFFFF;\n",
              "    }\n",
              "  </style>\n",
              "\n",
              "    <script>\n",
              "      const buttonEl =\n",
              "        document.querySelector('#df-76072169-c8aa-418f-a3cd-1421aff7e3e2 button.colab-df-convert');\n",
              "      buttonEl.style.display =\n",
              "        google.colab.kernel.accessAllowed ? 'block' : 'none';\n",
              "\n",
              "      async function convertToInteractive(key) {\n",
              "        const element = document.querySelector('#df-76072169-c8aa-418f-a3cd-1421aff7e3e2');\n",
              "        const dataTable =\n",
              "          await google.colab.kernel.invokeFunction('convertToInteractive',\n",
              "                                                    [key], {});\n",
              "        if (!dataTable) return;\n",
              "\n",
              "        const docLinkHtml = 'Like what you see? Visit the ' +\n",
              "          '<a target=\"_blank\" href=https://colab.research.google.com/notebooks/data_table.ipynb>data table notebook</a>'\n",
              "          + ' to learn more about interactive tables.';\n",
              "        element.innerHTML = '';\n",
              "        dataTable['output_type'] = 'display_data';\n",
              "        await google.colab.output.renderOutput(dataTable, element);\n",
              "        const docLink = document.createElement('div');\n",
              "        docLink.innerHTML = docLinkHtml;\n",
              "        element.appendChild(docLink);\n",
              "      }\n",
              "    </script>\n",
              "  </div>\n",
              "\n",
              "\n",
              "<div id=\"df-dd6d4d24-93f2-40e6-9260-bc381488f3a7\">\n",
              "  <button class=\"colab-df-quickchart\" onclick=\"quickchart('df-dd6d4d24-93f2-40e6-9260-bc381488f3a7')\"\n",
              "            title=\"Suggest charts.\"\n",
              "            style=\"display:none;\">\n",
              "\n",
              "<svg xmlns=\"http://www.w3.org/2000/svg\" height=\"24px\"viewBox=\"0 0 24 24\"\n",
              "     width=\"24px\">\n",
              "    <g>\n",
              "        <path d=\"M19 3H5c-1.1 0-2 .9-2 2v14c0 1.1.9 2 2 2h14c1.1 0 2-.9 2-2V5c0-1.1-.9-2-2-2zM9 17H7v-7h2v7zm4 0h-2V7h2v10zm4 0h-2v-4h2v4z\"/>\n",
              "    </g>\n",
              "</svg>\n",
              "  </button>\n",
              "\n",
              "<style>\n",
              "  .colab-df-quickchart {\n",
              "      --bg-color: #E8F0FE;\n",
              "      --fill-color: #1967D2;\n",
              "      --hover-bg-color: #E2EBFA;\n",
              "      --hover-fill-color: #174EA6;\n",
              "      --disabled-fill-color: #AAA;\n",
              "      --disabled-bg-color: #DDD;\n",
              "  }\n",
              "\n",
              "  [theme=dark] .colab-df-quickchart {\n",
              "      --bg-color: #3B4455;\n",
              "      --fill-color: #D2E3FC;\n",
              "      --hover-bg-color: #434B5C;\n",
              "      --hover-fill-color: #FFFFFF;\n",
              "      --disabled-bg-color: #3B4455;\n",
              "      --disabled-fill-color: #666;\n",
              "  }\n",
              "\n",
              "  .colab-df-quickchart {\n",
              "    background-color: var(--bg-color);\n",
              "    border: none;\n",
              "    border-radius: 50%;\n",
              "    cursor: pointer;\n",
              "    display: none;\n",
              "    fill: var(--fill-color);\n",
              "    height: 32px;\n",
              "    padding: 0;\n",
              "    width: 32px;\n",
              "  }\n",
              "\n",
              "  .colab-df-quickchart:hover {\n",
              "    background-color: var(--hover-bg-color);\n",
              "    box-shadow: 0 1px 2px rgba(60, 64, 67, 0.3), 0 1px 3px 1px rgba(60, 64, 67, 0.15);\n",
              "    fill: var(--button-hover-fill-color);\n",
              "  }\n",
              "\n",
              "  .colab-df-quickchart-complete:disabled,\n",
              "  .colab-df-quickchart-complete:disabled:hover {\n",
              "    background-color: var(--disabled-bg-color);\n",
              "    fill: var(--disabled-fill-color);\n",
              "    box-shadow: none;\n",
              "  }\n",
              "\n",
              "  .colab-df-spinner {\n",
              "    border: 2px solid var(--fill-color);\n",
              "    border-color: transparent;\n",
              "    border-bottom-color: var(--fill-color);\n",
              "    animation:\n",
              "      spin 1s steps(1) infinite;\n",
              "  }\n",
              "\n",
              "  @keyframes spin {\n",
              "    0% {\n",
              "      border-color: transparent;\n",
              "      border-bottom-color: var(--fill-color);\n",
              "      border-left-color: var(--fill-color);\n",
              "    }\n",
              "    20% {\n",
              "      border-color: transparent;\n",
              "      border-left-color: var(--fill-color);\n",
              "      border-top-color: var(--fill-color);\n",
              "    }\n",
              "    30% {\n",
              "      border-color: transparent;\n",
              "      border-left-color: var(--fill-color);\n",
              "      border-top-color: var(--fill-color);\n",
              "      border-right-color: var(--fill-color);\n",
              "    }\n",
              "    40% {\n",
              "      border-color: transparent;\n",
              "      border-right-color: var(--fill-color);\n",
              "      border-top-color: var(--fill-color);\n",
              "    }\n",
              "    60% {\n",
              "      border-color: transparent;\n",
              "      border-right-color: var(--fill-color);\n",
              "    }\n",
              "    80% {\n",
              "      border-color: transparent;\n",
              "      border-right-color: var(--fill-color);\n",
              "      border-bottom-color: var(--fill-color);\n",
              "    }\n",
              "    90% {\n",
              "      border-color: transparent;\n",
              "      border-bottom-color: var(--fill-color);\n",
              "    }\n",
              "  }\n",
              "</style>\n",
              "\n",
              "  <script>\n",
              "    async function quickchart(key) {\n",
              "      const quickchartButtonEl =\n",
              "        document.querySelector('#' + key + ' button');\n",
              "      quickchartButtonEl.disabled = true;  // To prevent multiple clicks.\n",
              "      quickchartButtonEl.classList.add('colab-df-spinner');\n",
              "      try {\n",
              "        const charts = await google.colab.kernel.invokeFunction(\n",
              "            'suggestCharts', [key], {});\n",
              "      } catch (error) {\n",
              "        console.error('Error during call to suggestCharts:', error);\n",
              "      }\n",
              "      quickchartButtonEl.classList.remove('colab-df-spinner');\n",
              "      quickchartButtonEl.classList.add('colab-df-quickchart-complete');\n",
              "    }\n",
              "    (() => {\n",
              "      let quickchartButtonEl =\n",
              "        document.querySelector('#df-dd6d4d24-93f2-40e6-9260-bc381488f3a7 button');\n",
              "      quickchartButtonEl.style.display =\n",
              "        google.colab.kernel.accessAllowed ? 'block' : 'none';\n",
              "    })();\n",
              "  </script>\n",
              "</div>\n",
              "    </div>\n",
              "  </div>\n"
            ],
            "text/plain": [
              "    _id             class  output  hoped_output\n",
              "0     0       Iris-setosa       0           0.0\n",
              "1     1  Iris-versicolour       1           1.0\n",
              "2     2  Iris-versicolour       1           1.0\n",
              "3     3       Iris-setosa       0           0.0\n",
              "4     4  Iris-versicolour       1           1.0\n",
              "5     5  Iris-versicolour       1           1.0\n",
              "6     6  Iris-versicolour       1           1.0\n",
              "7     7  Iris-versicolour       1           1.0\n",
              "8     8       Iris-setosa       0           0.0\n",
              "9     9    Iris-virginica       2           2.0\n",
              "10   10    Iris-virginica       2           2.0\n",
              "11   11  Iris-versicolour       1           1.0\n",
              "12   12  Iris-versicolour       1           1.0\n",
              "13   13  Iris-versicolour       1           1.0\n",
              "14   14       Iris-setosa       0           0.0\n",
              "15   15    Iris-virginica       2           2.0\n",
              "16   16    Iris-virginica       2           1.0\n",
              "17   17  Iris-versicolour       1           1.0\n",
              "18   18  Iris-versicolour       1           1.0\n",
              "19   19  Iris-versicolour       1           1.0\n",
              "20   20  Iris-versicolour       1           1.0\n",
              "21   21    Iris-virginica       2           2.0\n",
              "22   22  Iris-versicolour       1           1.0\n",
              "23   23       Iris-setosa       0           0.0\n",
              "24   24       Iris-setosa       0           0.0\n",
              "25   25    Iris-virginica       2           2.0\n",
              "26   26    Iris-virginica       2           2.0\n",
              "27   27       Iris-setosa       0           0.0\n",
              "28   28  Iris-versicolour       1           1.0\n",
              "29   29       Iris-setosa       0           0.0"
            ]
          },
          "execution_count": 44,
          "metadata": {},
          "output_type": "execute_result"
        }
      ],
      "source": [
        "dataframe"
      ]
    },
    {
      "cell_type": "markdown",
      "metadata": {
        "id": "fOHGBZ3Yu6gI"
      },
      "source": [
        "## Step 3. Accuracy and precision the Multilayer Perceptron"
      ]
    },
    {
      "cell_type": "code",
      "execution_count": null,
      "metadata": {
        "colab": {
          "base_uri": "https://localhost:8080/",
          "height": 516
        },
        "execution": {
          "iopub.execute_input": "2021-11-10T06:30:06.163448Z",
          "iopub.status.busy": "2021-11-10T06:30:06.163131Z",
          "iopub.status.idle": "2021-11-10T06:30:06.307556Z",
          "shell.execute_reply": "2021-11-10T06:30:06.306541Z",
          "shell.execute_reply.started": "2021-11-10T06:30:06.163396Z"
        },
        "id": "xb27YQfOu6gI",
        "outputId": "c3da9712-0c82-44b7-cc3a-93e2823d8b69"
      },
      "outputs": [
        {
          "name": "stdout",
          "output_type": "stream",
          "text": [
            "Porcents : 30.00 % hits and 70.00 % faults\n",
            "Total samples of test 1727\n",
            "*Iris-Setosa: 0 samples\n",
            "*Iris-Versicolour: 12 samples\n",
            "*Iris-Virginica: 9 samples\n"
          ]
        },
        {
          "data": {
            "image/png": "[encoded data removed]",
            "text/plain": [
              "<Figure size 432x288 with 1 Axes>"
            ]
          },
          "metadata": {
            "image/png": {
              "height": 231,
              "width": 349
            }
          },
          "output_type": "display_data"
        }
      ],
      "source": [
        "graph_hits = []\n",
        "print(\"Porcents :\",\"%.2f\"%(hits),\"% hits\",\"and\",\"%.2f\"%(faults),\"% faults\")\n",
        "print(\"Total samples of test\",n_samples)\n",
        "print(\"*Iris-Setosa:\",n_set,\"samples\")\n",
        "print(\"*Iris-Versicolour:\",n_vers,\"samples\")\n",
        "print(\"*Iris-Virginica:\",n_virg,\"samples\")\n",
        "\n",
        "graph_hits.append(hits)\n",
        "graph_hits.append(faults)\n",
        "labels = 'Hits', 'Faults'\n",
        "sizes = [96.5, 3.3]\n",
        "explode = (0, 0.14)\n",
        "\n",
        "fig1, ax1 = plt.subplots()\n",
        "ax1.pie(graph_hits, explode=explode,colors=['green','red'],labels=labels, autopct='%1.1f%%',\n",
        "shadow=True, startangle=90)\n",
        "ax1.axis('equal')\n",
        "plt.show()"
      ]
    },
    {
      "cell_type": "markdown",
      "metadata": {
        "id": "b6gX3277u6gI"
      },
      "source": [
        "## Step 4. Score for each one of the samples"
      ]
    },
    {
      "cell_type": "code",
      "execution_count": null,
      "metadata": {
        "colab": {
          "base_uri": "https://localhost:8080/",
          "height": 527
        },
        "execution": {
          "iopub.execute_input": "2021-11-10T06:30:06.309587Z",
          "iopub.status.busy": "2021-11-10T06:30:06.309174Z",
          "iopub.status.idle": "2021-11-10T06:30:06.501800Z",
          "shell.execute_reply": "2021-11-10T06:30:06.500887Z",
          "shell.execute_reply.started": "2021-11-10T06:30:06.309515Z"
        },
        "id": "WUzJmQ-Bu6gI",
        "outputId": "17657073-e9b2-4ff7-80d6-c296395fb69b"
      },
      "outputs": [
        {
          "ename": "ZeroDivisionError",
          "evalue": "division by zero",
          "output_type": "error",
          "traceback": [
            "\u001b[1;31m---------------------------------------------------------------------------\u001b[0m",
            "\u001b[1;31mZeroDivisionError\u001b[0m                         Traceback (most recent call last)",
            "\u001b[1;32md:\\CODE\\mlp-implementation\\MLP_Implementation.ipynb Cell 46\u001b[0m line \u001b[0;36m<cell line: 1>\u001b[1;34m()\u001b[0m\n\u001b[1;32m----> <a href='vscode-notebook-cell:/d%3A/CODE/mlp-implementation/MLP_Implementation.ipynb#X62sZmlsZQ%3D%3D?line=0'>1</a>\u001b[0m acc_set \u001b[39m=\u001b[39m (score_set\u001b[39m/\u001b[39;49mn_set)\u001b[39m*\u001b[39m\u001b[39m100\u001b[39m\n\u001b[0;32m      <a href='vscode-notebook-cell:/d%3A/CODE/mlp-implementation/MLP_Implementation.ipynb#X62sZmlsZQ%3D%3D?line=1'>2</a>\u001b[0m acc_vers \u001b[39m=\u001b[39m (score_vers\u001b[39m/\u001b[39mn_vers)\u001b[39m*\u001b[39m\u001b[39m100\u001b[39m\n\u001b[0;32m      <a href='vscode-notebook-cell:/d%3A/CODE/mlp-implementation/MLP_Implementation.ipynb#X62sZmlsZQ%3D%3D?line=2'>3</a>\u001b[0m acc_virg \u001b[39m=\u001b[39m (score_virg\u001b[39m/\u001b[39mn_virg)\u001b[39m*\u001b[39m\u001b[39m100\u001b[39m\n",
            "\u001b[1;31mZeroDivisionError\u001b[0m: division by zero"
          ]
        }
      ],
      "source": [
        "acc_set = (score_set/n_set)*100\n",
        "acc_vers = (score_vers/n_vers)*100\n",
        "acc_virg = (score_virg/n_virg)*100\n",
        "print(\"- Acurracy Iris-Setosa:\",\"%.2f\"%acc_set, \"%\")\n",
        "print(\"- Acurracy Iris-Versicolour:\",\"%.2f\"%acc_vers, \"%\")\n",
        "print(\"- Acurracy Iris-Virginica:\",\"%.2f\"%acc_virg, \"%\")\n",
        "names = [\"Setosa\",\"Versicolour\",\"Virginica\"]\n",
        "x1 = [2.0,4.0,6.0]\n",
        "fig, ax = plt.subplots()\n",
        "r1 = plt.bar(x1[0], acc_set,color='orange',label='Iris-Setosa')\n",
        "r2 = plt.bar(x1[1], acc_vers,color='green',label='Iris-Versicolour')\n",
        "r3 = plt.bar(x1[2], acc_virg,color='purple',label='Iris-Virginica')\n",
        "plt.ylabel('Scores %')\n",
        "plt.xticks(x1, names);plt.title('Scores by iris flowers - Multilayer Perceptron')\n",
        "plt.show()"
      ]
    }
  ],
  "metadata": {
    "colab": {
      "provenance": []
    },
    "kernelspec": {
      "display_name": "Python 3",
      "language": "python",
      "name": "python3"
    },
    "language_info": {
      "codemirror_mode": {
        "name": "ipython",
        "version": 3
      },
      "file_extension": ".py",
      "mimetype": "text/x-python",
      "name": "python",
      "nbconvert_exporter": "python",
      "pygments_lexer": "ipython3",
      "version": "3.10.4"
    }
  },
  "nbformat": 4,
  "nbformat_minor": 0
}
